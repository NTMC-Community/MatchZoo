{
 "cells": [
  {
   "cell_type": "code",
   "execution_count": 1,
   "metadata": {
    "ExecuteTime": {
     "end_time": "2018-12-08T16:57:07.787903Z",
     "start_time": "2018-12-08T16:57:05.934043Z"
    }
   },
   "outputs": [
    {
     "name": "stderr",
     "output_type": "stream",
     "text": [
      "Using TensorFlow backend.\n"
     ]
    }
   ],
   "source": [
    "import keras\n",
    "import pandas as pd\n",
    "import numpy as np\n",
    "import matchzoo as mz"
   ]
  },
  {
   "cell_type": "markdown",
   "metadata": {},
   "source": [
    "## Prepare Data "
   ]
  },
  {
   "cell_type": "code",
   "execution_count": 2,
   "metadata": {
    "ExecuteTime": {
     "end_time": "2018-12-08T16:57:08.517028Z",
     "start_time": "2018-12-08T16:57:07.790786Z"
    }
   },
   "outputs": [],
   "source": [
    "train_pack = mz.datasets.wiki_qa.load_data(stage='train')[:1000]\n",
    "dev_pack = mz.datasets.wiki_qa.load_data(stage='dev')[:1000]\n",
    "predict_pack = mz.datasets.wiki_qa.load_data(stage='test').drop_label()[:1000]"
   ]
  },
  {
   "cell_type": "code",
   "execution_count": 3,
   "metadata": {
    "ExecuteTime": {
     "end_time": "2018-12-08T16:57:08.879453Z",
     "start_time": "2018-12-08T16:57:08.518862Z"
    }
   },
   "outputs": [
    {
     "name": "stderr",
     "output_type": "stream",
     "text": [
      "Processing text_left with chain_transform of TokenizeUnit => LowercaseUnit => PuncRemovalUnit => StopRemovalUnit => NgramLetterUnit: 100%|██████████| 96/96 [00:00<00:00, 5011.18it/s]\n",
      "Processing text_right with chain_transform of TokenizeUnit => LowercaseUnit => PuncRemovalUnit => StopRemovalUnit => NgramLetterUnit: 100%|██████████| 1000/1000 [00:00<00:00, 3607.49it/s]\n",
      "Processing text_left with extend: 100%|██████████| 96/96 [00:00<00:00, 108854.61it/s]\n",
      "Processing text_right with extend: 100%|██████████| 1000/1000 [00:00<00:00, 296836.80it/s]\n",
      "Fitting vocabulary unit.: 100%|██████████| 84935/84935 [00:00<00:00, 2779480.30it/s]\n"
     ]
    },
    {
     "data": {
      "text/plain": [
       "<matchzoo.preprocessors.dssm_preprocessor.DSSMPreprocessor at 0x119b5c828>"
      ]
     },
     "execution_count": 3,
     "metadata": {},
     "output_type": "execute_result"
    }
   ],
   "source": [
    "preprocessor = mz.preprocessors.DSSMPreprocessor()\n",
    "preprocessor.fit(train_pack)"
   ]
  },
  {
   "cell_type": "code",
   "execution_count": 4,
   "metadata": {
    "ExecuteTime": {
     "end_time": "2018-12-08T16:57:10.157855Z",
     "start_time": "2018-12-08T16:57:08.882469Z"
    }
   },
   "outputs": [
    {
     "name": "stderr",
     "output_type": "stream",
     "text": [
      "Processing text_left with chain_transform of TokenizeUnit => LowercaseUnit => PuncRemovalUnit => StopRemovalUnit => NgramLetterUnit => WordHashingUnit: 100%|██████████| 96/96 [00:00<00:00, 3350.89it/s]\n",
      "Processing text_right with chain_transform of TokenizeUnit => LowercaseUnit => PuncRemovalUnit => StopRemovalUnit => NgramLetterUnit => WordHashingUnit: 100%|██████████| 1000/1000 [00:00<00:00, 2041.49it/s]\n",
      "Processing text_left with chain_transform of TokenizeUnit => LowercaseUnit => PuncRemovalUnit => StopRemovalUnit => NgramLetterUnit => WordHashingUnit: 100%|██████████| 97/97 [00:00<00:00, 4056.55it/s]\n",
      "Processing text_right with chain_transform of TokenizeUnit => LowercaseUnit => PuncRemovalUnit => StopRemovalUnit => NgramLetterUnit => WordHashingUnit: 100%|██████████| 991/991 [00:00<00:00, 2975.38it/s]\n",
      "Processing text_left with chain_transform of TokenizeUnit => LowercaseUnit => PuncRemovalUnit => StopRemovalUnit => NgramLetterUnit => WordHashingUnit: 100%|██████████| 108/108 [00:00<00:00, 4402.27it/s]\n",
      "Processing text_right with chain_transform of TokenizeUnit => LowercaseUnit => PuncRemovalUnit => StopRemovalUnit => NgramLetterUnit => WordHashingUnit: 100%|██████████| 992/992 [00:00<00:00, 2823.81it/s]\n"
     ]
    }
   ],
   "source": [
    "train_pack_processed = preprocessor.transform(train_pack)\n",
    "dev_pack_processed = preprocessor.transform(dev_pack)\n",
    "predict_pack_processed = preprocessor.transform(predict_pack)"
   ]
  },
  {
   "cell_type": "code",
   "execution_count": 5,
   "metadata": {
    "ExecuteTime": {
     "end_time": "2018-12-08T16:57:10.503612Z",
     "start_time": "2018-12-08T16:57:10.159560Z"
    },
    "collapsed": true
   },
   "outputs": [],
   "source": [
    "train_generator = mz.PairDataGenerator(train_pack_processed, num_dup=5, num_neg=1, batch_size=32)"
   ]
  },
  {
   "cell_type": "markdown",
   "metadata": {
    "ExecuteTime": {
     "end_time": "2018-11-10T02:35:25.875534Z",
     "start_time": "2018-11-10T02:35:25.873244Z"
    }
   },
   "source": [
    "## Build Model"
   ]
  },
  {
   "cell_type": "code",
   "execution_count": 6,
   "metadata": {
    "ExecuteTime": {
     "end_time": "2018-12-08T16:57:10.512931Z",
     "start_time": "2018-12-08T16:57:10.505727Z"
    }
   },
   "outputs": [
    {
     "data": {
      "text/plain": [
       "<matchzoo.losses.rank_hinge_loss.RankHingeLoss at 0x1247ffef0>"
      ]
     },
     "execution_count": 6,
     "metadata": {},
     "output_type": "execute_result"
    }
   ],
   "source": [
    "ranking_task = mz.tasks.Ranking(loss=mz.losses.RankHingeLoss(num_neg=1, margin=1.0))\n",
    "ranking_task.metrics = [\n",
    "    'mae', 'map', 'precision',\n",
    "    mz.metrics.Precision(k=3),\n",
    "    mz.metrics.DiscountedCumulativeGain(k=1),\n",
    "    mz.metrics.DiscountedCumulativeGain(k=3),\n",
    "    mz.metrics.DiscountedCumulativeGain(k=5),\n",
    "    mz.metrics.NormalizedDiscountedCumulativeGain(k=1),\n",
    "    mz.metrics.NormalizedDiscountedCumulativeGain(k=3),\n",
    "    mz.metrics.NormalizedDiscountedCumulativeGain(k=5)\n",
    "]\n",
    "ranking_task.metrics\n",
    "ranking_task.loss"
   ]
  },
  {
   "cell_type": "code",
   "execution_count": 7,
   "metadata": {
    "ExecuteTime": {
     "end_time": "2018-12-08T16:57:10.697585Z",
     "start_time": "2018-12-08T16:57:10.517158Z"
    }
   },
   "outputs": [
    {
     "name": "stdout",
     "output_type": "stream",
     "text": [
      "Parameter \"name\" set to DSSMModel.\n"
     ]
    }
   ],
   "source": [
    "model = mz.models.DSSMModel()\n",
    "model.params['task'] = ranking_task\n",
    "model.params['input_shapes'] = preprocessor.context['input_shapes']\n",
    "model.guess_and_fill_missing_params()\n",
    "model.build()\n",
    "model.compile()"
   ]
  },
  {
   "cell_type": "markdown",
   "metadata": {},
   "source": [
    "## Train Model"
   ]
  },
  {
   "cell_type": "code",
   "execution_count": 8,
   "metadata": {
    "ExecuteTime": {
     "end_time": "2018-12-08T16:57:10.788959Z",
     "start_time": "2018-12-08T16:57:10.701206Z"
    }
   },
   "outputs": [],
   "source": [
    "dev_x, dev_y = dev_pack_processed.unpack()"
   ]
  },
  {
   "cell_type": "code",
   "execution_count": 9,
   "metadata": {
    "ExecuteTime": {
     "end_time": "2018-12-08T16:57:10.795024Z",
     "start_time": "2018-12-08T16:57:10.791711Z"
    }
   },
   "outputs": [],
   "source": [
    "evaluate = model.EvaluateOnCall(model, x=dev_x, y=dev_y, valid_steps=2, batch_size=32)"
   ]
  },
  {
   "cell_type": "code",
   "execution_count": 10,
   "metadata": {
    "ExecuteTime": {
     "end_time": "2018-12-08T16:57:20.145453Z",
     "start_time": "2018-12-08T16:57:10.797738Z"
    },
    "scrolled": false
   },
   "outputs": [
    {
     "name": "stdout",
     "output_type": "stream",
     "text": [
      "Epoch 1/10\n",
      "1000/1000 [==============================] - 1s 1ms/step - loss: 1.0050 - mean_absolute_error: 0.2393\n"
     ]
    },
    {
     "name": "stderr",
     "output_type": "stream",
     "text": [
      "Validation: loss:0.998804 - mean_absolute_error:0.200083 - mean_average_precision(0):0.119550 - precision@1(0):0.072165 - precision@3(0):0.054983 - discounted_cumulative_gain@1(0):0.104112 - discounted_cumulative_gain@3(0):0.174936 - discounted_cumulative_gain@5(0):0.199254 - normalized_discounted_cumulative_gain@1(0):0.072165 - normalized_discounted_cumulative_gain@3(0):0.112758 - normalized_discounted_cumulative_gain@5(0):0.125955\n"
     ]
    },
    {
     "name": "stdout",
     "output_type": "stream",
     "text": [
      "Epoch 2/10\n",
      "1000/1000 [==============================] - 1s 735us/step - loss: 1.0081 - mean_absolute_error: 0.2544\n",
      "Epoch 3/10\n",
      "1000/1000 [==============================] - 1s 871us/step - loss: 0.9754 - mean_absolute_error: 0.2867\n"
     ]
    },
    {
     "name": "stderr",
     "output_type": "stream",
     "text": [
      "Validation: loss:0.970272 - mean_absolute_error:0.289726 - mean_average_precision(0):0.098011 - precision@1(0):0.051546 - precision@3(0):0.044674 - discounted_cumulative_gain@1(0):0.074366 - discounted_cumulative_gain@3(0):0.139700 - discounted_cumulative_gain@5(0):0.176178 - normalized_discounted_cumulative_gain@1(0):0.051546 - normalized_discounted_cumulative_gain@3(0):0.085379 - normalized_discounted_cumulative_gain@5(0):0.107228\n"
     ]
    },
    {
     "name": "stdout",
     "output_type": "stream",
     "text": [
      "Epoch 4/10\n",
      "1000/1000 [==============================] - 1s 543us/step - loss: 0.9788 - mean_absolute_error: 0.3501\n",
      "Epoch 5/10\n",
      "1000/1000 [==============================] - 1s 542us/step - loss: 0.9925 - mean_absolute_error: 0.3784\n"
     ]
    },
    {
     "name": "stderr",
     "output_type": "stream",
     "text": [
      "Validation: loss:1.005884 - mean_absolute_error:0.375100 - mean_average_precision(0):0.104454 - precision@1(0):0.051546 - precision@3(0):0.051546 - discounted_cumulative_gain@1(0):0.074366 - discounted_cumulative_gain@3(0):0.158468 - discounted_cumulative_gain@5(0):0.177033 - normalized_discounted_cumulative_gain@1(0):0.051546 - normalized_discounted_cumulative_gain@3(0):0.096613 - normalized_discounted_cumulative_gain@5(0):0.109482\n"
     ]
    },
    {
     "name": "stdout",
     "output_type": "stream",
     "text": [
      "Epoch 6/10\n",
      "1000/1000 [==============================] - 1s 557us/step - loss: 1.0111 - mean_absolute_error: 0.3937\n",
      "Epoch 7/10\n",
      "1000/1000 [==============================] - 1s 643us/step - loss: 0.9651 - mean_absolute_error: 0.3996\n"
     ]
    },
    {
     "name": "stderr",
     "output_type": "stream",
     "text": [
      "Validation: loss:1.006295 - mean_absolute_error:0.389762 - mean_average_precision(0):0.114078 - precision@1(0):0.061856 - precision@3(0):0.044674 - discounted_cumulative_gain@1(0):0.089239 - discounted_cumulative_gain@3(0):0.151032 - discounted_cumulative_gain@5(0):0.188161 - normalized_discounted_cumulative_gain@1(0):0.061856 - normalized_discounted_cumulative_gain@3(0):0.097963 - normalized_discounted_cumulative_gain@5(0):0.119625\n"
     ]
    },
    {
     "name": "stdout",
     "output_type": "stream",
     "text": [
      "Epoch 8/10\n",
      "1000/1000 [==============================] - 1s 664us/step - loss: 0.9905 - mean_absolute_error: 0.4136\n",
      "Epoch 9/10\n",
      "1000/1000 [==============================] - 1s 612us/step - loss: 0.9864 - mean_absolute_error: 0.3593\n"
     ]
    },
    {
     "name": "stderr",
     "output_type": "stream",
     "text": [
      "Validation: loss:0.976474 - mean_absolute_error:0.286072 - mean_average_precision(0):0.094837 - precision@1(0):0.041237 - precision@3(0):0.037801 - discounted_cumulative_gain@1(0):0.059493 - discounted_cumulative_gain@3(0):0.121285 - discounted_cumulative_gain@5(0):0.164168 - normalized_discounted_cumulative_gain@1(0):0.041237 - normalized_discounted_cumulative_gain@3(0):0.072629 - normalized_discounted_cumulative_gain@5(0):0.099093\n"
     ]
    },
    {
     "name": "stdout",
     "output_type": "stream",
     "text": [
      "Epoch 10/10\n",
      "1000/1000 [==============================] - 1s 640us/step - loss: 1.0184 - mean_absolute_error: 0.2893\n"
     ]
    },
    {
     "data": {
      "text/plain": [
       "<keras.callbacks.History at 0x119b93dd8>"
      ]
     },
     "execution_count": 10,
     "metadata": {},
     "output_type": "execute_result"
    }
   ],
   "source": [
    "model.fit(\n",
    "    *train_pack_processed.unpack(),\n",
    "    epochs=10,\n",
    "    batch_size = 32,\n",
    "    callbacks=[evaluate]\n",
    ")"
   ]
  },
  {
   "cell_type": "code",
   "execution_count": 11,
   "metadata": {
    "ExecuteTime": {
     "end_time": "2018-12-08T16:57:23.309442Z",
     "start_time": "2018-12-08T16:57:20.147485Z"
    }
   },
   "outputs": [
    {
     "name": "stdout",
     "output_type": "stream",
     "text": [
      "Epoch 1/5\n",
      "6/6 [==============================] - 0s 61ms/step - loss: 0.9584 - mean_absolute_error: 0.5250\n"
     ]
    },
    {
     "name": "stderr",
     "output_type": "stream",
     "text": [
      "Validation: loss:1.002492 - mean_absolute_error:0.316171 - mean_average_precision(0):0.119442 - precision@1(0):0.061856 - precision@3(0):0.044674 - discounted_cumulative_gain@1(0):0.089239 - discounted_cumulative_gain@3(0):0.151032 - discounted_cumulative_gain@5(0):0.211828 - normalized_discounted_cumulative_gain@1(0):0.061856 - normalized_discounted_cumulative_gain@3(0):0.099241 - normalized_discounted_cumulative_gain@5(0):0.138121\n"
     ]
    },
    {
     "name": "stdout",
     "output_type": "stream",
     "text": [
      "Epoch 2/5\n",
      "6/6 [==============================] - 0s 38ms/step - loss: 0.8722 - mean_absolute_error: 0.4974\n",
      "Epoch 3/5\n",
      "6/6 [==============================] - 0s 43ms/step - loss: 0.8214 - mean_absolute_error: 0.4949\n"
     ]
    },
    {
     "name": "stderr",
     "output_type": "stream",
     "text": [
      "Validation: loss:0.999009 - mean_absolute_error:0.329531 - mean_average_precision(0):0.124680 - precision@1(0):0.072165 - precision@3(0):0.044674 - discounted_cumulative_gain@1(0):0.104112 - discounted_cumulative_gain@3(0):0.154573 - discounted_cumulative_gain@5(0):0.215370 - normalized_discounted_cumulative_gain@1(0):0.072165 - normalized_discounted_cumulative_gain@3(0):0.105148 - normalized_discounted_cumulative_gain@5(0):0.141672\n"
     ]
    },
    {
     "name": "stdout",
     "output_type": "stream",
     "text": [
      "Epoch 4/5\n",
      "6/6 [==============================] - 0s 28ms/step - loss: 0.7618 - mean_absolute_error: 0.4859\n",
      "Epoch 5/5\n",
      "6/6 [==============================] - 1s 90ms/step - loss: 0.7215 - mean_absolute_error: 0.4764\n"
     ]
    },
    {
     "name": "stderr",
     "output_type": "stream",
     "text": [
      "Validation: loss:0.992476 - mean_absolute_error:0.332337 - mean_average_precision(0):0.122589 - precision@1(0):0.061856 - precision@3(0):0.051546 - discounted_cumulative_gain@1(0):0.089239 - discounted_cumulative_gain@3(0):0.165905 - discounted_cumulative_gain@5(0):0.213890 - normalized_discounted_cumulative_gain@1(0):0.061856 - normalized_discounted_cumulative_gain@3(0):0.109550 - normalized_discounted_cumulative_gain@5(0):0.139551\n"
     ]
    },
    {
     "data": {
      "text/plain": [
       "<keras.callbacks.History at 0x119b93518>"
      ]
     },
     "execution_count": 11,
     "metadata": {},
     "output_type": "execute_result"
    }
   ],
   "source": [
    "model.fit_generator(\n",
    "    train_generator,\n",
    "    epochs=5,\n",
    "    callbacks=[evaluate],    \n",
    "    workers=4, \n",
    "    use_multiprocessing=True\n",
    ")"
   ]
  },
  {
   "cell_type": "markdown",
   "metadata": {},
   "source": [
    "### Training with Dynamic Data Generator"
   ]
  },
  {
   "cell_type": "code",
   "execution_count": 12,
   "metadata": {
    "ExecuteTime": {
     "end_time": "2018-12-08T16:57:26.091180Z",
     "start_time": "2018-12-08T16:57:23.312569Z"
    }
   },
   "outputs": [
    {
     "name": "stderr",
     "output_type": "stream",
     "text": [
      "Processing text_left with chain_transform of TokenizeUnit => LowercaseUnit => PuncRemovalUnit => StopRemovalUnit => NgramLetterUnit: 100%|██████████| 96/96 [00:00<00:00, 6206.70it/s]\n",
      "Processing text_right with chain_transform of TokenizeUnit => LowercaseUnit => PuncRemovalUnit => StopRemovalUnit => NgramLetterUnit: 100%|██████████| 1000/1000 [00:00<00:00, 2777.65it/s]\n",
      "Processing text_left with extend: 100%|██████████| 96/96 [00:00<00:00, 82056.90it/s]\n",
      "Processing text_right with extend: 100%|██████████| 1000/1000 [00:00<00:00, 373990.55it/s]\n",
      "Fitting vocabulary unit.: 100%|██████████| 84935/84935 [00:00<00:00, 2402066.05it/s]\n",
      "Processing text_left with chain_transform of TokenizeUnit => LowercaseUnit => PuncRemovalUnit => StopRemovalUnit => NgramLetterUnit: 100%|██████████| 96/96 [00:00<00:00, 5845.47it/s]\n",
      "Processing text_right with chain_transform of TokenizeUnit => LowercaseUnit => PuncRemovalUnit => StopRemovalUnit => NgramLetterUnit: 100%|██████████| 1000/1000 [00:00<00:00, 3576.16it/s]\n"
     ]
    },
    {
     "name": "stdout",
     "output_type": "stream",
     "text": [
      "Epoch 1/2\n",
      "32/32 [==============================] - 1s 33ms/step - loss: 1.0121 - mean_absolute_error: 0.3502\n",
      "Epoch 2/2\n",
      "32/32 [==============================] - 1s 30ms/step - loss: 1.0009 - mean_absolute_error: 0.4165\n"
     ]
    },
    {
     "data": {
      "text/plain": [
       "<keras.callbacks.History at 0x124930550>"
      ]
     },
     "execution_count": 12,
     "metadata": {},
     "output_type": "execute_result"
    }
   ],
   "source": [
    "pp_no_hashing = mz.preprocessors.DSSMPreprocessor(with_word_hashing=False)\n",
    "train_pack_processed_no_hashing = pp_no_hashing.fit_transform(train_pack)\n",
    "word_hashing_unit = mz.processor_units.WordHashingUnit(pp_no_hashing.context['vocab_unit'].state['term_index'])\n",
    "dynamic_data_generator = mz.data_generator.DynamicDataGenerator(word_hashing_unit.transform,\n",
    "                                                                train_pack_processed_no_hashing)\n",
    "model.fit_generator(dynamic_data_generator, epochs=2, workers=4, use_multiprocessing=True)"
   ]
  },
  {
   "cell_type": "markdown",
   "metadata": {
    "ExecuteTime": {
     "end_time": "2018-11-10T03:13:53.981929Z",
     "start_time": "2018-11-10T03:13:53.979557Z"
    }
   },
   "source": [
    "## Model Predicting "
   ]
  },
  {
   "cell_type": "code",
   "execution_count": 13,
   "metadata": {
    "ExecuteTime": {
     "end_time": "2018-12-08T16:57:26.131767Z",
     "start_time": "2018-12-08T16:57:26.094257Z"
    }
   },
   "outputs": [
    {
     "data": {
      "text/plain": [
       "array([[0.46259156],\n",
       "       [0.46258917],\n",
       "       [0.4625917 ],\n",
       "       [0.46259177],\n",
       "       [0.4625912 ],\n",
       "       [0.46259165],\n",
       "       [0.46257597],\n",
       "       [0.46257755],\n",
       "       [0.46258023],\n",
       "       [0.46258736]], dtype=float32)"
      ]
     },
     "execution_count": 13,
     "metadata": {},
     "output_type": "execute_result"
    }
   ],
   "source": [
    "model.predict(predict_pack_processed[:10].unpack()[0])"
   ]
  },
  {
   "cell_type": "markdown",
   "metadata": {},
   "source": [
    "## Model Evaluating"
   ]
  },
  {
   "cell_type": "code",
   "execution_count": 14,
   "metadata": {
    "ExecuteTime": {
     "end_time": "2018-12-08T16:57:26.625290Z",
     "start_time": "2018-12-08T16:57:26.135271Z"
    }
   },
   "outputs": [
    {
     "name": "stdout",
     "output_type": "stream",
     "text": [
      "1000/1000 [==============================] - 0s 158us/step\n"
     ]
    },
    {
     "data": {
      "text/plain": [
       "{'loss': 0.9582958526611328,\n",
       " 'mean_absolute_error': 0.43928235244750974,\n",
       " mean_average_precision(0): 0.20924723424723424,\n",
       " precision@1(0): 0.15625,\n",
       " precision@3(0): 0.09375,\n",
       " discounted_cumulative_gain@1(0): 0.22542110013890052,\n",
       " discounted_cumulative_gain@3(0): 0.33133051570965705,\n",
       " discounted_cumulative_gain@5(0): 0.3617159505927088,\n",
       " normalized_discounted_cumulative_gain@1(0): 0.15625,\n",
       " normalized_discounted_cumulative_gain@3(0): 0.2047359246651801,\n",
       " normalized_discounted_cumulative_gain@5(0): 0.223416573897238}"
      ]
     },
     "execution_count": 14,
     "metadata": {},
     "output_type": "execute_result"
    }
   ],
   "source": [
    "model.evaluate(*train_pack_processed.unpack())"
   ]
  },
  {
   "cell_type": "markdown",
   "metadata": {},
   "source": [
    "## Automation (under construction)"
   ]
  },
  {
   "cell_type": "code",
   "execution_count": 15,
   "metadata": {
    "ExecuteTime": {
     "end_time": "2018-12-08T16:57:26.634871Z",
     "start_time": "2018-12-08T16:57:26.627249Z"
    },
    "collapsed": true
   },
   "outputs": [],
   "source": [
    "# train_pack.shuffle(inplace=True)\n",
    "\n",
    "# divider = int(len(train_pack) * 0.9)\n",
    "# train_pack_divided = train_pack[:divider]\n",
    "# test_pack_divided = train_pack[divider:]\n",
    "\n",
    "# director = mz.Director()\n",
    "# director.params['models'] = [\n",
    "#     mz.models.DenseBaselineModel(),\n",
    "#     mz.models.DSSMModel(),\n",
    "#     mz.models.ArcIModel(),\n",
    "#     mz.models.KNRMModel(),\n",
    "#     mz.models.ConvKNRMModel(),\n",
    "#     mz.models.DUETModel()\n",
    "# ]\n",
    "# director.params['evals_per_model'] = 3\n",
    "# director.params['train_pack'] = train_pack_divided\n",
    "# director.params['test_pack'] = test_pack_divided\n",
    "# director.params['task'] = ranking_task\n",
    "\n",
    "# trials = director.action(verbose=1)\n",
    "\n",
    "# for trial in trials:\n",
    "#     print('Model Name:', trial['model_params']['name'])\n",
    "#     print(\"Hyper Parameter Sampled:\" , trial['sampled_params'])\n",
    "#     print('Loss:', trial['loss'])\n",
    "#     print()"
   ]
  },
  {
   "cell_type": "markdown",
   "metadata": {
    "ExecuteTime": {
     "end_time": "2018-11-23T16:16:04.470316Z",
     "start_time": "2018-11-23T16:16:04.468442Z"
    }
   },
   "source": [
    "## Misc"
   ]
  },
  {
   "cell_type": "markdown",
   "metadata": {
    "ExecuteTime": {
     "end_time": "2018-11-23T16:16:20.633032Z",
     "start_time": "2018-11-23T16:16:20.631126Z"
    }
   },
   "source": [
    "### Load Embedding Matrix"
   ]
  },
  {
   "cell_type": "code",
   "execution_count": 16,
   "metadata": {
    "ExecuteTime": {
     "end_time": "2018-12-08T16:57:26.786176Z",
     "start_time": "2018-12-08T16:57:26.637198Z"
    }
   },
   "outputs": [
    {
     "name": "stdout",
     "output_type": "stream",
     "text": [
      "Parameter \"name\" set to ArcIModel.\n",
      "Parameter \"input_shapes\" set to [(30,), (30,)].\n",
      "Parameter \"embedding_trainable\" set to True.\n"
     ]
    }
   ],
   "source": [
    "model = mz.models.ArcIModel()\n",
    "model.params['task'] = ranking_task\n",
    "term_index = preprocessor.context['vocab_unit'].state['term_index']\n",
    "model.params['embedding_input_dim'] = len(term_index) + 1\n",
    "model.guess_and_fill_missing_params()\n",
    "model.build()\n",
    "model.compile()"
   ]
  },
  {
   "cell_type": "code",
   "execution_count": 17,
   "metadata": {
    "ExecuteTime": {
     "end_time": "2018-12-08T16:57:26.974879Z",
     "start_time": "2018-12-08T16:57:26.788003Z"
    },
    "collapsed": true
   },
   "outputs": [],
   "source": [
    "vocab = preprocessor.context['vocab_unit'].state['term_index']\n",
    "embedding_matrix = np.random.uniform(\n",
    "    -0.2, 0.2,\n",
    "    (model.params['embedding_input_dim'], model.params['embedding_output_dim'])\n",
    ")\n",
    "model.load_embedding_matrix(embedding_matrix)"
   ]
  }
 ],
 "metadata": {
  "hide_input": false,
  "kernelspec": {
   "display_name": "matchzoo",
   "language": "python",
   "name": "matchzoo"
  },
  "language_info": {
   "codemirror_mode": {
    "name": "ipython",
    "version": 3
   },
   "file_extension": ".py",
   "mimetype": "text/x-python",
   "name": "python",
   "nbconvert_exporter": "python",
   "pygments_lexer": "ipython3",
   "version": "3.6.3"
  },
  "toc": {
   "nav_menu": {},
   "number_sections": true,
   "sideBar": true,
   "skip_h1_title": false,
   "toc_cell": false,
   "toc_position": {},
   "toc_section_display": "block",
   "toc_window_display": false
  },
  "varInspector": {
   "cols": {
    "lenName": 16,
    "lenType": 16,
    "lenVar": 40
   },
   "kernels_config": {
    "python": {
     "delete_cmd_postfix": "",
     "delete_cmd_prefix": "del ",
     "library": "var_list.py",
     "varRefreshCmd": "print(var_dic_list())"
    },
    "r": {
     "delete_cmd_postfix": ") ",
     "delete_cmd_prefix": "rm(",
     "library": "var_list.r",
     "varRefreshCmd": "cat(var_dic_list()) "
    }
   },
   "types_to_exclude": [
    "module",
    "function",
    "builtin_function_or_method",
    "instance",
    "_Feature"
   ],
   "window_display": false
  }
 },
 "nbformat": 4,
 "nbformat_minor": 2
}
