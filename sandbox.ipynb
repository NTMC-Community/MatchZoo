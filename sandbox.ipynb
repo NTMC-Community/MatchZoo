{
 "cells": [
  {
   "cell_type": "code",
   "execution_count": 1,
   "metadata": {
    "ExecuteTime": {
     "end_time": "2018-12-02T04:07:01.549018Z",
     "start_time": "2018-12-02T04:06:59.791034Z"
    }
   },
   "outputs": [
    {
     "name": "stderr",
     "output_type": "stream",
     "text": [
      "Using TensorFlow backend.\n"
     ]
    }
   ],
   "source": [
    "import keras\n",
    "import pandas as pd\n",
    "import numpy as np\n",
    "import matchzoo as mz"
   ]
  },
  {
   "cell_type": "markdown",
   "metadata": {},
   "source": [
    "## Read Data "
   ]
  },
  {
   "cell_type": "code",
   "execution_count": 2,
   "metadata": {
    "ExecuteTime": {
     "end_time": "2018-12-02T04:07:01.617584Z",
     "start_time": "2018-12-02T04:07:01.550663Z"
    }
   },
   "outputs": [],
   "source": [
    "def read_data(path, include_label):\n",
    "    def scan_file():\n",
    "        with open(path) as in_file:\n",
    "            next(in_file)  # skip header\n",
    "            for l in in_file:\n",
    "                yield l.strip().split('\\t')\n",
    "    if include_label:\n",
    "        return [(qid, did, q, d, float(label)) for qid, q, _, _, did, d, label in scan_file()]\n",
    "    else:\n",
    "        return [(qid, did, q, d) for qid, q, _, _, did, d, _ in scan_file()]\n",
    "\n",
    "train = read_data('data/WikiQA/WikiQACorpus/WikiQA-train.tsv', include_label=True)\n",
    "predict  = read_data('data/WikiQA/WikiQACorpus/WikiQA-test.tsv', include_label=False)"
   ]
  },
  {
   "cell_type": "markdown",
   "metadata": {},
   "source": [
    "## Preprocess Data"
   ]
  },
  {
   "cell_type": "code",
   "execution_count": 3,
   "metadata": {
    "ExecuteTime": {
     "end_time": "2018-12-02T04:07:01.641088Z",
     "start_time": "2018-12-02T04:07:01.619182Z"
    }
   },
   "outputs": [],
   "source": [
    "train_pack = mz.pack(train[:1000])\n",
    "valid_pack = mz.pack(train[1000:2000])\n",
    "predict_pack = mz.pack(predict[:1000])"
   ]
  },
  {
   "cell_type": "code",
   "execution_count": 4,
   "metadata": {
    "ExecuteTime": {
     "end_time": "2018-12-02T04:07:01.988796Z",
     "start_time": "2018-12-02T04:07:01.644224Z"
    }
   },
   "outputs": [
    {
     "name": "stderr",
     "output_type": "stream",
     "text": [
      "Processing text_left with chain_transform of TokenizeUnit => LowercaseUnit => PuncRemovalUnit => StopRemovalUnit => NgramLetterUnit: 100%|██████████| 96/96 [00:00<00:00, 2999.99it/s]\n",
      "Processing text_right with chain_transform of TokenizeUnit => LowercaseUnit => PuncRemovalUnit => StopRemovalUnit => NgramLetterUnit: 100%|██████████| 1000/1000 [00:00<00:00, 2746.46it/s]\n",
      "Processing text_left with extend: 100%|██████████| 96/96 [00:00<00:00, 120482.70it/s]\n",
      "Processing text_right with extend: 100%|██████████| 1000/1000 [00:00<00:00, 262735.15it/s]\n",
      "Fitting vocabulary unit.: 100%|██████████| 84935/84935 [00:00<00:00, 1715057.70it/s]\n"
     ]
    },
    {
     "data": {
      "text/plain": [
       "<matchzoo.preprocessors.dssm_preprocessor.DSSMPreprocessor at 0x11b119e48>"
      ]
     },
     "execution_count": 4,
     "metadata": {},
     "output_type": "execute_result"
    }
   ],
   "source": [
    "preprocessor = mz.preprocessors.DSSMPreprocessor()\n",
    "preprocessor.fit(train_pack)"
   ]
  },
  {
   "cell_type": "code",
   "execution_count": 5,
   "metadata": {
    "ExecuteTime": {
     "end_time": "2018-12-02T04:07:02.659137Z",
     "start_time": "2018-12-02T04:07:01.990349Z"
    }
   },
   "outputs": [
    {
     "name": "stderr",
     "output_type": "stream",
     "text": [
      "Processing text_left with chain_transform of TokenizeUnit => LowercaseUnit => PuncRemovalUnit => StopRemovalUnit => NgramLetterUnit => WordHashingUnit: 100%|██████████| 96/96 [00:00<00:00, 4018.90it/s]\n",
      "Processing text_right with chain_transform of TokenizeUnit => LowercaseUnit => PuncRemovalUnit => StopRemovalUnit => NgramLetterUnit => WordHashingUnit: 100%|██████████| 1000/1000 [00:00<00:00, 2271.01it/s]\n",
      "Processing text_left with chain_transform of TokenizeUnit => LowercaseUnit => PuncRemovalUnit => StopRemovalUnit => NgramLetterUnit => WordHashingUnit: 100%|██████████| 101/101 [00:00<00:00, 4094.69it/s]\n",
      "Processing text_right with chain_transform of TokenizeUnit => LowercaseUnit => PuncRemovalUnit => StopRemovalUnit => NgramLetterUnit => WordHashingUnit: 100%|██████████| 988/988 [00:00<00:00, 2198.27it/s]\n",
      "Processing text_left with chain_transform of TokenizeUnit => LowercaseUnit => PuncRemovalUnit => StopRemovalUnit => NgramLetterUnit => WordHashingUnit: 100%|██████████| 108/108 [00:00<00:00, 4163.00it/s]\n",
      "Processing text_right with chain_transform of TokenizeUnit => LowercaseUnit => PuncRemovalUnit => StopRemovalUnit => NgramLetterUnit => WordHashingUnit: 100%|██████████| 992/992 [00:00<00:00, 2249.86it/s]\n"
     ]
    }
   ],
   "source": [
    "train_pack_processed = preprocessor.transform(train_pack)\n",
    "valid_pack_processed = preprocessor.transform(valid_pack)\n",
    "predict_pack_processed = preprocessor.transform(predict_pack)"
   ]
  },
  {
   "cell_type": "markdown",
   "metadata": {
    "ExecuteTime": {
     "end_time": "2018-11-10T02:34:54.973094Z",
     "start_time": "2018-11-10T02:34:54.970086Z"
    }
   },
   "source": [
    "## Generate Data"
   ]
  },
  {
   "cell_type": "code",
   "execution_count": 6,
   "metadata": {
    "ExecuteTime": {
     "end_time": "2018-12-02T04:07:02.663287Z",
     "start_time": "2018-12-02T04:07:02.660863Z"
    }
   },
   "outputs": [],
   "source": [
    "train_generator = mz.PairDataGenerator(train_pack_processed, num_dup=5, num_neg=1, batch_size=32)"
   ]
  },
  {
   "cell_type": "markdown",
   "metadata": {
    "ExecuteTime": {
     "end_time": "2018-11-10T02:35:25.875534Z",
     "start_time": "2018-11-10T02:35:25.873244Z"
    }
   },
   "source": [
    "## Model Building"
   ]
  },
  {
   "cell_type": "code",
   "execution_count": 7,
   "metadata": {
    "ExecuteTime": {
     "end_time": "2018-12-02T04:07:02.674089Z",
     "start_time": "2018-12-02T04:07:02.664827Z"
    }
   },
   "outputs": [
    {
     "data": {
      "text/plain": [
       "<matchzoo.losses.rank_hinge_loss.RankHingeLoss at 0x11b119828>"
      ]
     },
     "execution_count": 7,
     "metadata": {},
     "output_type": "execute_result"
    }
   ],
   "source": [
    "ranking_task = mz.tasks.Ranking(loss=mz.losses.RankHingeLoss(num_neg=1, margin=1.0))\n",
    "ranking_task.metrics = [\n",
    "    'mae', 'map', 'precision',\n",
    "    mz.metrics.Precision(k=3),\n",
    "    mz.metrics.DiscountedCumulativeGain(k=1),\n",
    "    mz.metrics.DiscountedCumulativeGain(k=3),\n",
    "    mz.metrics.DiscountedCumulativeGain(k=5),\n",
    "    mz.metrics.NormalizedDiscountedCumulativeGain(k=1),\n",
    "    mz.metrics.NormalizedDiscountedCumulativeGain(k=3),\n",
    "    mz.metrics.NormalizedDiscountedCumulativeGain(k=5)\n",
    "]\n",
    "ranking_task.metrics\n",
    "ranking_task.loss"
   ]
  },
  {
   "cell_type": "code",
   "execution_count": 8,
   "metadata": {
    "ExecuteTime": {
     "end_time": "2018-12-02T04:07:02.796772Z",
     "start_time": "2018-12-02T04:07:02.677216Z"
    }
   },
   "outputs": [
    {
     "name": "stdout",
     "output_type": "stream",
     "text": [
      "Parameter \"name\" set to DSSMModel.\n"
     ]
    }
   ],
   "source": [
    "model = mz.models.DSSMModel()\n",
    "model.params['task'] = ranking_task\n",
    "model.params['input_shapes'] = preprocessor.context['input_shapes']\n",
    "model.guess_and_fill_missing_params()\n",
    "model.build()\n",
    "model.compile()"
   ]
  },
  {
   "cell_type": "markdown",
   "metadata": {},
   "source": [
    "## Model Training"
   ]
  },
  {
   "cell_type": "code",
   "execution_count": 9,
   "metadata": {},
   "outputs": [],
   "source": [
    "val_x, val_y = valid_pack_processed.unpack()"
   ]
  },
  {
   "cell_type": "code",
   "execution_count": 10,
   "metadata": {},
   "outputs": [],
   "source": [
    "evaluate = model.EvaluateOnCall(x=val_x, y=val_y, metrics=ranking_task.metrics, batch_size=32)"
   ]
  },
  {
   "cell_type": "code",
   "execution_count": 11,
   "metadata": {
    "ExecuteTime": {
     "end_time": "2018-12-02T04:07:04.380002Z",
     "start_time": "2018-12-02T04:07:02.798742Z"
    },
    "scrolled": false
   },
   "outputs": [
    {
     "name": "stdout",
     "output_type": "stream",
     "text": [
      "Train on 1000 samples, validate on 1000 samples\n",
      "Epoch 1/10\n",
      "1000/1000 [==============================] - 1s 1ms/step - loss: 1.0122 - mean_absolute_error: 0.2517 - val_loss: 0.9973 - val_mean_absolute_error: 0.3646\n",
      "Validation: loss:0.997307 - mean_absolute_error:0.364591 - mean_average_precision(0):0.112981 - precision@1(0):0.049505 - precision@3(0):0.049505 - discounted_cumulative_gain@1(0):0.071421 - discounted_cumulative_gain@3(0):0.150322 - discounted_cumulative_gain@5(0):0.196407 - normalized_discounted_cumulative_gain@1(0):0.049505 - normalized_discounted_cumulative_gain@3(0):0.080504 - normalized_discounted_cumulative_gain@5(0):0.106403\n",
      "Epoch 2/10\n",
      "1000/1000 [==============================] - 1s 628us/step - loss: 0.9791 - mean_absolute_error: 0.2975 - val_loss: 1.0060 - val_mean_absolute_error: 0.2968\n",
      "Validation: loss:1.005984 - mean_absolute_error:0.296824 - mean_average_precision(0):0.114118 - precision@1(0):0.049505 - precision@3(0):0.056106 - discounted_cumulative_gain@1(0):0.071421 - discounted_cumulative_gain@3(0):0.162736 - discounted_cumulative_gain@5(0):0.221750 - normalized_discounted_cumulative_gain@1(0):0.049505 - normalized_discounted_cumulative_gain@3(0):0.086679 - normalized_discounted_cumulative_gain@5(0):0.111222\n",
      "Epoch 3/10\n",
      "1000/1000 [==============================] - 1s 636us/step - loss: 1.0414 - mean_absolute_error: 0.3058 - val_loss: 0.9913 - val_mean_absolute_error: 0.3015\n",
      "Validation: loss:0.991292 - mean_absolute_error:0.301495 - mean_average_precision(0):0.137744 - precision@1(0):0.069307 - precision@3(0):0.072607 - discounted_cumulative_gain@1(0):0.099989 - discounted_cumulative_gain@3(0):0.220211 - discounted_cumulative_gain@5(0):0.262648 - normalized_discounted_cumulative_gain@1(0):0.069307 - normalized_discounted_cumulative_gain@3(0):0.119186 - normalized_discounted_cumulative_gain@5(0):0.139570\n",
      "Epoch 4/10\n",
      "1000/1000 [==============================] - 1s 654us/step - loss: 0.9897 - mean_absolute_error: 0.3454 - val_loss: 1.0000 - val_mean_absolute_error: 0.3719\n",
      "Validation: loss:0.999986 - mean_absolute_error:0.371874 - mean_average_precision(0):0.142730 - precision@1(0):0.069307 - precision@3(0):0.072607 - discounted_cumulative_gain@1(0):0.099989 - discounted_cumulative_gain@3(0):0.225822 - discounted_cumulative_gain@5(0):0.278684 - normalized_discounted_cumulative_gain@1(0):0.069307 - normalized_discounted_cumulative_gain@3(0):0.126566 - normalized_discounted_cumulative_gain@5(0):0.152388\n",
      "Epoch 5/10\n",
      "1000/1000 [==============================] - 1s 843us/step - loss: 1.0113 - mean_absolute_error: 0.3666 - val_loss: 0.9964 - val_mean_absolute_error: 0.3784\n",
      "Validation: loss:0.996363 - mean_absolute_error:0.378357 - mean_average_precision(0):0.127073 - precision@1(0):0.039604 - precision@3(0):0.075908 - discounted_cumulative_gain@1(0):0.057136 - discounted_cumulative_gain@3(0):0.217148 - discounted_cumulative_gain@5(0):0.258333 - normalized_discounted_cumulative_gain@1(0):0.039604 - normalized_discounted_cumulative_gain@3(0):0.116761 - normalized_discounted_cumulative_gain@5(0):0.135801\n",
      "Epoch 6/10\n",
      "1000/1000 [==============================] - 1s 675us/step - loss: 0.9983 - mean_absolute_error: 0.3645 - val_loss: 1.0031 - val_mean_absolute_error: 0.3874\n",
      "Validation: loss:1.003122 - mean_absolute_error:0.387421 - mean_average_precision(0):0.125843 - precision@1(0):0.069307 - precision@3(0):0.062706 - discounted_cumulative_gain@1(0):0.099989 - discounted_cumulative_gain@3(0):0.191304 - discounted_cumulative_gain@5(0):0.257096 - normalized_discounted_cumulative_gain@1(0):0.069307 - normalized_discounted_cumulative_gain@3(0):0.101541 - normalized_discounted_cumulative_gain@5(0):0.136157\n",
      "Epoch 7/10\n",
      "1000/1000 [==============================] - 1s 704us/step - loss: 1.0118 - mean_absolute_error: 0.3754 - val_loss: 1.0023 - val_mean_absolute_error: 0.3858\n",
      "Validation: loss:1.002319 - mean_absolute_error:0.385777 - mean_average_precision(0):0.133105 - precision@1(0):0.069307 - precision@3(0):0.066007 - discounted_cumulative_gain@1(0):0.099989 - discounted_cumulative_gain@3(0):0.209667 - discounted_cumulative_gain@5(0):0.268056 - normalized_discounted_cumulative_gain@1(0):0.069307 - normalized_discounted_cumulative_gain@3(0):0.110664 - normalized_discounted_cumulative_gain@5(0):0.138329\n",
      "Epoch 8/10\n",
      "1000/1000 [==============================] - 1s 895us/step - loss: 0.9975 - mean_absolute_error: 0.4161 - val_loss: 0.9677 - val_mean_absolute_error: 0.4354\n",
      "Validation: loss:0.967663 - mean_absolute_error:0.435400 - mean_average_precision(0):0.129039 - precision@1(0):0.059406 - precision@3(0):0.062706 - discounted_cumulative_gain@1(0):0.085705 - discounted_cumulative_gain@3(0):0.189773 - discounted_cumulative_gain@5(0):0.242635 - normalized_discounted_cumulative_gain@1(0):0.059406 - normalized_discounted_cumulative_gain@3(0):0.104206 - normalized_discounted_cumulative_gain@5(0):0.125609\n",
      "Epoch 9/10\n",
      "1000/1000 [==============================] - 1s 822us/step - loss: 1.0162 - mean_absolute_error: 0.4363 - val_loss: 0.9847 - val_mean_absolute_error: 0.4381\n",
      "Validation: loss:0.984730 - mean_absolute_error:0.438131 - mean_average_precision(0):0.147432 - precision@1(0):0.079208 - precision@3(0):0.075908 - discounted_cumulative_gain@1(0):0.114273 - discounted_cumulative_gain@3(0):0.234495 - discounted_cumulative_gain@5(0):0.276306 - normalized_discounted_cumulative_gain@1(0):0.079208 - normalized_discounted_cumulative_gain@3(0):0.131876 - normalized_discounted_cumulative_gain@5(0):0.148151\n",
      "Epoch 10/10\n",
      "1000/1000 [==============================] - 1s 830us/step - loss: 1.0130 - mean_absolute_error: 0.4259 - val_loss: 1.0401 - val_mean_absolute_error: 0.4170\n",
      "Validation: loss:1.040144 - mean_absolute_error:0.416984 - mean_average_precision(0):0.138819 - precision@1(0):0.069307 - precision@3(0):0.062706 - discounted_cumulative_gain@1(0):0.099989 - discounted_cumulative_gain@3(0):0.198785 - discounted_cumulative_gain@5(0):0.268225 - normalized_discounted_cumulative_gain@1(0):0.069307 - normalized_discounted_cumulative_gain@3(0):0.116209 - normalized_discounted_cumulative_gain@5(0):0.147574\n"
     ]
    },
    {
     "data": {
      "text/plain": [
       "<keras.callbacks.History at 0x11c4e7390>"
      ]
     },
     "execution_count": 11,
     "metadata": {},
     "output_type": "execute_result"
    }
   ],
   "source": [
    "model.fit(*train_pack_processed.unpack(),\n",
    "          epochs=10, \n",
    "          validation_data=(val_x, val_y), \n",
    "          batch_size = 32,\n",
    "          callbacks=[evaluate])"
   ]
  },
  {
   "cell_type": "code",
   "execution_count": 14,
   "metadata": {
    "ExecuteTime": {
     "end_time": "2018-12-02T04:07:05.738574Z",
     "start_time": "2018-12-02T04:07:04.381742Z"
    }
   },
   "outputs": [
    {
     "name": "stdout",
     "output_type": "stream",
     "text": [
      "Epoch 1/2\n",
      "5/6 [========================>.....] - ETA: 0s - loss: 0.8253 - mean_absolute_error: 0.7166Epoch 1/2\n",
      "6/6 [==============================] - 0s 74ms/step - loss: 0.8299 - mean_absolute_error: 0.7189 - val_loss: 1.0412 - val_mean_absolute_error: 0.4269\n",
      "Validation: loss:1.041201 - mean_absolute_error:0.426855 - mean_average_precision(0):0.159682 - precision@1(0):0.099010 - precision@3(0):0.089109 - discounted_cumulative_gain@1(0):0.142841 - discounted_cumulative_gain@3(0):0.279218 - discounted_cumulative_gain@5(0):0.313625 - normalized_discounted_cumulative_gain@1(0):0.099010 - normalized_discounted_cumulative_gain@3(0):0.151900 - normalized_discounted_cumulative_gain@5(0):0.166697\n",
      "Epoch 2/2\n",
      "6/6 [==============================] - 0s 56ms/step - loss: 0.8068 - mean_absolute_error: 0.7223 - val_loss: 1.0438 - val_mean_absolute_error: 0.4381\n",
      "Validation: loss:1.043772 - mean_absolute_error:0.438119 - mean_average_precision(0):0.163981 - precision@1(0):0.108911 - precision@3(0):0.085809 - discounted_cumulative_gain@1(0):0.157125 - discounted_cumulative_gain@3(0):0.277348 - discounted_cumulative_gain@5(0):0.323432 - normalized_discounted_cumulative_gain@1(0):0.108911 - normalized_discounted_cumulative_gain@3(0):0.148688 - normalized_discounted_cumulative_gain@5(0):0.173229\n"
     ]
    },
    {
     "data": {
      "text/plain": [
       "<keras.callbacks.History at 0x11c44da90>"
      ]
     },
     "execution_count": 14,
     "metadata": {},
     "output_type": "execute_result"
    }
   ],
   "source": [
    "model.fit_generator(train_generator,\n",
    "                    epochs=2,\n",
    "                    validation_data=(val_x, val_y),\n",
    "                    callbacks=[evaluate],    \n",
    "                    workers=4, \n",
    "                    use_multiprocessing=True)"
   ]
  },
  {
   "cell_type": "markdown",
   "metadata": {},
   "source": [
    "### Training with Dynamic Data Generator"
   ]
  },
  {
   "cell_type": "code",
   "execution_count": 14,
   "metadata": {
    "ExecuteTime": {
     "end_time": "2018-12-02T04:07:07.838828Z",
     "start_time": "2018-12-02T04:07:05.741621Z"
    }
   },
   "outputs": [
    {
     "name": "stderr",
     "output_type": "stream",
     "text": [
      "Processing text_left with chain_transform of TokenizeUnit => LowercaseUnit => PuncRemovalUnit => StopRemovalUnit => NgramLetterUnit: 100%|██████████| 96/96 [00:00<00:00, 5329.13it/s]\n",
      "Processing text_right with chain_transform of TokenizeUnit => LowercaseUnit => PuncRemovalUnit => StopRemovalUnit => NgramLetterUnit: 100%|██████████| 1000/1000 [00:00<00:00, 2799.44it/s]\n",
      "Processing text_left with extend: 100%|██████████| 96/96 [00:00<00:00, 108942.96it/s]\n",
      "Processing text_right with extend: 100%|██████████| 1000/1000 [00:00<00:00, 309200.44it/s]\n",
      "Fitting vocabulary unit.: 100%|██████████| 84935/84935 [00:00<00:00, 1691129.58it/s]\n",
      "Processing text_left with chain_transform of TokenizeUnit => LowercaseUnit => PuncRemovalUnit => StopRemovalUnit => NgramLetterUnit: 100%|██████████| 96/96 [00:00<00:00, 5307.36it/s]\n",
      "Processing text_right with chain_transform of TokenizeUnit => LowercaseUnit => PuncRemovalUnit => StopRemovalUnit => NgramLetterUnit: 100%|██████████| 1000/1000 [00:00<00:00, 2840.66it/s]\n"
     ]
    },
    {
     "name": "stdout",
     "output_type": "stream",
     "text": [
      "Epoch 1/2\n",
      "32/32 [==============================] - 1s 32ms/step - loss: 1.0526 - mean_absolute_error: 0.4490\n",
      "Epoch 2/2\n",
      "32/32 [==============================] - 1s 26ms/step - loss: 1.0055 - mean_absolute_error: 0.4720\n"
     ]
    },
    {
     "data": {
      "text/plain": [
       "<keras.callbacks.History at 0x11fecee48>"
      ]
     },
     "execution_count": 14,
     "metadata": {},
     "output_type": "execute_result"
    }
   ],
   "source": [
    "pp_no_hashing = mz.preprocessors.DSSMPreprocessor(with_word_hashing=False)\n",
    "train_pack_processed_no_hashing = pp_no_hashing.fit_transform(train_pack)\n",
    "word_hashing_unit = mz.processor_units.WordHashingUnit(pp_no_hashing.context['vocab_unit'].state['term_index'])\n",
    "dynamic_data_generator = mz.data_generator.DynamicDataGenerator(word_hashing_unit.transform,\n",
    "                                                                train_pack_processed_no_hashing)\n",
    "model.fit_generator(dynamic_data_generator, epochs=2, workers=4, use_multiprocessing=True)"
   ]
  },
  {
   "cell_type": "markdown",
   "metadata": {
    "ExecuteTime": {
     "end_time": "2018-11-10T03:13:53.981929Z",
     "start_time": "2018-11-10T03:13:53.979557Z"
    }
   },
   "source": [
    "## Model Predicting "
   ]
  },
  {
   "cell_type": "code",
   "execution_count": 15,
   "metadata": {
    "ExecuteTime": {
     "end_time": "2018-12-02T04:07:07.933673Z",
     "start_time": "2018-12-02T04:07:07.841938Z"
    }
   },
   "outputs": [
    {
     "data": {
      "text/plain": [
       "array([[-0.46837702],\n",
       "       [-0.4721158 ],\n",
       "       [-0.4679667 ],\n",
       "       [-0.471246  ],\n",
       "       [-0.47275394],\n",
       "       [-0.46788743],\n",
       "       [ 0.470007  ],\n",
       "       [ 0.4704158 ],\n",
       "       [ 0.47078598],\n",
       "       [ 0.46921322]], dtype=float32)"
      ]
     },
     "execution_count": 15,
     "metadata": {},
     "output_type": "execute_result"
    }
   ],
   "source": [
    "model.predict(predict_pack_processed[:10].unpack()[0])"
   ]
  },
  {
   "cell_type": "markdown",
   "metadata": {},
   "source": [
    "## Model Evaluating"
   ]
  },
  {
   "cell_type": "code",
   "execution_count": 16,
   "metadata": {
    "ExecuteTime": {
     "end_time": "2018-12-02T04:07:08.321195Z",
     "start_time": "2018-12-02T04:07:07.936301Z"
    }
   },
   "outputs": [
    {
     "name": "stdout",
     "output_type": "stream",
     "text": [
      "1000/1000 [==============================] - 0s 88us/step\n"
     ]
    },
    {
     "data": {
      "text/plain": [
       "{'loss': 1.0000682692527771,\n",
       " 'mean_absolute_error': 0.4665798506736755,\n",
       " 'mean_average_precision(0)': 0.16003573972323973,\n",
       " 'precision@1(0)': 0.10416666666666667,\n",
       " 'precision@3(0)': 0.06944444444444443,\n",
       " 'discounted_cumulative_gain@1(0)': 0.15028073342593368,\n",
       " 'discounted_cumulative_gain@3(0)': 0.23722683177529777,\n",
       " 'discounted_cumulative_gain@5(0)': 0.27474309210176595,\n",
       " 'normalized_discounted_cumulative_gain@1(0)': 0.10416666666666667,\n",
       " 'normalized_discounted_cumulative_gain@3(0)': 0.14227239476773954,\n",
       " 'normalized_discounted_cumulative_gain@5(0)': 0.16827668483818384}"
      ]
     },
     "execution_count": 16,
     "metadata": {},
     "output_type": "execute_result"
    }
   ],
   "source": [
    "model.evaluate(*train_pack_processed.unpack())"
   ]
  },
  {
   "cell_type": "markdown",
   "metadata": {},
   "source": [
    "## Automation"
   ]
  },
  {
   "cell_type": "code",
   "execution_count": 17,
   "metadata": {
    "ExecuteTime": {
     "end_time": "2018-12-02T04:07:08.329932Z",
     "start_time": "2018-12-02T04:07:08.323093Z"
    }
   },
   "outputs": [],
   "source": [
    "train_pack.shuffle(inplace=True)"
   ]
  },
  {
   "cell_type": "code",
   "execution_count": 18,
   "metadata": {
    "ExecuteTime": {
     "end_time": "2018-12-02T04:07:08.343300Z",
     "start_time": "2018-12-02T04:07:08.333944Z"
    }
   },
   "outputs": [],
   "source": [
    "divider = int(len(train_pack) * 0.9)\n",
    "train_pack_divided = train_pack[:divider]\n",
    "test_pack_divided = train_pack[divider:]"
   ]
  },
  {
   "cell_type": "code",
   "execution_count": 19,
   "metadata": {
    "ExecuteTime": {
     "end_time": "2018-12-02T04:07:08.352395Z",
     "start_time": "2018-12-02T04:07:08.345506Z"
    }
   },
   "outputs": [],
   "source": [
    "director = mz.Director()\n",
    "director.params['models'] = [\n",
    "    mz.models.DenseBaselineModel(),\n",
    "    mz.models.DSSMModel(),\n",
    "    mz.models.ArcIModel(),\n",
    "    mz.models.KNRMModel(),\n",
    "    mz.models.ConvKNRMModel(),\n",
    "    mz.models.DUETModel()\n",
    "]\n",
    "director.params['evals_per_model'] = 3\n",
    "director.params['train_pack'] = train_pack_divided\n",
    "director.params['test_pack'] = test_pack_divided\n",
    "director.params['task'] = ranking_task"
   ]
  },
  {
   "cell_type": "code",
   "execution_count": 20,
   "metadata": {
    "ExecuteTime": {
     "end_time": "2018-12-02T04:09:02.195562Z",
     "start_time": "2018-12-02T04:07:08.354552Z"
    }
   },
   "outputs": [
    {
     "name": "stdout",
     "output_type": "stream",
     "text": [
      "Start tunning model #1 (total: 6).\n",
      "Model class: <class 'matchzoo.models.dense_baseline_model.DenseBaselineModel'>\n",
      "Finish tuning model #1 (total: 6)\n",
      "\n",
      "Start tunning model #2 (total: 6).\n",
      "Model class: <class 'matchzoo.models.dssm_model.DSSMModel'>\n",
      "Finish tuning model #2 (total: 6)\n",
      "\n",
      "Start tunning model #3 (total: 6).\n",
      "Model class: <class 'matchzoo.models.arci_model.ArcIModel'>\n",
      "Finish tuning model #3 (total: 6)\n",
      "\n",
      "Start tunning model #4 (total: 6).\n",
      "Model class: <class 'matchzoo.models.knrm_model.KNRMModel'>\n",
      "Finish tuning model #4 (total: 6)\n",
      "\n",
      "Start tunning model #5 (total: 6).\n",
      "Model class: <class 'matchzoo.models.conv_knrm_model.ConvKNRMModel'>\n",
      "Finish tuning model #5 (total: 6)\n",
      "\n",
      "Start tunning model #6 (total: 6).\n",
      "Model class: <class 'matchzoo.models.duet_model.DUETModel'>\n",
      "Finish tuning model #6 (total: 6)\n",
      "\n"
     ]
    }
   ],
   "source": [
    "trials = director.action(verbose=1)"
   ]
  },
  {
   "cell_type": "code",
   "execution_count": 21,
   "metadata": {
    "ExecuteTime": {
     "end_time": "2018-12-02T04:09:02.204442Z",
     "start_time": "2018-12-02T04:09:02.197228Z"
    }
   },
   "outputs": [
    {
     "name": "stdout",
     "output_type": "stream",
     "text": [
      "Model Name: DenseBaselineModel\n",
      "Hyper Parameter Sampled: {'num_dense_layers': 4.0, 'num_dense_units': 885.0}\n",
      "Loss: 62.716712951660156\n",
      "\n",
      "Model Name: DenseBaselineModel\n",
      "Hyper Parameter Sampled: {'num_dense_layers': 2.0, 'num_dense_units': 427.0}\n",
      "Loss: 137.76612854003906\n",
      "\n",
      "Model Name: DenseBaselineModel\n",
      "Hyper Parameter Sampled: {'num_dense_layers': 4.0, 'num_dense_units': 858.0}\n",
      "Loss: 56.304771423339844\n",
      "\n",
      "Model Name: DSSMModel\n",
      "Hyper Parameter Sampled: {'dim_hidden': 378.0}\n",
      "Loss: 1.0136383771896362\n",
      "\n",
      "Model Name: DSSMModel\n",
      "Hyper Parameter Sampled: {'dim_hidden': 93.0}\n",
      "Loss: 1.0372545719146729\n",
      "\n",
      "Model Name: DSSMModel\n",
      "Hyper Parameter Sampled: {'dim_hidden': 285.0}\n",
      "Loss: 1.0003693103790283\n",
      "\n",
      "Model Name: ArcIModel\n",
      "Hyper Parameter Sampled: {'dropout_rate': 0.38, 'optimizer': 'rmsprop', 'padding': 'same'}\n",
      "Loss: 0.9797305464744568\n",
      "\n",
      "Model Name: ArcIModel\n",
      "Hyper Parameter Sampled: {'dropout_rate': 0.1, 'optimizer': 'adam', 'padding': 'valid'}\n",
      "Loss: 0.9923397898674011\n",
      "\n",
      "Model Name: ArcIModel\n",
      "Hyper Parameter Sampled: {'dropout_rate': 0.72, 'optimizer': 'rmsprop', 'padding': 'causal'}\n",
      "Loss: 1.0034773349761963\n",
      "\n",
      "Model Name: KNRMModel\n",
      "Hyper Parameter Sampled: {'kernel_num': 11.0, 'sigma': 0.11}\n",
      "Loss: 2.658843755722046\n",
      "\n",
      "Model Name: KNRMModel\n",
      "Hyper Parameter Sampled: {'kernel_num': 8.0, 'sigma': 0.12}\n",
      "Loss: 6.616576671600342\n",
      "\n",
      "Model Name: KNRMModel\n",
      "Hyper Parameter Sampled: {'kernel_num': 18.0, 'sigma': 0.18}\n",
      "Loss: 2.622323989868164\n",
      "\n",
      "Model Name: ConvKNRMModel\n",
      "Hyper Parameter Sampled: {'kernel_num': 12.0, 'sigma': 0.12}\n",
      "Loss: 5.203146457672119\n",
      "\n",
      "Model Name: ConvKNRMModel\n",
      "Hyper Parameter Sampled: {'kernel_num': 8.0, 'sigma': 0.16}\n",
      "Loss: 2.6538808345794678\n",
      "\n",
      "Model Name: ConvKNRMModel\n",
      "Hyper Parameter Sampled: {'kernel_num': 17.0, 'sigma': 0.12}\n",
      "Loss: 3.6010642051696777\n",
      "\n",
      "Model Name: DUETModel\n",
      "Hyper Parameter Sampled: {'dm_dropout_rate': 0.32, 'lm_dropout_rate': 0.0}\n",
      "Loss: 1.0986435413360596\n",
      "\n",
      "Model Name: DUETModel\n",
      "Hyper Parameter Sampled: {'dm_dropout_rate': 0.66, 'lm_dropout_rate': 0.26}\n",
      "Loss: 1.049634575843811\n",
      "\n",
      "Model Name: DUETModel\n",
      "Hyper Parameter Sampled: {'dm_dropout_rate': 0.48, 'lm_dropout_rate': 0.3}\n",
      "Loss: 0.976097047328949\n",
      "\n"
     ]
    }
   ],
   "source": [
    "for trial in trials:\n",
    "    print('Model Name:', trial['model_params']['name'])\n",
    "    print(\"Hyper Parameter Sampled:\" , trial['sampled_params'])\n",
    "    print('Loss:', trial['loss'])\n",
    "    print()"
   ]
  },
  {
   "cell_type": "markdown",
   "metadata": {
    "ExecuteTime": {
     "end_time": "2018-11-23T16:16:04.470316Z",
     "start_time": "2018-11-23T16:16:04.468442Z"
    }
   },
   "source": [
    "## Misc"
   ]
  },
  {
   "cell_type": "markdown",
   "metadata": {
    "ExecuteTime": {
     "end_time": "2018-11-23T16:16:20.633032Z",
     "start_time": "2018-11-23T16:16:20.631126Z"
    }
   },
   "source": [
    "### Load Embedding Matrix"
   ]
  },
  {
   "cell_type": "code",
   "execution_count": 22,
   "metadata": {
    "ExecuteTime": {
     "end_time": "2018-12-02T04:09:02.352855Z",
     "start_time": "2018-12-02T04:09:02.206042Z"
    }
   },
   "outputs": [
    {
     "name": "stdout",
     "output_type": "stream",
     "text": [
      "Parameter \"name\" set to ArcIModel.\n",
      "Parameter \"input_shapes\" set to [(30,), (30,)].\n",
      "Parameter \"embedding_trainable\" set to True.\n"
     ]
    }
   ],
   "source": [
    "model = mz.models.ArcIModel()\n",
    "model.params['task'] = ranking_task\n",
    "term_index = preprocessor.context['vocab_unit'].state['term_index']\n",
    "model.params['embedding_input_dim'] = len(term_index) + 1\n",
    "model.guess_and_fill_missing_params()\n",
    "model.build()\n",
    "model.compile()"
   ]
  },
  {
   "cell_type": "code",
   "execution_count": 23,
   "metadata": {
    "ExecuteTime": {
     "end_time": "2018-12-02T04:09:06.466605Z",
     "start_time": "2018-12-02T04:09:02.355404Z"
    }
   },
   "outputs": [],
   "source": [
    "vocab = preprocessor.context['vocab_unit'].state['term_index']\n",
    "embedding_matrix = np.random.uniform(\n",
    "    -0.2, 0.2,\n",
    "    (model.params['embedding_input_dim'], model.params['embedding_output_dim'])\n",
    ")\n",
    "model.load_embedding_matrix(embedding_matrix)"
   ]
  },
  {
   "cell_type": "code",
   "execution_count": null,
   "metadata": {},
   "outputs": [],
   "source": []
  }
 ],
 "metadata": {
  "hide_input": false,
  "kernelspec": {
   "display_name": "Python 3",
   "language": "python",
   "name": "python3"
  },
  "language_info": {
   "codemirror_mode": {
    "name": "ipython",
    "version": 3
   },
   "file_extension": ".py",
   "mimetype": "text/x-python",
   "name": "python",
   "nbconvert_exporter": "python",
   "pygments_lexer": "ipython3",
   "version": "3.6.5"
  },
  "toc": {
   "nav_menu": {},
   "number_sections": true,
   "sideBar": true,
   "skip_h1_title": false,
   "toc_cell": false,
   "toc_position": {},
   "toc_section_display": "block",
   "toc_window_display": false
  },
  "varInspector": {
   "cols": {
    "lenName": 16,
    "lenType": 16,
    "lenVar": 40
   },
   "kernels_config": {
    "python": {
     "delete_cmd_postfix": "",
     "delete_cmd_prefix": "del ",
     "library": "var_list.py",
     "varRefreshCmd": "print(var_dic_list())"
    },
    "r": {
     "delete_cmd_postfix": ") ",
     "delete_cmd_prefix": "rm(",
     "library": "var_list.r",
     "varRefreshCmd": "cat(var_dic_list()) "
    }
   },
   "types_to_exclude": [
    "module",
    "function",
    "builtin_function_or_method",
    "instance",
    "_Feature"
   ],
   "window_display": false
  }
 },
 "nbformat": 4,
 "nbformat_minor": 2
}
