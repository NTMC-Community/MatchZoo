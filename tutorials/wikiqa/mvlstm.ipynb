{
 "cells": [
  {
   "cell_type": "code",
   "execution_count": 1,
   "metadata": {},
   "outputs": [
    {
     "name": "stderr",
     "output_type": "stream",
     "text": [
      "Using TensorFlow backend.\n",
      "/data/users/fyx/.local/python3/lib/python3.6/importlib/_bootstrap.py:219: RuntimeWarning: numpy.dtype size changed, may indicate binary incompatibility. Expected 96, got 88\n",
      "  return f(*args, **kwds)\n",
      "/data/users/fyx/.local/python3/lib/python3.6/importlib/_bootstrap.py:219: RuntimeWarning: numpy.dtype size changed, may indicate binary incompatibility. Expected 96, got 88\n",
      "  return f(*args, **kwds)\n"
     ]
    }
   ],
   "source": [
    "import keras\n",
    "import pandas as pd\n",
    "import numpy as np\n",
    "import matchzoo as mz"
   ]
  },
  {
   "cell_type": "code",
   "execution_count": 2,
   "metadata": {},
   "outputs": [],
   "source": [
    "train_pack = mz.datasets.wiki_qa.load_data('train', task='ranking')\n",
    "valid_pack = mz.datasets.wiki_qa.load_data('dev', task='ranking', filter=True)\n",
    "predict_pack = mz.datasets.wiki_qa.load_data('test', task='ranking', filter=True)"
   ]
  },
  {
   "cell_type": "code",
   "execution_count": 3,
   "metadata": {},
   "outputs": [
    {
     "name": "stderr",
     "output_type": "stream",
     "text": [
      "Processing text_left with chain_transform of TokenizeUnit => LowercaseUnit => PuncRemovalUnit => StopRemovalUnit: 100%|██████████| 2118/2118 [00:00<00:00, 5817.78it/s]\n",
      "Processing text_right with chain_transform of TokenizeUnit => LowercaseUnit => PuncRemovalUnit => StopRemovalUnit: 100%|██████████| 18841/18841 [00:06<00:00, 2738.54it/s]\n",
      "Processing text_right with append: 100%|██████████| 18841/18841 [00:00<00:00, 573558.44it/s]\n",
      "Building FrequencyFilterUnit from a datapack.: 100%|██████████| 18841/18841 [00:00<00:00, 99408.12it/s]\n",
      "Processing text_right with transform: 100%|██████████| 18841/18841 [00:00<00:00, 53921.91it/s]\n",
      "Processing text_left with extend: 100%|██████████| 2118/2118 [00:00<00:00, 407669.95it/s]\n",
      "Processing text_right with extend: 100%|██████████| 18841/18841 [00:00<00:00, 380593.35it/s]\n",
      "Building VocabularyUnit from a datapack.: 100%|██████████| 234249/234249 [00:00<00:00, 1355769.88it/s]\n",
      "Processing text_left with chain_transform of TokenizeUnit => LowercaseUnit => PuncRemovalUnit => StopRemovalUnit: 100%|██████████| 2118/2118 [00:00<00:00, 4850.82it/s]\n",
      "Processing text_right with chain_transform of TokenizeUnit => LowercaseUnit => PuncRemovalUnit => StopRemovalUnit: 100%|██████████| 18841/18841 [00:07<00:00, 2395.07it/s]\n",
      "Processing text_right with transform: 100%|██████████| 18841/18841 [00:00<00:00, 113377.46it/s]\n",
      "Processing text_left with transform: 100%|██████████| 2118/2118 [00:00<00:00, 97304.77it/s]\n",
      "Processing text_right with transform: 100%|██████████| 18841/18841 [00:00<00:00, 85711.40it/s]\n",
      "Processing length_left with len: 100%|██████████| 2118/2118 [00:00<00:00, 462997.65it/s]\n",
      "Processing length_right with len: 100%|██████████| 18841/18841 [00:00<00:00, 415046.65it/s]\n",
      "Processing text_left with transform: 100%|██████████| 2118/2118 [00:00<00:00, 66301.48it/s]\n",
      "Processing text_right with transform: 100%|██████████| 18841/18841 [00:00<00:00, 63261.66it/s]\n"
     ]
    }
   ],
   "source": [
    "preprocessor = mz.preprocessors.BasicPreprocessor(fixed_length_left=10, fixed_length_right=40, remove_stop_words=True)\n",
    "train_pack_processed = preprocessor.fit_transform(train_pack)"
   ]
  },
  {
   "cell_type": "code",
   "execution_count": 4,
   "metadata": {
    "scrolled": false
   },
   "outputs": [
    {
     "name": "stderr",
     "output_type": "stream",
     "text": [
      "Processing text_left with chain_transform of TokenizeUnit => LowercaseUnit => PuncRemovalUnit => StopRemovalUnit: 100%|██████████| 122/122 [00:00<00:00, 4465.34it/s]\n",
      "Processing text_right with chain_transform of TokenizeUnit => LowercaseUnit => PuncRemovalUnit => StopRemovalUnit: 100%|██████████| 1115/1115 [00:00<00:00, 2761.36it/s]\n",
      "Processing text_right with transform: 100%|██████████| 1115/1115 [00:00<00:00, 58236.09it/s]\n",
      "Processing text_left with transform: 100%|██████████| 122/122 [00:00<00:00, 61569.62it/s]\n",
      "Processing text_right with transform: 100%|██████████| 1115/1115 [00:00<00:00, 57490.83it/s]\n",
      "Processing length_left with len: 100%|██████████| 122/122 [00:00<00:00, 75063.09it/s]\n",
      "Processing length_right with len: 100%|██████████| 1115/1115 [00:00<00:00, 164717.14it/s]\n",
      "Processing text_left with transform: 100%|██████████| 122/122 [00:00<00:00, 46228.66it/s]\n",
      "Processing text_right with transform: 100%|██████████| 1115/1115 [00:00<00:00, 44733.79it/s]\n",
      "Processing text_left with chain_transform of TokenizeUnit => LowercaseUnit => PuncRemovalUnit => StopRemovalUnit: 100%|██████████| 237/237 [00:00<00:00, 6861.57it/s]\n",
      "Processing text_right with chain_transform of TokenizeUnit => LowercaseUnit => PuncRemovalUnit => StopRemovalUnit: 100%|██████████| 2300/2300 [00:00<00:00, 2477.48it/s]\n",
      "Processing text_right with transform: 100%|██████████| 2300/2300 [00:00<00:00, 64853.54it/s]\n",
      "Processing text_left with transform: 100%|██████████| 237/237 [00:00<00:00, 70776.08it/s]\n",
      "Processing text_right with transform: 100%|██████████| 2300/2300 [00:00<00:00, 75194.86it/s]\n",
      "Processing length_left with len: 100%|██████████| 237/237 [00:00<00:00, 117444.48it/s]\n",
      "Processing length_right with len: 100%|██████████| 2300/2300 [00:00<00:00, 321831.50it/s]\n",
      "Processing text_left with transform: 100%|██████████| 237/237 [00:00<00:00, 60579.56it/s]\n",
      "Processing text_right with transform: 100%|██████████| 2300/2300 [00:00<00:00, 12826.52it/s]\n"
     ]
    }
   ],
   "source": [
    "valid_pack_processed = preprocessor.transform(valid_pack)\n",
    "predict_pack_processed = preprocessor.transform(predict_pack)"
   ]
  },
  {
   "cell_type": "code",
   "execution_count": 5,
   "metadata": {},
   "outputs": [],
   "source": [
    "ranking_task = mz.tasks.Ranking(loss=mz.losses.RankHingeLoss())\n",
    "ranking_task.metrics = [\n",
    "    mz.metrics.NormalizedDiscountedCumulativeGain(k=3),\n",
    "    mz.metrics.NormalizedDiscountedCumulativeGain(k=5),\n",
    "    mz.metrics.MeanAveragePrecision()\n",
    "]"
   ]
  },
  {
   "cell_type": "code",
   "execution_count": 6,
   "metadata": {
    "scrolled": false
   },
   "outputs": [
    {
     "name": "stdout",
     "output_type": "stream",
     "text": [
      "Parameter \"name\" set to MVLSTM.\n",
      "Parameter \"embedding_trainable\" set to True.\n",
      "__________________________________________________________________________________________________\n",
      "Layer (type)                    Output Shape         Param #     Connected to                     \n",
      "==================================================================================================\n",
      "text_left (InputLayer)          (None, 10)           0                                            \n",
      "__________________________________________________________________________________________________\n",
      "text_right (InputLayer)         (None, 40)           0                                            \n",
      "__________________________________________________________________________________________________\n",
      "embedding (Embedding)           multiple             1654600     text_left[0][0]                  \n",
      "                                                                 text_right[0][0]                 \n",
      "__________________________________________________________________________________________________\n",
      "bidirectional_1 (Bidirectional) (None, 10, 100)      60400       embedding[0][0]                  \n",
      "__________________________________________________________________________________________________\n",
      "bidirectional_2 (Bidirectional) (None, 40, 100)      60400       embedding[1][0]                  \n",
      "__________________________________________________________________________________________________\n",
      "dot_1 (Dot)                     (None, 10, 40)       0           bidirectional_1[0][0]            \n",
      "                                                                 bidirectional_2[0][0]            \n",
      "__________________________________________________________________________________________________\n",
      "reshape_1 (Reshape)             (None, 400)          0           dot_1[0][0]                      \n",
      "__________________________________________________________________________________________________\n",
      "lambda_1 (Lambda)               (None, 20)           0           reshape_1[0][0]                  \n",
      "__________________________________________________________________________________________________\n",
      "dense_1 (Dense)                 (None, 10)           210         lambda_1[0][0]                   \n",
      "__________________________________________________________________________________________________\n",
      "dense_2 (Dense)                 (None, 10)           110         dense_1[0][0]                    \n",
      "__________________________________________________________________________________________________\n",
      "dense_3 (Dense)                 (None, 5)            55          dense_2[0][0]                    \n",
      "__________________________________________________________________________________________________\n",
      "dropout_1 (Dropout)             (None, 5)            0           dense_3[0][0]                    \n",
      "__________________________________________________________________________________________________\n",
      "dense_4 (Dense)                 (None, 1)            6           dropout_1[0][0]                  \n",
      "==================================================================================================\n",
      "Total params: 1,775,781\n",
      "Trainable params: 1,775,781\n",
      "Non-trainable params: 0\n",
      "__________________________________________________________________________________________________\n"
     ]
    }
   ],
   "source": [
    "model = mz.models.MVLSTM()\n",
    "model.params['input_shapes'] = preprocessor.context['input_shapes']\n",
    "model.params['task'] = ranking_task\n",
    "model.params['embedding_input_dim'] = preprocessor.context['vocab_size']\n",
    "model.params['embedding_output_dim'] = 100\n",
    "model.params['lstm_units'] = 50\n",
    "model.params['top_k'] = 20\n",
    "model.params['mlp_num_layers'] = 2\n",
    "model.params['mlp_num_units'] = 10\n",
    "model.params['mlp_num_fan_out'] = 5\n",
    "model.params['mlp_activation_func'] = 'relu'\n",
    "model.params['dropout_rate'] = 0.5\n",
    "model.params['optimizer'] = 'adadelta'\n",
    "model.guess_and_fill_missing_params()\n",
    "model.build()\n",
    "model.compile()\n",
    "model.backend.summary()"
   ]
  },
  {
   "cell_type": "code",
   "execution_count": 7,
   "metadata": {},
   "outputs": [],
   "source": [
    "glove_embedding = mz.datasets.embeddings.load_glove_embedding(dimension=100)\n",
    "embedding_matrix = glove_embedding.build_matrix(preprocessor.context['vocab_unit'].state['term_index'])"
   ]
  },
  {
   "cell_type": "code",
   "execution_count": 8,
   "metadata": {},
   "outputs": [],
   "source": [
    "model.load_embedding_matrix(embedding_matrix)"
   ]
  },
  {
   "cell_type": "code",
   "execution_count": 9,
   "metadata": {},
   "outputs": [],
   "source": [
    "pred_x, pred_y = predict_pack_processed[:].unpack()\n",
    "evaluate = mz.callbacks.EvaluateAllMetrics(model, x=pred_x, y=pred_y, batch_size=len(pred_y))"
   ]
  },
  {
   "cell_type": "code",
   "execution_count": 10,
   "metadata": {},
   "outputs": [
    {
     "data": {
      "text/plain": [
       "102"
      ]
     },
     "execution_count": 10,
     "metadata": {},
     "output_type": "execute_result"
    }
   ],
   "source": [
    "train_generator = mz.PairDataGenerator(train_pack_processed, num_dup=2, num_neg=1, batch_size=20)\n",
    "len(train_generator)"
   ]
  },
  {
   "cell_type": "code",
   "execution_count": 11,
   "metadata": {
    "scrolled": false
   },
   "outputs": [
    {
     "name": "stdout",
     "output_type": "stream",
     "text": [
      "Epoch 1/30\n",
      "102/102 [==============================] - 26s 256ms/step - loss: 1.0071\n",
      "Validation: normalized_discounted_cumulative_gain@3(0): 0.33811351604229095 - normalized_discounted_cumulative_gain@5(0): 0.4286061343976105 - mean_average_precision(0): 0.3913361881529575\n",
      "Epoch 2/30\n",
      "102/102 [==============================] - 17s 168ms/step - loss: 0.9825\n",
      "Validation: normalized_discounted_cumulative_gain@3(0): 0.49841840656359243 - normalized_discounted_cumulative_gain@5(0): 0.5628406442300449 - mean_average_precision(0): 0.515266107294461\n",
      "Epoch 3/30\n",
      "102/102 [==============================] - 18s 172ms/step - loss: 0.8672\n",
      "Validation: normalized_discounted_cumulative_gain@3(0): 0.49281193045284205 - normalized_discounted_cumulative_gain@5(0): 0.5610139112188669 - mean_average_precision(0): 0.5217515126692341\n",
      "Epoch 4/30\n",
      "102/102 [==============================] - 18s 178ms/step - loss: 0.8200\n",
      "Validation: normalized_discounted_cumulative_gain@3(0): 0.49795586371684464 - normalized_discounted_cumulative_gain@5(0): 0.573002087550715 - mean_average_precision(0): 0.5331582273268208\n",
      "Epoch 5/30\n",
      "102/102 [==============================] - 18s 173ms/step - loss: 0.7869\n",
      "Validation: normalized_discounted_cumulative_gain@3(0): 0.5091441033986471 - normalized_discounted_cumulative_gain@5(0): 0.5817829460900438 - mean_average_precision(0): 0.5404930231131881\n",
      "Epoch 6/30\n",
      "102/102 [==============================] - 17s 165ms/step - loss: 0.7836\n",
      "Validation: normalized_discounted_cumulative_gain@3(0): 0.5151310941117309 - normalized_discounted_cumulative_gain@5(0): 0.5931919520400041 - mean_average_precision(0): 0.5462684015099072\n",
      "Epoch 7/30\n",
      "102/102 [==============================] - 19s 185ms/step - loss: 0.7428\n",
      "Validation: normalized_discounted_cumulative_gain@3(0): 0.5510732794925562 - normalized_discounted_cumulative_gain@5(0): 0.6162706665829186 - mean_average_precision(0): 0.5767225591198334\n",
      "Epoch 8/30\n",
      "102/102 [==============================] - 17s 166ms/step - loss: 0.7322\n",
      "Validation: normalized_discounted_cumulative_gain@3(0): 0.5410739726030114 - normalized_discounted_cumulative_gain@5(0): 0.6085196197022935 - mean_average_precision(0): 0.5638985687687288\n",
      "Epoch 9/30\n",
      "102/102 [==============================] - 17s 169ms/step - loss: 0.7190\n",
      "Validation: normalized_discounted_cumulative_gain@3(0): 0.546327690106928 - normalized_discounted_cumulative_gain@5(0): 0.6113032625349287 - mean_average_precision(0): 0.5688042140597054\n",
      "Epoch 10/30\n",
      "102/102 [==============================] - 11s 103ms/step - loss: 0.7026\n",
      "Validation: normalized_discounted_cumulative_gain@3(0): 0.5602999649935851 - normalized_discounted_cumulative_gain@5(0): 0.6195135088133006 - mean_average_precision(0): 0.5805869111239551\n",
      "Epoch 11/30\n",
      "102/102 [==============================] - 9s 87ms/step - loss: 0.6909\n",
      "Validation: normalized_discounted_cumulative_gain@3(0): 0.5520396015383907 - normalized_discounted_cumulative_gain@5(0): 0.6227090008486683 - mean_average_precision(0): 0.5701912435923734\n",
      "Epoch 12/30\n",
      "102/102 [==============================] - 11s 110ms/step - loss: 0.6487\n",
      "Validation: normalized_discounted_cumulative_gain@3(0): 0.5569648001278308 - normalized_discounted_cumulative_gain@5(0): 0.6254365371753722 - mean_average_precision(0): 0.5825692414160396\n",
      "Epoch 13/30\n",
      "102/102 [==============================] - 10s 97ms/step - loss: 0.6343\n",
      "Validation: normalized_discounted_cumulative_gain@3(0): 0.5651751306233357 - normalized_discounted_cumulative_gain@5(0): 0.62929748244074 - mean_average_precision(0): 0.5865868677735766\n",
      "Epoch 14/30\n",
      "102/102 [==============================] - 10s 100ms/step - loss: 0.6522\n",
      "Validation: normalized_discounted_cumulative_gain@3(0): 0.5654432772568259 - normalized_discounted_cumulative_gain@5(0): 0.6318655851340643 - mean_average_precision(0): 0.5886957700898557\n",
      "Epoch 15/30\n",
      "102/102 [==============================] - 11s 103ms/step - loss: 0.6160\n",
      "Validation: normalized_discounted_cumulative_gain@3(0): 0.586307387912283 - normalized_discounted_cumulative_gain@5(0): 0.6490459496961918 - mean_average_precision(0): 0.608010179675457\n",
      "Epoch 16/30\n",
      "102/102 [==============================] - 9s 92ms/step - loss: 0.5994\n",
      "Validation: normalized_discounted_cumulative_gain@3(0): 0.5733162571557048 - normalized_discounted_cumulative_gain@5(0): 0.6414902686134198 - mean_average_precision(0): 0.5936763686132\n",
      "Epoch 17/30\n",
      "102/102 [==============================] - 11s 103ms/step - loss: 0.5432\n",
      "Validation: normalized_discounted_cumulative_gain@3(0): 0.5817846211206474 - normalized_discounted_cumulative_gain@5(0): 0.643757946816065 - mean_average_precision(0): 0.5949722278885189\n",
      "Epoch 18/30\n",
      "102/102 [==============================] - 10s 96ms/step - loss: 0.5480\n",
      "Validation: normalized_discounted_cumulative_gain@3(0): 0.5699469861236373 - normalized_discounted_cumulative_gain@5(0): 0.643443904252513 - mean_average_precision(0): 0.5943205507079591\n",
      "Epoch 19/30\n",
      "102/102 [==============================] - 11s 105ms/step - loss: 0.5715\n",
      "Validation: normalized_discounted_cumulative_gain@3(0): 0.5711770564992863 - normalized_discounted_cumulative_gain@5(0): 0.63384523776735 - mean_average_precision(0): 0.5886560943733612\n",
      "Epoch 20/30\n",
      "102/102 [==============================] - 11s 105ms/step - loss: 0.5530\n",
      "Validation: normalized_discounted_cumulative_gain@3(0): 0.5795920445255222 - normalized_discounted_cumulative_gain@5(0): 0.6361979937765538 - mean_average_precision(0): 0.5927135879481373\n",
      "Epoch 21/30\n",
      "102/102 [==============================] - 10s 94ms/step - loss: 0.5198\n",
      "Validation: normalized_discounted_cumulative_gain@3(0): 0.5835554324514256 - normalized_discounted_cumulative_gain@5(0): 0.6399297595562697 - mean_average_precision(0): 0.5983447807835129\n",
      "Epoch 22/30\n",
      "102/102 [==============================] - 11s 104ms/step - loss: 0.5007\n",
      "Validation: normalized_discounted_cumulative_gain@3(0): 0.5795566711869813 - normalized_discounted_cumulative_gain@5(0): 0.6419658483741597 - mean_average_precision(0): 0.5968827456774218\n",
      "Epoch 23/30\n",
      "102/102 [==============================] - 10s 97ms/step - loss: 0.4852\n",
      "Validation: normalized_discounted_cumulative_gain@3(0): 0.5839249264861975 - normalized_discounted_cumulative_gain@5(0): 0.6485575867979259 - mean_average_precision(0): 0.6001236296705983\n",
      "Epoch 24/30\n",
      "102/102 [==============================] - 11s 104ms/step - loss: 0.4681\n",
      "Validation: normalized_discounted_cumulative_gain@3(0): 0.5685557819916831 - normalized_discounted_cumulative_gain@5(0): 0.6345748578357847 - mean_average_precision(0): 0.5869300272408983\n",
      "Epoch 25/30\n",
      "102/102 [==============================] - 11s 108ms/step - loss: 0.4625\n",
      "Validation: normalized_discounted_cumulative_gain@3(0): 0.585781207809355 - normalized_discounted_cumulative_gain@5(0): 0.6448673463016743 - mean_average_precision(0): 0.5990092491885414\n",
      "Epoch 26/30\n",
      "102/102 [==============================] - 10s 93ms/step - loss: 0.4603\n",
      "Validation: normalized_discounted_cumulative_gain@3(0): 0.5927661274649294 - normalized_discounted_cumulative_gain@5(0): 0.6441456275950982 - mean_average_precision(0): 0.608603630497368\n",
      "Epoch 27/30\n",
      "102/102 [==============================] - 9s 89ms/step - loss: 0.4306\n",
      "Validation: normalized_discounted_cumulative_gain@3(0): 0.5768580422803571 - normalized_discounted_cumulative_gain@5(0): 0.6368837375429321 - mean_average_precision(0): 0.5929263570110848\n",
      "Epoch 28/30\n",
      "102/102 [==============================] - 10s 94ms/step - loss: 0.4399\n",
      "Validation: normalized_discounted_cumulative_gain@3(0): 0.5894808967899174 - normalized_discounted_cumulative_gain@5(0): 0.6522063010860053 - mean_average_precision(0): 0.6061114087013487\n",
      "Epoch 29/30\n",
      "102/102 [==============================] - 10s 97ms/step - loss: 0.4246\n",
      "Validation: normalized_discounted_cumulative_gain@3(0): 0.5922887131494634 - normalized_discounted_cumulative_gain@5(0): 0.651722483998806 - mean_average_precision(0): 0.6118229186081009\n",
      "Epoch 30/30\n",
      "102/102 [==============================] - 10s 95ms/step - loss: 0.3954\n",
      "Validation: normalized_discounted_cumulative_gain@3(0): 0.5818582727719324 - normalized_discounted_cumulative_gain@5(0): 0.644260846704739 - mean_average_precision(0): 0.6037456231890336\n"
     ]
    }
   ],
   "source": [
    "history = model.fit_generator(train_generator, epochs=30, callbacks=[evaluate], workers=30, use_multiprocessing=True)"
   ]
  }
 ],
 "metadata": {
  "kernelspec": {
   "display_name": "Python 3",
   "language": "python",
   "name": "python3"
  },
  "language_info": {
   "codemirror_mode": {
    "name": "ipython",
    "version": 3
   },
   "file_extension": ".py",
   "mimetype": "text/x-python",
   "name": "python",
   "nbconvert_exporter": "python",
   "pygments_lexer": "ipython3",
   "version": "3.6.5"
  }
 },
 "nbformat": 4,
 "nbformat_minor": 2
}
