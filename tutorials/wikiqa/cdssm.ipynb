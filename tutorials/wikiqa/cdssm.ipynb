{
 "cells": [
  {
   "cell_type": "code",
   "execution_count": 1,
   "metadata": {},
   "outputs": [
    {
     "name": "stderr",
     "output_type": "stream",
     "text": [
      "Using TensorFlow backend.\n"
     ]
    }
   ],
   "source": [
    "import os\n",
    "import keras\n",
    "import pandas as pd\n",
    "import numpy as np\n",
    "import matchzoo as mz\n",
    "\n",
    "os.environ['CUDA_VISIBLE_DEVICES'] = ''"
   ]
  },
  {
   "cell_type": "code",
   "execution_count": 2,
   "metadata": {},
   "outputs": [],
   "source": [
    "train_pack = mz.datasets.wiki_qa.load_data('train', task='ranking')\n",
    "valid_pack = mz.datasets.wiki_qa.load_data('dev', task='ranking', filtered=True)\n",
    "predict_pack = mz.datasets.wiki_qa.load_data('test', task='ranking', filtered=True)"
   ]
  },
  {
   "cell_type": "code",
   "execution_count": 3,
   "metadata": {},
   "outputs": [
    {
     "name": "stderr",
     "output_type": "stream",
     "text": [
      "Processing text_left with chain_transform of Tokenize => Lowercase => PuncRemoval => StopRemoval => NgramLetter: 100%|██████████| 2118/2118 [00:00<00:00, 6542.53it/s]\n",
      "Processing text_right with chain_transform of Tokenize => Lowercase => PuncRemoval => StopRemoval => NgramLetter: 100%|██████████| 18841/18841 [00:05<00:00, 3325.99it/s]\n",
      "Processing text_left with extend: 100%|██████████| 2118/2118 [00:00<00:00, 584789.41it/s]\n",
      "Processing text_right with extend: 100%|██████████| 18841/18841 [00:00<00:00, 438625.05it/s]\n",
      "Building Vocabulary from a datapack.: 100%|██████████| 1614998/1614998 [00:00<00:00, 3082231.57it/s]\n",
      "Processing text_left with chain_transform of Tokenize => Lowercase => PuncRemoval => StopRemoval: 100%|██████████| 2118/2118 [00:00<00:00, 7934.07it/s]\n",
      "Processing text_right with chain_transform of Tokenize => Lowercase => PuncRemoval => StopRemoval: 100%|██████████| 18841/18841 [00:04<00:00, 3811.25it/s]\n",
      "Processing text_left with transform: 100%|██████████| 2118/2118 [00:00<00:00, 115942.78it/s]\n",
      "Processing text_right with transform: 100%|██████████| 18841/18841 [00:00<00:00, 87315.29it/s]\n",
      "Processing text_left with chain_transform of NgramLetter => WordHashing: 100%|██████████| 2118/2118 [00:08<00:00, 261.04it/s]\n",
      "Processing text_right with chain_transform of NgramLetter => WordHashing: 100%|██████████| 18841/18841 [01:24<00:00, 220.85it/s]\n"
     ]
    }
   ],
   "source": [
    "preprocessor = mz.preprocessors.CDSSMPreprocessor(fixed_length_left=10, fixed_length_right=10)\n",
    "train_pack_processed = preprocessor.fit_transform(train_pack)"
   ]
  },
  {
   "cell_type": "code",
   "execution_count": 4,
   "metadata": {
    "scrolled": false
   },
   "outputs": [
    {
     "name": "stderr",
     "output_type": "stream",
     "text": [
      "Processing text_left with chain_transform of Tokenize => Lowercase => PuncRemoval => StopRemoval: 100%|██████████| 122/122 [00:00<00:00, 7332.17it/s]\n",
      "Processing text_right with chain_transform of Tokenize => Lowercase => PuncRemoval => StopRemoval: 100%|██████████| 1115/1115 [00:00<00:00, 4039.28it/s]\n",
      "Processing text_left with transform: 100%|██████████| 122/122 [00:00<00:00, 71677.42it/s]\n",
      "Processing text_right with transform: 100%|██████████| 1115/1115 [00:00<00:00, 86562.93it/s]\n",
      "Processing text_left with chain_transform of NgramLetter => WordHashing: 100%|██████████| 122/122 [00:00<00:00, 249.16it/s]\n",
      "Processing text_right with chain_transform of NgramLetter => WordHashing: 100%|██████████| 1115/1115 [00:18<00:00, 60.13it/s] \n",
      "Processing text_left with chain_transform of Tokenize => Lowercase => PuncRemoval => StopRemoval: 100%|██████████| 237/237 [00:00<00:00, 8283.96it/s]\n",
      "Processing text_right with chain_transform of Tokenize => Lowercase => PuncRemoval => StopRemoval: 100%|██████████| 2300/2300 [00:01<00:00, 1951.14it/s]\n",
      "Processing text_left with transform: 100%|██████████| 237/237 [00:00<00:00, 92016.11it/s]\n",
      "Processing text_right with transform: 100%|██████████| 2300/2300 [00:00<00:00, 89923.46it/s]\n",
      "Processing text_left with chain_transform of NgramLetter => WordHashing: 100%|██████████| 237/237 [00:00<00:00, 249.05it/s]\n",
      "Processing text_right with chain_transform of NgramLetter => WordHashing: 100%|██████████| 2300/2300 [00:11<00:00, 239.25it/s]\n"
     ]
    }
   ],
   "source": [
    "valid_pack_processed = preprocessor.transform(valid_pack)\n",
    "predict_pack_processed = preprocessor.transform(predict_pack)"
   ]
  },
  {
   "cell_type": "code",
   "execution_count": 5,
   "metadata": {},
   "outputs": [],
   "source": [
    "ranking_task = mz.tasks.Ranking(loss=mz.losses.RankHingeLoss())\n",
    "ranking_task.metrics = [\n",
    "    mz.metrics.NormalizedDiscountedCumulativeGain(k=3),\n",
    "    mz.metrics.NormalizedDiscountedCumulativeGain(k=5),\n",
    "    mz.metrics.MeanAveragePrecision()\n",
    "]"
   ]
  },
  {
   "cell_type": "code",
   "execution_count": 6,
   "metadata": {
    "scrolled": false
   },
   "outputs": [
    {
     "name": "stdout",
     "output_type": "stream",
     "text": [
      "__________________________________________________________________________________________________\n",
      "Layer (type)                    Output Shape         Param #     Connected to                     \n",
      "==================================================================================================\n",
      "text_left (InputLayer)          (None, 10, 9644)     0                                            \n",
      "__________________________________________________________________________________________________\n",
      "text_right (InputLayer)         (None, 10, 9644)     0                                            \n",
      "__________________________________________________________________________________________________\n",
      "conv1d_1 (Conv1D)               (None, 10, 64)       1851712     text_left[0][0]                  \n",
      "__________________________________________________________________________________________________\n",
      "conv1d_2 (Conv1D)               (None, 10, 64)       1851712     text_right[0][0]                 \n",
      "__________________________________________________________________________________________________\n",
      "dropout_1 (Dropout)             (None, 10, 64)       0           conv1d_1[0][0]                   \n",
      "__________________________________________________________________________________________________\n",
      "dropout_2 (Dropout)             (None, 10, 64)       0           conv1d_2[0][0]                   \n",
      "__________________________________________________________________________________________________\n",
      "global_max_pooling1d_1 (GlobalM (None, 64)           0           dropout_1[0][0]                  \n",
      "__________________________________________________________________________________________________\n",
      "global_max_pooling1d_2 (GlobalM (None, 64)           0           dropout_2[0][0]                  \n",
      "__________________________________________________________________________________________________\n",
      "dense_1 (Dense)                 (None, 64)           4160        global_max_pooling1d_1[0][0]     \n",
      "__________________________________________________________________________________________________\n",
      "dense_3 (Dense)                 (None, 64)           4160        global_max_pooling1d_2[0][0]     \n",
      "__________________________________________________________________________________________________\n",
      "dense_2 (Dense)                 (None, 64)           4160        dense_1[0][0]                    \n",
      "__________________________________________________________________________________________________\n",
      "dense_4 (Dense)                 (None, 64)           4160        dense_3[0][0]                    \n",
      "__________________________________________________________________________________________________\n",
      "dot_1 (Dot)                     (None, 1)            0           dense_2[0][0]                    \n",
      "                                                                 dense_4[0][0]                    \n",
      "__________________________________________________________________________________________________\n",
      "dense_5 (Dense)                 (None, 1)            2           dot_1[0][0]                      \n",
      "==================================================================================================\n",
      "Total params: 3,720,066\n",
      "Trainable params: 3,720,066\n",
      "Non-trainable params: 0\n",
      "__________________________________________________________________________________________________\n"
     ]
    }
   ],
   "source": [
    "model = mz.models.CDSSM()\n",
    "model.params['input_shapes'] = preprocessor.context['input_shapes']\n",
    "model.params['task'] = ranking_task\n",
    "model.params['filters'] = 64\n",
    "model.params['kernel_size'] = 3\n",
    "model.params['strides'] = 1\n",
    "model.params['padding'] = 'same'\n",
    "model.params['conv_activation_func'] = 'tanh'\n",
    "model.params['w_initializer'] = 'glorot_normal'\n",
    "model.params['b_initializer'] = 'zeros'\n",
    "model.params['mlp_num_layers'] = 1\n",
    "model.params['mlp_num_units'] = 64\n",
    "model.params['mlp_num_fan_out'] = 64\n",
    "model.params['mlp_activation_func'] = 'tanh'\n",
    "model.params['dropout_rate'] = 0.8\n",
    "model.params['optimizer'] = 'adadelta'\n",
    "model.guess_and_fill_missing_params()\n",
    "model.build()\n",
    "model.compile()\n",
    "model.backend.summary()"
   ]
  },
  {
   "cell_type": "code",
   "execution_count": 7,
   "metadata": {},
   "outputs": [],
   "source": [
    "pred_x, pred_y = predict_pack_processed[:].unpack()"
   ]
  },
  {
   "cell_type": "code",
   "execution_count": 8,
   "metadata": {},
   "outputs": [
    {
     "name": "stdout",
     "output_type": "stream",
     "text": [
      "WARNING: PairDataGenerator will be deprecated in MatchZoo v2.2. Use `DataGenerator` with callbacks instead.\n"
     ]
    }
   ],
   "source": [
    "evaluate = mz.callbacks.EvaluateAllMetrics(model, x=pred_x, y=pred_y, batch_size=len(pred_x))\n",
    "train_generator = mz.PairDataGenerator(train_pack_processed, num_dup=2, num_neg=1, batch_size=64, shuffle=True)"
   ]
  },
  {
   "cell_type": "code",
   "execution_count": 9,
   "metadata": {
    "scrolled": false
   },
   "outputs": [
    {
     "name": "stdout",
     "output_type": "stream",
     "text": [
      "Epoch 1/20\n",
      "32/32 [==============================] - 72s 2s/step - loss: 0.9808\n",
      "Validation: normalized_discounted_cumulative_gain@3(0.0): 0.42488215100974375 - normalized_discounted_cumulative_gain@5(0.0): 0.4909840291447614 - mean_average_precision(0.0): 0.45215174584733625\n",
      "Epoch 2/20\n",
      "32/32 [==============================] - 39s 1s/step - loss: 0.7890\n",
      "Validation: normalized_discounted_cumulative_gain@3(0.0): 0.4523924010888256 - normalized_discounted_cumulative_gain@5(0.0): 0.526580105002082 - mean_average_precision(0.0): 0.4843661871232366\n",
      "Epoch 3/20\n",
      "32/32 [==============================] - 39s 1s/step - loss: 0.6269\n",
      "Validation: normalized_discounted_cumulative_gain@3(0.0): 0.42912083006483787 - normalized_discounted_cumulative_gain@5(0.0): 0.5059856809765926 - mean_average_precision(0.0): 0.46958607676474695\n",
      "Epoch 4/20\n",
      "32/32 [==============================] - 40s 1s/step - loss: 0.5425\n",
      "Validation: normalized_discounted_cumulative_gain@3(0.0): 0.45161347891396936 - normalized_discounted_cumulative_gain@5(0.0): 0.5246607686333176 - mean_average_precision(0.0): 0.4894374228928154\n",
      "Epoch 5/20\n",
      "32/32 [==============================] - 39s 1s/step - loss: 0.4786\n",
      "Validation: normalized_discounted_cumulative_gain@3(0.0): 0.44182189699245444 - normalized_discounted_cumulative_gain@5(0.0): 0.5185925913281365 - mean_average_precision(0.0): 0.4785410987945083\n",
      "Epoch 6/20\n",
      "32/32 [==============================] - 40s 1s/step - loss: 0.4312\n",
      "Validation: normalized_discounted_cumulative_gain@3(0.0): 0.4353736449145257 - normalized_discounted_cumulative_gain@5(0.0): 0.5193283626946119 - mean_average_precision(0.0): 0.47581070046166846\n",
      "Epoch 7/20\n",
      "32/32 [==============================] - 40s 1s/step - loss: 0.3918\n",
      "Validation: normalized_discounted_cumulative_gain@3(0.0): 0.42860677523860297 - normalized_discounted_cumulative_gain@5(0.0): 0.511305679951288 - mean_average_precision(0.0): 0.465896748198743\n",
      "Epoch 8/20\n",
      "32/32 [==============================] - 40s 1s/step - loss: 0.3399\n",
      "Validation: normalized_discounted_cumulative_gain@3(0.0): 0.4483104574863611 - normalized_discounted_cumulative_gain@5(0.0): 0.514850172629585 - mean_average_precision(0.0): 0.47729829884300434\n",
      "Epoch 9/20\n",
      "32/32 [==============================] - 39s 1s/step - loss: 0.3133\n",
      "Validation: normalized_discounted_cumulative_gain@3(0.0): 0.44683839351327287 - normalized_discounted_cumulative_gain@5(0.0): 0.5179511840387869 - mean_average_precision(0.0): 0.47938829437070807\n",
      "Epoch 10/20\n",
      "32/32 [==============================] - 39s 1s/step - loss: 0.2852\n",
      "Validation: normalized_discounted_cumulative_gain@3(0.0): 0.45147495790907527 - normalized_discounted_cumulative_gain@5(0.0): 0.5115591547752104 - mean_average_precision(0.0): 0.4816185898296844\n",
      "Epoch 11/20\n",
      "32/32 [==============================] - 39s 1s/step - loss: 0.2503\n",
      "Validation: normalized_discounted_cumulative_gain@3(0.0): 0.45606725359003863 - normalized_discounted_cumulative_gain@5(0.0): 0.5137853825095071 - mean_average_precision(0.0): 0.4898566499228558\n",
      "Epoch 12/20\n",
      "32/32 [==============================] - 40s 1s/step - loss: 0.2114\n",
      "Validation: normalized_discounted_cumulative_gain@3(0.0): 0.4536596944525606 - normalized_discounted_cumulative_gain@5(0.0): 0.5195598827593197 - mean_average_precision(0.0): 0.48509265834715537\n",
      "Epoch 13/20\n",
      "32/32 [==============================] - 40s 1s/step - loss: 0.1886\n",
      "Validation: normalized_discounted_cumulative_gain@3(0.0): 0.46086526212639095 - normalized_discounted_cumulative_gain@5(0.0): 0.5347221469997477 - mean_average_precision(0.0): 0.4972628568563632\n",
      "Epoch 14/20\n",
      "32/32 [==============================] - 40s 1s/step - loss: 0.1770\n",
      "Validation: normalized_discounted_cumulative_gain@3(0.0): 0.4524514918879093 - normalized_discounted_cumulative_gain@5(0.0): 0.5259706685008083 - mean_average_precision(0.0): 0.4886127130697417\n",
      "Epoch 15/20\n",
      "32/32 [==============================] - 38s 1s/step - loss: 0.1454\n",
      "Validation: normalized_discounted_cumulative_gain@3(0.0): 0.447793222144205 - normalized_discounted_cumulative_gain@5(0.0): 0.523210520595902 - mean_average_precision(0.0): 0.4842295350811732\n",
      "Epoch 16/20\n",
      "32/32 [==============================] - 39s 1s/step - loss: 0.1573\n",
      "Validation: normalized_discounted_cumulative_gain@3(0.0): 0.4617597821704854 - normalized_discounted_cumulative_gain@5(0.0): 0.5233844194501931 - mean_average_precision(0.0): 0.48736454745855345\n",
      "Epoch 17/20\n",
      "32/32 [==============================] - 40s 1s/step - loss: 0.1437\n",
      "Validation: normalized_discounted_cumulative_gain@3(0.0): 0.446051744365399 - normalized_discounted_cumulative_gain@5(0.0): 0.511689458533883 - mean_average_precision(0.0): 0.47390160852977303\n",
      "Epoch 18/20\n",
      "32/32 [==============================] - 40s 1s/step - loss: 0.1396\n",
      "Validation: normalized_discounted_cumulative_gain@3(0.0): 0.44155513060981444 - normalized_discounted_cumulative_gain@5(0.0): 0.508852366919329 - mean_average_precision(0.0): 0.47430841711913996\n",
      "Epoch 19/20\n",
      "32/32 [==============================] - 39s 1s/step - loss: 0.1176\n",
      "Validation: normalized_discounted_cumulative_gain@3(0.0): 0.4480183178506102 - normalized_discounted_cumulative_gain@5(0.0): 0.5177348617853279 - mean_average_precision(0.0): 0.4799578376954719\n",
      "Epoch 20/20\n",
      "32/32 [==============================] - 37s 1s/step - loss: 0.1094\n",
      "Validation: normalized_discounted_cumulative_gain@3(0.0): 0.44665417415821596 - normalized_discounted_cumulative_gain@5(0.0): 0.5142203489288135 - mean_average_precision(0.0): 0.47726846390007227\n"
     ]
    }
   ],
   "source": [
    "history = model.fit_generator(train_generator, epochs=20, callbacks=[evaluate], workers=1, use_multiprocessing=False)"
   ]
  },
  {
   "cell_type": "code",
   "execution_count": null,
   "metadata": {},
   "outputs": [],
   "source": []
  }
 ],
 "metadata": {
  "kernelspec": {
   "display_name": "Python 3",
   "language": "python",
   "name": "python3"
  },
  "language_info": {
   "codemirror_mode": {
    "name": "ipython",
    "version": 3
   },
   "file_extension": ".py",
   "mimetype": "text/x-python",
   "name": "python",
   "nbconvert_exporter": "python",
   "pygments_lexer": "ipython3",
   "version": "3.6.8"
  }
 },
 "nbformat": 4,
 "nbformat_minor": 2
}
