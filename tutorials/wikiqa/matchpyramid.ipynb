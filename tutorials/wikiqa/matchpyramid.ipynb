{
 "cells": [
  {
   "cell_type": "code",
   "execution_count": 1,
   "metadata": {},
   "outputs": [
    {
     "name": "stderr",
     "output_type": "stream",
     "text": [
      "/data/users/fyx/.local/python3/lib/python3.6/importlib/_bootstrap.py:219: RuntimeWarning: numpy.dtype size changed, may indicate binary incompatibility. Expected 96, got 88\n",
      "  return f(*args, **kwds)\n",
      "/data/users/fyx/.local/python3/lib/python3.6/importlib/_bootstrap.py:219: RuntimeWarning: numpy.dtype size changed, may indicate binary incompatibility. Expected 96, got 88\n",
      "  return f(*args, **kwds)\n",
      "Using TensorFlow backend.\n"
     ]
    }
   ],
   "source": [
    "import numpy as np\n",
    "import matchzoo as mz"
   ]
  },
  {
   "cell_type": "code",
   "execution_count": 2,
   "metadata": {},
   "outputs": [],
   "source": [
    "train_pack = mz.datasets.wiki_qa.load_data('train', task='ranking')\n",
    "valid_pack = mz.datasets.wiki_qa.load_data('dev', task='ranking', filter=True)\n",
    "predict_pack = mz.datasets.wiki_qa.load_data('test', task='ranking', filter=True)"
   ]
  },
  {
   "cell_type": "code",
   "execution_count": 3,
   "metadata": {},
   "outputs": [
    {
     "name": "stderr",
     "output_type": "stream",
     "text": [
      "Processing text_left with chain_transform of TokenizeUnit => LowercaseUnit => PuncRemovalUnit => StopRemovalUnit: 100%|██████████| 2118/2118 [00:00<00:00, 4496.71it/s]\n",
      "Processing text_right with chain_transform of TokenizeUnit => LowercaseUnit => PuncRemovalUnit => StopRemovalUnit: 100%|██████████| 18841/18841 [00:07<00:00, 2500.85it/s]\n",
      "Processing text_right with append: 100%|██████████| 18841/18841 [00:00<00:00, 433671.28it/s]\n",
      "Building FrequencyFilterUnit from a datapack.: 100%|██████████| 18841/18841 [00:00<00:00, 100484.82it/s]\n",
      "Processing text_right with transform: 100%|██████████| 18841/18841 [00:00<00:00, 60807.36it/s] \n",
      "Processing text_left with extend: 100%|██████████| 2118/2118 [00:00<00:00, 244934.68it/s]\n",
      "Processing text_right with extend: 100%|██████████| 18841/18841 [00:00<00:00, 380282.00it/s]\n",
      "Building VocabularyUnit from a datapack.: 100%|██████████| 234249/234249 [00:00<00:00, 1570950.18it/s]\n",
      "Processing text_left with chain_transform of TokenizeUnit => LowercaseUnit => PuncRemovalUnit => StopRemovalUnit: 100%|██████████| 2118/2118 [00:00<00:00, 4956.44it/s]\n",
      "Processing text_right with chain_transform of TokenizeUnit => LowercaseUnit => PuncRemovalUnit => StopRemovalUnit: 100%|██████████| 18841/18841 [00:07<00:00, 2549.66it/s]\n",
      "Processing text_right with transform: 100%|██████████| 18841/18841 [00:00<00:00, 91509.95it/s]\n",
      "Processing text_left with transform: 100%|██████████| 2118/2118 [00:00<00:00, 157632.48it/s]\n",
      "Processing text_right with transform: 100%|██████████| 18841/18841 [00:00<00:00, 96172.07it/s]\n",
      "Processing length_left with len: 100%|██████████| 2118/2118 [00:00<00:00, 385436.30it/s]\n",
      "Processing length_right with len: 100%|██████████| 18841/18841 [00:00<00:00, 386371.17it/s]\n",
      "Processing text_left with transform: 100%|██████████| 2118/2118 [00:00<00:00, 68795.82it/s]\n",
      "Processing text_right with transform: 100%|██████████| 18841/18841 [00:00<00:00, 57958.18it/s]\n"
     ]
    }
   ],
   "source": [
    "preprocessor = mz.preprocessors.BasicPreprocessor(fixed_length_left=10, fixed_length_right=40, remove_stop_words=True)\n",
    "train_pack_processed = preprocessor.fit_transform(train_pack)"
   ]
  },
  {
   "cell_type": "code",
   "execution_count": 4,
   "metadata": {
    "scrolled": false
   },
   "outputs": [
    {
     "name": "stderr",
     "output_type": "stream",
     "text": [
      "Processing text_left with chain_transform of TokenizeUnit => LowercaseUnit => PuncRemovalUnit => StopRemovalUnit: 100%|██████████| 122/122 [00:00<00:00, 4520.92it/s]\n",
      "Processing text_right with chain_transform of TokenizeUnit => LowercaseUnit => PuncRemovalUnit => StopRemovalUnit: 100%|██████████| 1115/1115 [00:00<00:00, 2732.55it/s]\n",
      "Processing text_right with transform: 100%|██████████| 1115/1115 [00:00<00:00, 137552.54it/s]\n",
      "Processing text_left with transform: 100%|██████████| 122/122 [00:00<00:00, 98102.97it/s]\n",
      "Processing text_right with transform: 100%|██████████| 1115/1115 [00:00<00:00, 48394.48it/s]\n",
      "Processing length_left with len: 100%|██████████| 122/122 [00:00<00:00, 191077.33it/s]\n",
      "Processing length_right with len: 100%|██████████| 1115/1115 [00:00<00:00, 509494.39it/s]\n",
      "Processing text_left with transform: 100%|██████████| 122/122 [00:00<00:00, 74701.47it/s]\n",
      "Processing text_right with transform: 100%|██████████| 1115/1115 [00:00<00:00, 77966.24it/s]\n",
      "Processing text_left with chain_transform of TokenizeUnit => LowercaseUnit => PuncRemovalUnit => StopRemovalUnit: 100%|██████████| 237/237 [00:00<00:00, 6848.90it/s]\n",
      "Processing text_right with chain_transform of TokenizeUnit => LowercaseUnit => PuncRemovalUnit => StopRemovalUnit: 100%|██████████| 2300/2300 [00:00<00:00, 2897.01it/s]\n",
      "Processing text_right with transform: 100%|██████████| 2300/2300 [00:00<00:00, 91888.36it/s]\n",
      "Processing text_left with transform: 100%|██████████| 237/237 [00:00<00:00, 108060.66it/s]\n",
      "Processing text_right with transform: 100%|██████████| 2300/2300 [00:00<00:00, 16424.73it/s]\n",
      "Processing length_left with len: 100%|██████████| 237/237 [00:00<00:00, 224491.88it/s]\n",
      "Processing length_right with len: 100%|██████████| 2300/2300 [00:00<00:00, 572788.22it/s]\n",
      "Processing text_left with transform: 100%|██████████| 237/237 [00:00<00:00, 82665.28it/s]\n",
      "Processing text_right with transform: 100%|██████████| 2300/2300 [00:00<00:00, 88222.81it/s]\n"
     ]
    }
   ],
   "source": [
    "valid_pack_processed = preprocessor.transform(valid_pack)\n",
    "predict_pack_processed = preprocessor.transform(predict_pack)"
   ]
  },
  {
   "cell_type": "code",
   "execution_count": 5,
   "metadata": {},
   "outputs": [],
   "source": [
    "ranking_task = mz.tasks.Ranking(loss=mz.losses.RankHingeLoss())\n",
    "ranking_task.metrics = [\n",
    "    mz.metrics.NormalizedDiscountedCumulativeGain(k=3),\n",
    "    mz.metrics.NormalizedDiscountedCumulativeGain(k=5),\n",
    "    mz.metrics.MeanAveragePrecision()\n",
    "]"
   ]
  },
  {
   "cell_type": "code",
   "execution_count": 6,
   "metadata": {
    "scrolled": false
   },
   "outputs": [
    {
     "name": "stdout",
     "output_type": "stream",
     "text": [
      "Parameter \"name\" set to MatchPyramid.\n",
      "__________________________________________________________________________________________________\n",
      "Layer (type)                    Output Shape         Param #     Connected to                     \n",
      "==================================================================================================\n",
      "text_left (InputLayer)          (None, 10)           0                                            \n",
      "__________________________________________________________________________________________________\n",
      "text_right (InputLayer)         (None, 40)           0                                            \n",
      "__________________________________________________________________________________________________\n",
      "embedding (Embedding)           multiple             4963800     text_left[0][0]                  \n",
      "                                                                 text_right[0][0]                 \n",
      "__________________________________________________________________________________________________\n",
      "matching_layer_1 (MatchingLayer (None, 10, 40, 1)    0           embedding[0][0]                  \n",
      "                                                                 embedding[1][0]                  \n",
      "__________________________________________________________________________________________________\n",
      "conv2d_1 (Conv2D)               (None, 10, 40, 16)   160         matching_layer_1[0][0]           \n",
      "__________________________________________________________________________________________________\n",
      "conv2d_2 (Conv2D)               (None, 10, 40, 32)   4640        conv2d_1[0][0]                   \n",
      "__________________________________________________________________________________________________\n",
      "dpool_index (InputLayer)        (None, 10, 40, 3)    0                                            \n",
      "__________________________________________________________________________________________________\n",
      "dynamic_pooling_layer_1 (Dynami (None, 3, 10, 32)    0           conv2d_2[0][0]                   \n",
      "                                                                 dpool_index[0][0]                \n",
      "__________________________________________________________________________________________________\n",
      "flatten_1 (Flatten)             (None, 960)          0           dynamic_pooling_layer_1[0][0]    \n",
      "__________________________________________________________________________________________________\n",
      "dropout_1 (Dropout)             (None, 960)          0           flatten_1[0][0]                  \n",
      "__________________________________________________________________________________________________\n",
      "dense_1 (Dense)                 (None, 1)            961         dropout_1[0][0]                  \n",
      "==================================================================================================\n",
      "Total params: 4,969,561\n",
      "Trainable params: 4,969,561\n",
      "Non-trainable params: 0\n",
      "__________________________________________________________________________________________________\n"
     ]
    }
   ],
   "source": [
    "model = mz.models.MatchPyramid()\n",
    "model.params['input_shapes'] = preprocessor.context['input_shapes']\n",
    "model.params['task'] = ranking_task\n",
    "model.params['embedding_input_dim'] = preprocessor.context['vocab_size']\n",
    "model.params['embedding_output_dim'] = 300\n",
    "model.params['embedding_trainable'] = True\n",
    "model.params['num_blocks'] = 2\n",
    "model.params['kernel_count'] = [16, 32]\n",
    "model.params['kernel_size'] = [[3, 3], [3, 3]]\n",
    "model.params['dpool_size'] = [3, 10]\n",
    "model.params['optimizer'] = 'adam'\n",
    "model.params['dropout_rate'] = 0.1\n",
    "model.guess_and_fill_missing_params()\n",
    "model.build()\n",
    "model.compile()\n",
    "model.backend.summary()"
   ]
  },
  {
   "cell_type": "code",
   "execution_count": 7,
   "metadata": {},
   "outputs": [],
   "source": [
    "glove_embedding = mz.datasets.embeddings.load_glove_embedding(dimension=300)\n",
    "embedding_matrix = glove_embedding.build_matrix(preprocessor.context['vocab_unit'].state['term_index'])"
   ]
  },
  {
   "cell_type": "code",
   "execution_count": 8,
   "metadata": {},
   "outputs": [],
   "source": [
    "model.load_embedding_matrix(embedding_matrix)"
   ]
  },
  {
   "cell_type": "code",
   "execution_count": 9,
   "metadata": {},
   "outputs": [
    {
     "data": {
      "text/plain": [
       "102"
      ]
     },
     "execution_count": 9,
     "metadata": {},
     "output_type": "execute_result"
    }
   ],
   "source": [
    "train_generator = mz.DPoolPairDataGenerator(train_pack_processed,\n",
    "                                            fixed_length_left=10,\n",
    "                                            fixed_length_right=40,\n",
    "                                            num_dup=2,\n",
    "                                            num_neg=1,\n",
    "                                            batch_size=20)\n",
    "len(train_generator)"
   ]
  },
  {
   "cell_type": "code",
   "execution_count": 10,
   "metadata": {},
   "outputs": [
    {
     "data": {
      "text/plain": [
       "118"
      ]
     },
     "execution_count": 10,
     "metadata": {},
     "output_type": "execute_result"
    }
   ],
   "source": [
    "predict_generator = mz.DPoolDataGenerator(predict_pack_processed,\n",
    "                                          fixed_length_left=10,\n",
    "                                          fixed_length_right=40,\n",
    "                                          batch_size=20)\n",
    "len(predict_generator)"
   ]
  },
  {
   "cell_type": "code",
   "execution_count": 11,
   "metadata": {},
   "outputs": [],
   "source": [
    "pred_x, pred_y = predict_generator[:]\n",
    "evaluate = mz.callbacks.EvaluateAllMetrics(model, x=pred_x, y=pred_y, batch_size=len(pred_y))"
   ]
  },
  {
   "cell_type": "code",
   "execution_count": 12,
   "metadata": {
    "scrolled": false
   },
   "outputs": [
    {
     "name": "stdout",
     "output_type": "stream",
     "text": [
      "Epoch 1/20\n",
      "102/102 [==============================] - 11s 104ms/step - loss: 0.7955\n",
      "Validation: normalized_discounted_cumulative_gain@3(0): 0.5596623243253231 - normalized_discounted_cumulative_gain@5(0): 0.6218905265142096 - mean_average_precision(0): 0.5806412423711675\n",
      "Epoch 2/20\n",
      "102/102 [==============================] - 8s 81ms/step - loss: 0.3948\n",
      "Validation: normalized_discounted_cumulative_gain@3(0): 0.5288621840355106 - normalized_discounted_cumulative_gain@5(0): 0.6026874024441216 - mean_average_precision(0): 0.5578589010947831\n",
      "Epoch 3/20\n",
      "102/102 [==============================] - 10s 98ms/step - loss: 0.2065\n",
      "Validation: normalized_discounted_cumulative_gain@3(0): 0.5252249288330492 - normalized_discounted_cumulative_gain@5(0): 0.5871019417275664 - mean_average_precision(0): 0.5396299410511994\n",
      "Epoch 4/20\n",
      "101/102 [============================>.] - ETA: 0s - loss: 0.1016Epoch 4/20\n",
      "102/102 [==============================] - 10s 99ms/step - loss: 0.1021\n",
      "Validation: normalized_discounted_cumulative_gain@3(0): 0.5273186429868743 - normalized_discounted_cumulative_gain@5(0): 0.5911067892344124 - mean_average_precision(0): 0.543450762751768\n",
      "Epoch 5/20\n",
      "102/102 [==============================] - 9s 92ms/step - loss: 0.0516\n",
      "Validation: normalized_discounted_cumulative_gain@3(0): 0.5392677385492186 - normalized_discounted_cumulative_gain@5(0): 0.5964569405772562 - mean_average_precision(0): 0.5561546165976546\n",
      "Epoch 6/20\n",
      "102/102 [==============================] - 10s 99ms/step - loss: 0.0251\n",
      "Validation: normalized_discounted_cumulative_gain@3(0): 0.5374364561685065 - normalized_discounted_cumulative_gain@5(0): 0.5979220798854638 - mean_average_precision(0): 0.5582211828256133\n",
      "Epoch 7/20\n",
      "102/102 [==============================] - 11s 108ms/step - loss: 0.0156\n",
      "Validation: normalized_discounted_cumulative_gain@3(0): 0.532185968564985 - normalized_discounted_cumulative_gain@5(0): 0.5966286551877136 - mean_average_precision(0): 0.5524111210611876\n",
      "Epoch 8/20\n",
      "102/102 [==============================] - 11s 108ms/step - loss: 0.0123\n",
      "Validation: normalized_discounted_cumulative_gain@3(0): 0.5536660639252757 - normalized_discounted_cumulative_gain@5(0): 0.6158182140234606 - mean_average_precision(0): 0.5779985690586955\n",
      "Epoch 9/20\n",
      "102/102 [==============================] - 12s 113ms/step - loss: 0.0067\n",
      "Validation: normalized_discounted_cumulative_gain@3(0): 0.5413124113738635 - normalized_discounted_cumulative_gain@5(0): 0.6063735914464313 - mean_average_precision(0): 0.5670618365793642\n",
      "Epoch 10/20\n",
      "102/102 [==============================] - 10s 99ms/step - loss: 0.0059\n",
      "Validation: normalized_discounted_cumulative_gain@3(0): 0.555153955922793 - normalized_discounted_cumulative_gain@5(0): 0.6158435919544704 - mean_average_precision(0): 0.5742598489961359\n",
      "Epoch 11/20\n",
      "102/102 [==============================] - 10s 102ms/step - loss: 0.0037\n",
      "Validation: normalized_discounted_cumulative_gain@3(0): 0.5341466647267232 - normalized_discounted_cumulative_gain@5(0): 0.6037202398000844 - mean_average_precision(0): 0.5632276888606004\n",
      "Epoch 12/20\n",
      "102/102 [==============================] - 11s 106ms/step - loss: 0.0046\n",
      "Validation: normalized_discounted_cumulative_gain@3(0): 0.5644283025021518 - normalized_discounted_cumulative_gain@5(0): 0.6252681568503001 - mean_average_precision(0): 0.5859308847838555\n",
      "Epoch 13/20\n",
      "101/102 [============================>.] - ETA: 0s - loss: 0.0025Validation: normalized_discounted_cumulative_gain@3(0): 0.5644283025021518 - normalized_discounted_cumulative_gain@5(0): 0.6252681568503001 - mean_average_precision(0): 0.5859308847838555\n",
      "Epoch 13/20\n",
      "102/102 [==============================] - 11s 111ms/step - loss: 0.0025\n",
      "Validation: normalized_discounted_cumulative_gain@3(0): 0.5617184411803969 - normalized_discounted_cumulative_gain@5(0): 0.614695214333105 - mean_average_precision(0): 0.5779237218133345\n",
      "Epoch 14/20\n",
      "102/102 [==============================] - 9s 93ms/step - loss: 0.0045\n",
      "Validation: normalized_discounted_cumulative_gain@3(0): 0.5325200892612159 - normalized_discounted_cumulative_gain@5(0): 0.6041037408170564 - mean_average_precision(0): 0.559415152943634\n",
      "Epoch 15/20\n",
      "102/102 [==============================] - 10s 99ms/step - loss: 0.0044\n",
      "Validation: normalized_discounted_cumulative_gain@3(0): 0.5536502359008467 - normalized_discounted_cumulative_gain@5(0): 0.6099527843298271 - mean_average_precision(0): 0.5717863326990575\n",
      "Epoch 16/20\n",
      "102/102 [==============================] - 10s 102ms/step - loss: 0.0030\n",
      "Validation: normalized_discounted_cumulative_gain@3(0): 0.5544391581611328 - normalized_discounted_cumulative_gain@5(0): 0.6124928186483619 - mean_average_precision(0): 0.5693020670232758\n",
      "Epoch 17/20\n",
      "102/102 [==============================] - 11s 105ms/step - loss: 0.0010\n",
      "Validation: normalized_discounted_cumulative_gain@3(0): 0.5510506173566717 - normalized_discounted_cumulative_gain@5(0): 0.6160152173439627 - mean_average_precision(0): 0.5680918575038998\n",
      "Epoch 18/20\n",
      "102/102 [==============================] - 10s 103ms/step - loss: 0.0033\n",
      "Validation: normalized_discounted_cumulative_gain@3(0): 0.5475620457076303 - normalized_discounted_cumulative_gain@5(0): 0.6149367201845104 - mean_average_precision(0): 0.5727399988850688\n",
      "Epoch 19/20\n",
      "102/102 [==============================] - 10s 95ms/step - loss: 0.0028\n",
      "Validation: normalized_discounted_cumulative_gain@3(0): 0.5480362301227013 - normalized_discounted_cumulative_gain@5(0): 0.6073342586350302 - mean_average_precision(0): 0.5652112287607741\n",
      "Epoch 20/20\n",
      "102/102 [==============================] - 11s 104ms/step - loss: 0.0029\n",
      "Validation: normalized_discounted_cumulative_gain@3(0): 0.5586220893961604 - normalized_discounted_cumulative_gain@5(0): 0.623635968990605 - mean_average_precision(0): 0.5794171781952626\n"
     ]
    }
   ],
   "source": [
    "history = model.fit_generator(train_generator, epochs=20, callbacks=[evaluate], workers=30, use_multiprocessing=True)"
   ]
  },
  {
   "cell_type": "code",
   "execution_count": null,
   "metadata": {},
   "outputs": [],
   "source": []
  }
 ],
 "metadata": {
  "kernelspec": {
   "display_name": "Python 3",
   "language": "python",
   "name": "python3"
  },
  "language_info": {
   "codemirror_mode": {
    "name": "ipython",
    "version": 3
   },
   "file_extension": ".py",
   "mimetype": "text/x-python",
   "name": "python",
   "nbconvert_exporter": "python",
   "pygments_lexer": "ipython3",
   "version": "3.6.5"
  }
 },
 "nbformat": 4,
 "nbformat_minor": 2
}
