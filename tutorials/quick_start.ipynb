{
 "cells": [
  {
   "cell_type": "markdown",
   "metadata": {},
   "source": [
    "<img src=\"https://github.com/NTMC-Community/MatchZoo/blob/2.0/artworks/matchzoo-logo.png?raw=True\" alt=\"logo\" style=\"width:600px;float: center\"/>"
   ]
  },
  {
   "cell_type": "code",
   "execution_count": 1,
   "metadata": {
    "ExecuteTime": {
     "end_time": "2018-12-21T16:30:09.057395Z",
     "start_time": "2018-12-21T16:30:07.266539Z"
    }
   },
   "outputs": [
    {
     "name": "stderr",
     "output_type": "stream",
     "text": [
      "Using TensorFlow backend.\n"
     ]
    }
   ],
   "source": [
    "import matchzoo as mz"
   ]
  },
  {
   "cell_type": "markdown",
   "metadata": {},
   "source": [
    "# Prepare Data"
   ]
  },
  {
   "cell_type": "code",
   "execution_count": 57,
   "metadata": {
    "ExecuteTime": {
     "end_time": "2018-12-21T17:13:01.213507Z",
     "start_time": "2018-12-21T17:13:00.720031Z"
    },
    "collapsed": true
   },
   "outputs": [],
   "source": [
    "train_data_pack = mz.datasets.wiki_qa.load_data(stage='train', task='ranking')\n",
    "test_data_pack = mz.datasets.wiki_qa.load_data(stage='test', task='ranking')"
   ]
  },
  {
   "cell_type": "code",
   "execution_count": 58,
   "metadata": {
    "ExecuteTime": {
     "end_time": "2018-12-21T17:13:01.668406Z",
     "start_time": "2018-12-21T17:13:01.665042Z"
    }
   },
   "outputs": [
    {
     "data": {
      "text/plain": [
       "matchzoo.data_pack.data_pack.DataPack"
      ]
     },
     "execution_count": 58,
     "metadata": {},
     "output_type": "execute_result"
    }
   ],
   "source": [
    "type(train_data_pack)"
   ]
  },
  {
   "cell_type": "markdown",
   "metadata": {},
   "source": [
    "`DataPack` is a MatchZoo native data structure that most MatchZoo data handling processes build upon. A `DataPack` is consists of three `pandas.DataFrame`:"
   ]
  },
  {
   "cell_type": "code",
   "execution_count": 59,
   "metadata": {
    "ExecuteTime": {
     "end_time": "2018-12-21T17:13:02.924784Z",
     "start_time": "2018-12-21T17:13:02.916168Z"
    }
   },
   "outputs": [
    {
     "data": {
      "text/html": [
       "<div>\n",
       "<style scoped>\n",
       "    .dataframe tbody tr th:only-of-type {\n",
       "        vertical-align: middle;\n",
       "    }\n",
       "\n",
       "    .dataframe tbody tr th {\n",
       "        vertical-align: top;\n",
       "    }\n",
       "\n",
       "    .dataframe thead th {\n",
       "        text-align: right;\n",
       "    }\n",
       "</style>\n",
       "<table border=\"1\" class=\"dataframe\">\n",
       "  <thead>\n",
       "    <tr style=\"text-align: right;\">\n",
       "      <th></th>\n",
       "      <th>text_left</th>\n",
       "    </tr>\n",
       "    <tr>\n",
       "      <th>id_left</th>\n",
       "      <th></th>\n",
       "    </tr>\n",
       "  </thead>\n",
       "  <tbody>\n",
       "    <tr>\n",
       "      <th>Q1</th>\n",
       "      <td>how are glacier caves formed?</td>\n",
       "    </tr>\n",
       "    <tr>\n",
       "      <th>Q2</th>\n",
       "      <td>How are the directions of the velocity and for...</td>\n",
       "    </tr>\n",
       "    <tr>\n",
       "      <th>Q5</th>\n",
       "      <td>how did apollo creed die</td>\n",
       "    </tr>\n",
       "    <tr>\n",
       "      <th>Q6</th>\n",
       "      <td>how long is the term for federal judges</td>\n",
       "    </tr>\n",
       "    <tr>\n",
       "      <th>Q7</th>\n",
       "      <td>how a beretta model 21 pistols magazines works</td>\n",
       "    </tr>\n",
       "  </tbody>\n",
       "</table>\n",
       "</div>"
      ],
      "text/plain": [
       "                                                 text_left\n",
       "id_left                                                   \n",
       "Q1                           how are glacier caves formed?\n",
       "Q2       How are the directions of the velocity and for...\n",
       "Q5                                how did apollo creed die\n",
       "Q6                 how long is the term for federal judges\n",
       "Q7          how a beretta model 21 pistols magazines works"
      ]
     },
     "execution_count": 59,
     "metadata": {},
     "output_type": "execute_result"
    }
   ],
   "source": [
    "train_data_pack.left.head()"
   ]
  },
  {
   "cell_type": "code",
   "execution_count": 60,
   "metadata": {
    "ExecuteTime": {
     "end_time": "2018-12-21T17:13:03.422581Z",
     "start_time": "2018-12-21T17:13:03.416793Z"
    }
   },
   "outputs": [
    {
     "data": {
      "text/html": [
       "<div>\n",
       "<style scoped>\n",
       "    .dataframe tbody tr th:only-of-type {\n",
       "        vertical-align: middle;\n",
       "    }\n",
       "\n",
       "    .dataframe tbody tr th {\n",
       "        vertical-align: top;\n",
       "    }\n",
       "\n",
       "    .dataframe thead th {\n",
       "        text-align: right;\n",
       "    }\n",
       "</style>\n",
       "<table border=\"1\" class=\"dataframe\">\n",
       "  <thead>\n",
       "    <tr style=\"text-align: right;\">\n",
       "      <th></th>\n",
       "      <th>text_right</th>\n",
       "    </tr>\n",
       "    <tr>\n",
       "      <th>id_right</th>\n",
       "      <th></th>\n",
       "    </tr>\n",
       "  </thead>\n",
       "  <tbody>\n",
       "    <tr>\n",
       "      <th>D1-0</th>\n",
       "      <td>A partly submerged glacier cave on Perito More...</td>\n",
       "    </tr>\n",
       "    <tr>\n",
       "      <th>D1-1</th>\n",
       "      <td>The ice facade is approximately 60 m high</td>\n",
       "    </tr>\n",
       "    <tr>\n",
       "      <th>D1-2</th>\n",
       "      <td>Ice formations in the Titlis glacier cave</td>\n",
       "    </tr>\n",
       "    <tr>\n",
       "      <th>D1-3</th>\n",
       "      <td>A glacier cave is a cave formed within the ice...</td>\n",
       "    </tr>\n",
       "    <tr>\n",
       "      <th>D1-4</th>\n",
       "      <td>Glacier caves are often called ice caves , but...</td>\n",
       "    </tr>\n",
       "  </tbody>\n",
       "</table>\n",
       "</div>"
      ],
      "text/plain": [
       "                                                 text_right\n",
       "id_right                                                   \n",
       "D1-0      A partly submerged glacier cave on Perito More...\n",
       "D1-1              The ice facade is approximately 60 m high\n",
       "D1-2              Ice formations in the Titlis glacier cave\n",
       "D1-3      A glacier cave is a cave formed within the ice...\n",
       "D1-4      Glacier caves are often called ice caves , but..."
      ]
     },
     "execution_count": 60,
     "metadata": {},
     "output_type": "execute_result"
    }
   ],
   "source": [
    "train_data_pack.right.head()"
   ]
  },
  {
   "cell_type": "code",
   "execution_count": 61,
   "metadata": {
    "ExecuteTime": {
     "end_time": "2018-12-21T17:13:03.954263Z",
     "start_time": "2018-12-21T17:13:03.945596Z"
    }
   },
   "outputs": [
    {
     "data": {
      "text/html": [
       "<div>\n",
       "<style scoped>\n",
       "    .dataframe tbody tr th:only-of-type {\n",
       "        vertical-align: middle;\n",
       "    }\n",
       "\n",
       "    .dataframe tbody tr th {\n",
       "        vertical-align: top;\n",
       "    }\n",
       "\n",
       "    .dataframe thead th {\n",
       "        text-align: right;\n",
       "    }\n",
       "</style>\n",
       "<table border=\"1\" class=\"dataframe\">\n",
       "  <thead>\n",
       "    <tr style=\"text-align: right;\">\n",
       "      <th></th>\n",
       "      <th>id_left</th>\n",
       "      <th>id_right</th>\n",
       "      <th>label</th>\n",
       "    </tr>\n",
       "  </thead>\n",
       "  <tbody>\n",
       "    <tr>\n",
       "      <th>0</th>\n",
       "      <td>Q1</td>\n",
       "      <td>D1-0</td>\n",
       "      <td>0</td>\n",
       "    </tr>\n",
       "    <tr>\n",
       "      <th>1</th>\n",
       "      <td>Q1</td>\n",
       "      <td>D1-1</td>\n",
       "      <td>0</td>\n",
       "    </tr>\n",
       "    <tr>\n",
       "      <th>2</th>\n",
       "      <td>Q1</td>\n",
       "      <td>D1-2</td>\n",
       "      <td>0</td>\n",
       "    </tr>\n",
       "    <tr>\n",
       "      <th>3</th>\n",
       "      <td>Q1</td>\n",
       "      <td>D1-3</td>\n",
       "      <td>1</td>\n",
       "    </tr>\n",
       "    <tr>\n",
       "      <th>4</th>\n",
       "      <td>Q1</td>\n",
       "      <td>D1-4</td>\n",
       "      <td>0</td>\n",
       "    </tr>\n",
       "  </tbody>\n",
       "</table>\n",
       "</div>"
      ],
      "text/plain": [
       "  id_left id_right  label\n",
       "0      Q1     D1-0      0\n",
       "1      Q1     D1-1      0\n",
       "2      Q1     D1-2      0\n",
       "3      Q1     D1-3      1\n",
       "4      Q1     D1-4      0"
      ]
     },
     "execution_count": 61,
     "metadata": {},
     "output_type": "execute_result"
    }
   ],
   "source": [
    "train_data_pack.relation.head()"
   ]
  },
  {
   "cell_type": "markdown",
   "metadata": {},
   "source": [
    "It is also possible to convert a `DataPack` into a single `pandas.DataFrame` that holds all information."
   ]
  },
  {
   "cell_type": "code",
   "execution_count": 62,
   "metadata": {
    "ExecuteTime": {
     "end_time": "2018-12-21T17:13:05.174840Z",
     "start_time": "2018-12-21T17:13:05.094136Z"
    }
   },
   "outputs": [
    {
     "data": {
      "text/html": [
       "<div>\n",
       "<style scoped>\n",
       "    .dataframe tbody tr th:only-of-type {\n",
       "        vertical-align: middle;\n",
       "    }\n",
       "\n",
       "    .dataframe tbody tr th {\n",
       "        vertical-align: top;\n",
       "    }\n",
       "\n",
       "    .dataframe thead th {\n",
       "        text-align: right;\n",
       "    }\n",
       "</style>\n",
       "<table border=\"1\" class=\"dataframe\">\n",
       "  <thead>\n",
       "    <tr style=\"text-align: right;\">\n",
       "      <th></th>\n",
       "      <th>id_left</th>\n",
       "      <th>text_left</th>\n",
       "      <th>id_right</th>\n",
       "      <th>text_right</th>\n",
       "      <th>label</th>\n",
       "    </tr>\n",
       "  </thead>\n",
       "  <tbody>\n",
       "    <tr>\n",
       "      <th>0</th>\n",
       "      <td>Q1</td>\n",
       "      <td>how are glacier caves formed?</td>\n",
       "      <td>D1-0</td>\n",
       "      <td>A partly submerged glacier cave on Perito More...</td>\n",
       "      <td>0</td>\n",
       "    </tr>\n",
       "    <tr>\n",
       "      <th>1</th>\n",
       "      <td>Q1</td>\n",
       "      <td>how are glacier caves formed?</td>\n",
       "      <td>D1-1</td>\n",
       "      <td>The ice facade is approximately 60 m high</td>\n",
       "      <td>0</td>\n",
       "    </tr>\n",
       "    <tr>\n",
       "      <th>2</th>\n",
       "      <td>Q1</td>\n",
       "      <td>how are glacier caves formed?</td>\n",
       "      <td>D1-2</td>\n",
       "      <td>Ice formations in the Titlis glacier cave</td>\n",
       "      <td>0</td>\n",
       "    </tr>\n",
       "    <tr>\n",
       "      <th>3</th>\n",
       "      <td>Q1</td>\n",
       "      <td>how are glacier caves formed?</td>\n",
       "      <td>D1-3</td>\n",
       "      <td>A glacier cave is a cave formed within the ice...</td>\n",
       "      <td>1</td>\n",
       "    </tr>\n",
       "    <tr>\n",
       "      <th>4</th>\n",
       "      <td>Q1</td>\n",
       "      <td>how are glacier caves formed?</td>\n",
       "      <td>D1-4</td>\n",
       "      <td>Glacier caves are often called ice caves , but...</td>\n",
       "      <td>0</td>\n",
       "    </tr>\n",
       "  </tbody>\n",
       "</table>\n",
       "</div>"
      ],
      "text/plain": [
       "  id_left                      text_left id_right  \\\n",
       "0      Q1  how are glacier caves formed?     D1-0   \n",
       "1      Q1  how are glacier caves formed?     D1-1   \n",
       "2      Q1  how are glacier caves formed?     D1-2   \n",
       "3      Q1  how are glacier caves formed?     D1-3   \n",
       "4      Q1  how are glacier caves formed?     D1-4   \n",
       "\n",
       "                                          text_right  label  \n",
       "0  A partly submerged glacier cave on Perito More...      0  \n",
       "1          The ice facade is approximately 60 m high      0  \n",
       "2          Ice formations in the Titlis glacier cave      0  \n",
       "3  A glacier cave is a cave formed within the ice...      1  \n",
       "4  Glacier caves are often called ice caves , but...      0  "
      ]
     },
     "execution_count": 62,
     "metadata": {},
     "output_type": "execute_result"
    }
   ],
   "source": [
    "train_data_pack.frame().head()"
   ]
  },
  {
   "cell_type": "markdown",
   "metadata": {},
   "source": [
    "However, using such `pandas.DataFrame` consumes much more memory if there are many duplicates in the texts, and that is the exact reason why we use `DataPack`. For more details about data handling, consult `matchzoo/tutorials/data_handling.ipynb`."
   ]
  },
  {
   "cell_type": "markdown",
   "metadata": {},
   "source": [
    "# Preprocessing"
   ]
  },
  {
   "cell_type": "markdown",
   "metadata": {},
   "source": [
    "MatchZoo preprocessors are used to convert a raw `DataPack` into a `DataPack` that ready to be fed into a model. "
   ]
  },
  {
   "cell_type": "code",
   "execution_count": 63,
   "metadata": {
    "ExecuteTime": {
     "end_time": "2018-12-21T17:13:08.372767Z",
     "start_time": "2018-12-21T17:13:08.370561Z"
    },
    "collapsed": true
   },
   "outputs": [],
   "source": [
    "preprocessor = mz.preprocessors.NaivePreprocessor()"
   ]
  },
  {
   "cell_type": "markdown",
   "metadata": {},
   "source": [
    "There are two steps to use a preprocessor. First, `fit`. Then, `transform`. `fit` will only changes the preprocessor's inner state but not the input `DataPack`."
   ]
  },
  {
   "cell_type": "code",
   "execution_count": 64,
   "metadata": {
    "ExecuteTime": {
     "end_time": "2018-12-21T17:13:13.777224Z",
     "start_time": "2018-12-21T17:13:09.548843Z"
    }
   },
   "outputs": [
    {
     "name": "stderr",
     "output_type": "stream",
     "text": [
      "Processing text_left with chain_transform of TokenizeUnit => LowercaseUnit => PuncRemovalUnit: 100%|██████████| 2117/2117 [00:00<00:00, 10113.17it/s]\n",
      "Processing text_right with chain_transform of TokenizeUnit => LowercaseUnit => PuncRemovalUnit: 100%|██████████| 18828/18828 [00:03<00:00, 4999.25it/s]\n",
      "Processing text_left with extend: 100%|██████████| 2117/2117 [00:00<00:00, 647418.27it/s]\n",
      "Processing text_right with extend: 100%|██████████| 18828/18828 [00:00<00:00, 690053.00it/s]\n",
      "Building VocabularyUnit from a datapack.: 100%|██████████| 418540/418540 [00:00<00:00, 2473958.72it/s]\n"
     ]
    },
    {
     "data": {
      "text/plain": [
       "<matchzoo.preprocessors.naive_preprocessor.NaivePreprocessor at 0x11f3ccfd0>"
      ]
     },
     "execution_count": 64,
     "metadata": {},
     "output_type": "execute_result"
    }
   ],
   "source": [
    "preprocessor.fit(train_data_pack)"
   ]
  },
  {
   "cell_type": "markdown",
   "metadata": {},
   "source": [
    "`fit` will gather all information it needs into its `context`. In the above example, we can see a `VocabularyUnit` is built during the fitting process using `train_data_pack`."
   ]
  },
  {
   "cell_type": "code",
   "execution_count": 65,
   "metadata": {
    "ExecuteTime": {
     "end_time": "2018-12-21T17:13:14.731256Z",
     "start_time": "2018-12-21T17:13:14.725226Z"
    }
   },
   "outputs": [
    {
     "data": {
      "text/plain": [
       "{'vocab_unit': <matchzoo.processor_units.processor_units.VocabularyUnit at 0x12ce30fd0>}"
      ]
     },
     "execution_count": 65,
     "metadata": {},
     "output_type": "execute_result"
    }
   ],
   "source": [
    "preprocessor.context"
   ]
  },
  {
   "cell_type": "markdown",
   "metadata": {},
   "source": [
    "`VocabularyUnit` is a `StatefulProcessorUnit` that has a similar `fit`/`transform` interface. Once a `VocabularyUnit` `fit`, it will store a mapping from `term` to `index` and the reverse in its `state`."
   ]
  },
  {
   "cell_type": "markdown",
   "metadata": {},
   "source": [
    "The `NaivePreprocessor` already handles `VocabularyUnit` internally, so we do not have to worry about that. Just access it through the `NaivePreprocessor`'s `context`."
   ]
  },
  {
   "cell_type": "code",
   "execution_count": 66,
   "metadata": {
    "ExecuteTime": {
     "end_time": "2018-12-21T17:13:18.294790Z",
     "start_time": "2018-12-21T17:13:18.287381Z"
    }
   },
   "outputs": [
    {
     "name": "stdout",
     "output_type": "stream",
     "text": [
      "8783\n",
      "1111\n",
      "61\n",
      "rapid\n"
     ]
    }
   ],
   "source": [
    "vocab_unit = preprocessor.context['vocab_unit']\n",
    "print(vocab_unit.state['term_index']['match'])\n",
    "print(vocab_unit.state['term_index']['zoo'])\n",
    "print(vocab_unit.state['index_term'][1])\n",
    "print(vocab_unit.state['index_term'][2])"
   ]
  },
  {
   "cell_type": "markdown",
   "metadata": {},
   "source": [
    "Once `fit`, the preprocessor has enough information to `transform`.  `transform` will not change the preprocessor's inner state and the input `DataPack`, but return a transformed `DataPack`."
   ]
  },
  {
   "cell_type": "code",
   "execution_count": 67,
   "metadata": {
    "ExecuteTime": {
     "end_time": "2018-12-21T17:13:25.579701Z",
     "start_time": "2018-12-21T17:13:19.905604Z"
    }
   },
   "outputs": [
    {
     "name": "stderr",
     "output_type": "stream",
     "text": [
      "Processing text_left with chain_transform of TokenizeUnit => LowercaseUnit => PuncRemovalUnit => VocabularyUnit => FixedLengthUnit: 100%|██████████| 2117/2117 [00:00<00:00, 8024.41it/s]\n",
      "Processing text_right with chain_transform of TokenizeUnit => LowercaseUnit => PuncRemovalUnit => VocabularyUnit => FixedLengthUnit: 100%|██████████| 18828/18828 [00:04<00:00, 4681.04it/s]\n",
      "Processing text_left with chain_transform of TokenizeUnit => LowercaseUnit => PuncRemovalUnit => VocabularyUnit => FixedLengthUnit: 100%|██████████| 630/630 [00:00<00:00, 8012.50it/s]\n",
      "Processing text_right with chain_transform of TokenizeUnit => LowercaseUnit => PuncRemovalUnit => VocabularyUnit => FixedLengthUnit: 100%|██████████| 5914/5914 [00:01<00:00, 4581.09it/s]\n"
     ]
    }
   ],
   "source": [
    "train_data_pack_processed = preprocessor.transform(train_data_pack)\n",
    "test_data_pack_processed = preprocessor.transform(test_data_pack)"
   ]
  },
  {
   "cell_type": "code",
   "execution_count": 68,
   "metadata": {
    "ExecuteTime": {
     "end_time": "2018-12-21T17:13:26.210827Z",
     "start_time": "2018-12-21T17:13:26.199173Z"
    }
   },
   "outputs": [
    {
     "data": {
      "text/html": [
       "<div>\n",
       "<style scoped>\n",
       "    .dataframe tbody tr th:only-of-type {\n",
       "        vertical-align: middle;\n",
       "    }\n",
       "\n",
       "    .dataframe tbody tr th {\n",
       "        vertical-align: top;\n",
       "    }\n",
       "\n",
       "    .dataframe thead th {\n",
       "        text-align: right;\n",
       "    }\n",
       "</style>\n",
       "<table border=\"1\" class=\"dataframe\">\n",
       "  <thead>\n",
       "    <tr style=\"text-align: right;\">\n",
       "      <th></th>\n",
       "      <th>text_left</th>\n",
       "    </tr>\n",
       "    <tr>\n",
       "      <th>id_left</th>\n",
       "      <th></th>\n",
       "    </tr>\n",
       "  </thead>\n",
       "  <tbody>\n",
       "    <tr>\n",
       "      <th>Q1</th>\n",
       "      <td>[12865, 29105, 964, 4922, 22693, 0, 0, 0, 0, 0...</td>\n",
       "    </tr>\n",
       "    <tr>\n",
       "      <th>Q2</th>\n",
       "      <td>[12865, 29105, 15189, 4952, 3835, 15189, 833, ...</td>\n",
       "    </tr>\n",
       "    <tr>\n",
       "      <th>Q5</th>\n",
       "      <td>[12865, 17587, 25589, 25294, 794, 0, 0, 0, 0, ...</td>\n",
       "    </tr>\n",
       "    <tr>\n",
       "      <th>Q6</th>\n",
       "      <td>[12865, 4818, 13106, 15189, 19429, 24964, 7481...</td>\n",
       "    </tr>\n",
       "    <tr>\n",
       "      <th>Q7</th>\n",
       "      <td>[12865, 4851, 13642, 29984, 2429, 23111, 15512...</td>\n",
       "    </tr>\n",
       "  </tbody>\n",
       "</table>\n",
       "</div>"
      ],
      "text/plain": [
       "                                                 text_left\n",
       "id_left                                                   \n",
       "Q1       [12865, 29105, 964, 4922, 22693, 0, 0, 0, 0, 0...\n",
       "Q2       [12865, 29105, 15189, 4952, 3835, 15189, 833, ...\n",
       "Q5       [12865, 17587, 25589, 25294, 794, 0, 0, 0, 0, ...\n",
       "Q6       [12865, 4818, 13106, 15189, 19429, 24964, 7481...\n",
       "Q7       [12865, 4851, 13642, 29984, 2429, 23111, 15512..."
      ]
     },
     "execution_count": 68,
     "metadata": {},
     "output_type": "execute_result"
    }
   ],
   "source": [
    "train_data_pack_processed.left.head()"
   ]
  },
  {
   "cell_type": "markdown",
   "metadata": {},
   "source": [
    "As we can see, `text_left` is already in sequence form that nerual networks love."
   ]
  },
  {
   "cell_type": "markdown",
   "metadata": {},
   "source": [
    "Just to make sure we have the correct sequence:"
   ]
  },
  {
   "cell_type": "code",
   "execution_count": 69,
   "metadata": {
    "ExecuteTime": {
     "end_time": "2018-12-21T17:13:28.628019Z",
     "start_time": "2018-12-21T17:13:28.623045Z"
    }
   },
   "outputs": [
    {
     "name": "stdout",
     "output_type": "stream",
     "text": [
      "Before: how are glacier caves formed?\n",
      "After: [12865, 29105, 964, 4922, 22693, 0, 0, 0, 0, 0, 0, 0, 0, 0, 0, 0, 0, 0, 0, 0, 0, 0, 0, 0, 0, 0, 0, 0, 0, 0]\n",
      "Translated: how_are_glacier_caves_formed_________________________\n"
     ]
    }
   ],
   "source": [
    "print('Before:', train_data_pack.left.loc['Q1']['text_left'])\n",
    "sequence = train_data_pack_processed.left.loc['Q1']['text_left']\n",
    "print('After:', sequence)\n",
    "print('Translated:', '_'.join([vocab_unit.state['index_term'][i] for i in sequence]))"
   ]
  },
  {
   "cell_type": "markdown",
   "metadata": {},
   "source": [
    "For more details about data handling, consult `matchzoo/tutorials/preprocessing.ipynb`."
   ]
  },
  {
   "cell_type": "markdown",
   "metadata": {},
   "source": [
    "# Build Model"
   ]
  },
  {
   "cell_type": "markdown",
   "metadata": {},
   "source": [
    "MatchZoo provides many built-in text matching models."
   ]
  },
  {
   "cell_type": "code",
   "execution_count": 70,
   "metadata": {
    "ExecuteTime": {
     "end_time": "2018-12-21T17:13:32.808715Z",
     "start_time": "2018-12-21T17:13:32.805241Z"
    }
   },
   "outputs": [
    {
     "data": {
      "text/plain": [
       "[matchzoo.models.naive_model.NaiveModel,\n",
       " matchzoo.models.dssm_model.DSSMModel,\n",
       " matchzoo.models.cdssm_model.CDSSMModel,\n",
       " matchzoo.models.dense_baseline_model.DenseBaselineModel,\n",
       " matchzoo.models.arci_model.ArcIModel,\n",
       " matchzoo.models.knrm_model.KNRMModel,\n",
       " matchzoo.models.duet_model.DUETModel,\n",
       " matchzoo.models.drmmtks_model.DRMMTKSModel,\n",
       " matchzoo.models.drmm.DRMM]"
      ]
     },
     "execution_count": 70,
     "metadata": {},
     "output_type": "execute_result"
    }
   ],
   "source": [
    "mz.models.list_available()"
   ]
  },
  {
   "cell_type": "code",
   "execution_count": 71,
   "metadata": {
    "ExecuteTime": {
     "end_time": "2018-12-21T17:13:33.343924Z",
     "start_time": "2018-12-21T17:13:33.341599Z"
    },
    "collapsed": true
   },
   "outputs": [],
   "source": [
    "model = mz.models.DenseBaselineModel()"
   ]
  },
  {
   "cell_type": "markdown",
   "metadata": {},
   "source": [
    "The model is initialized with a hyper parameter table, in which values are partially filled."
   ]
  },
  {
   "cell_type": "code",
   "execution_count": 72,
   "metadata": {
    "ExecuteTime": {
     "end_time": "2018-12-21T17:13:34.522566Z",
     "start_time": "2018-12-21T17:13:34.519388Z"
    }
   },
   "outputs": [
    {
     "name": "stdout",
     "output_type": "stream",
     "text": [
      "name                          None\n",
      "model_class                   <class 'matchzoo.models.dense_baseline_model.DenseBaselineModel'>\n",
      "input_shapes                  None\n",
      "task                          None\n",
      "optimizer                     None\n",
      "with_multi_layer_perceptron   True\n",
      "mlp_num_units                 256\n",
      "mlp_num_layers                None\n",
      "mlp_num_fan_out               None\n",
      "mlp_activation_func           None\n"
     ]
    }
   ],
   "source": [
    "print(model.params)"
   ]
  },
  {
   "cell_type": "code",
   "execution_count": 73,
   "metadata": {
    "ExecuteTime": {
     "end_time": "2018-12-21T17:13:35.195321Z",
     "start_time": "2018-12-21T17:13:35.192249Z"
    }
   },
   "outputs": [
    {
     "name": "stdout",
     "output_type": "stream",
     "text": [
      "name                          My First Model\n",
      "model_class                   <class 'matchzoo.models.dense_baseline_model.DenseBaselineModel'>\n",
      "input_shapes                  None\n",
      "task                          None\n",
      "optimizer                     None\n",
      "with_multi_layer_perceptron   True\n",
      "mlp_num_units                 3\n",
      "mlp_num_layers                None\n",
      "mlp_num_fan_out               None\n",
      "mlp_activation_func           None\n"
     ]
    }
   ],
   "source": [
    "model.params['name'] = 'My First Model'\n",
    "model.params['mlp_num_units'] = 3\n",
    "print(model.params)"
   ]
  },
  {
   "cell_type": "markdown",
   "metadata": {},
   "source": [
    "Use `guess_and_fill_missing_params` to automatically fill-in other hyper parameters. This involves some guessing so the parameter it fills could be wrong. For example, the default task is `Ranking`, and if we do not set it to `Classification` manaully for data packs prepared for classification, then the shape of the model output and the data will mismatch."
   ]
  },
  {
   "cell_type": "code",
   "execution_count": 74,
   "metadata": {
    "ExecuteTime": {
     "end_time": "2018-12-21T17:13:36.834444Z",
     "start_time": "2018-12-21T17:13:36.830965Z"
    }
   },
   "outputs": [
    {
     "name": "stdout",
     "output_type": "stream",
     "text": [
      "Parameter \"task\" set to Ranking Task.\n",
      "Parameter \"input_shapes\" set to [(30,), (30,)].\n",
      "Parameter \"optimizer\" set to adam.\n",
      "Parameter \"mlp_num_layers\" set to 3.\n",
      "Parameter \"mlp_num_fan_out\" set to 32.\n",
      "Parameter \"mlp_activation_func\" set to relu.\n",
      "name                          My First Model\n",
      "model_class                   <class 'matchzoo.models.dense_baseline_model.DenseBaselineModel'>\n",
      "input_shapes                  [(30,), (30,)]\n",
      "task                          Ranking Task\n",
      "optimizer                     adam\n",
      "with_multi_layer_perceptron   True\n",
      "mlp_num_units                 3\n",
      "mlp_num_layers                3\n",
      "mlp_num_fan_out               32\n",
      "mlp_activation_func           relu\n"
     ]
    }
   ],
   "source": [
    "model.guess_and_fill_missing_params()\n",
    "print(model.params)"
   ]
  },
  {
   "cell_type": "code",
   "execution_count": 75,
   "metadata": {
    "ExecuteTime": {
     "end_time": "2018-12-21T17:13:37.686071Z",
     "start_time": "2018-12-21T17:13:37.681504Z"
    }
   },
   "outputs": [
    {
     "data": {
      "text/plain": [
       "True"
      ]
     },
     "execution_count": 75,
     "metadata": {},
     "output_type": "execute_result"
    }
   ],
   "source": [
    "model.params.completed()"
   ]
  },
  {
   "cell_type": "markdown",
   "metadata": {},
   "source": [
    "With all parameters filled in, we can now build and compile the model."
   ]
  },
  {
   "cell_type": "code",
   "execution_count": 76,
   "metadata": {
    "ExecuteTime": {
     "end_time": "2018-12-21T17:13:40.601429Z",
     "start_time": "2018-12-21T17:13:40.505935Z"
    }
   },
   "outputs": [
    {
     "name": "stdout",
     "output_type": "stream",
     "text": [
      "__________________________________________________________________________________________________\n",
      "Layer (type)                    Output Shape         Param #     Connected to                     \n",
      "==================================================================================================\n",
      "text_left (InputLayer)          (None, 30)           0                                            \n",
      "__________________________________________________________________________________________________\n",
      "text_right (InputLayer)         (None, 30)           0                                            \n",
      "__________________________________________________________________________________________________\n",
      "concatenate_11 (Concatenate)    (None, 60)           0           text_left[0][0]                  \n",
      "                                                                 text_right[0][0]                 \n",
      "__________________________________________________________________________________________________\n",
      "dense_99 (Dense)                (None, 3)            183         concatenate_11[0][0]             \n",
      "__________________________________________________________________________________________________\n",
      "dense_100 (Dense)               (None, 3)            12          dense_99[0][0]                   \n",
      "__________________________________________________________________________________________________\n",
      "dense_101 (Dense)               (None, 3)            12          dense_100[0][0]                  \n",
      "__________________________________________________________________________________________________\n",
      "dense_102 (Dense)               (None, 32)           128         dense_101[0][0]                  \n",
      "__________________________________________________________________________________________________\n",
      "dense_103 (Dense)               (None, 1)            33          dense_102[0][0]                  \n",
      "==================================================================================================\n",
      "Total params: 368\n",
      "Trainable params: 368\n",
      "Non-trainable params: 0\n",
      "__________________________________________________________________________________________________\n"
     ]
    }
   ],
   "source": [
    "model.build()\n",
    "model.compile()\n",
    "model.backend.summary()"
   ]
  },
  {
   "cell_type": "markdown",
   "metadata": {
    "ExecuteTime": {
     "end_time": "2018-12-10T13:28:54.044570Z",
     "start_time": "2018-12-10T13:28:54.038325Z"
    }
   },
   "source": [
    "For more details about models, consult `matchzoo/tutorials/models.ipynb`."
   ]
  },
  {
   "cell_type": "markdown",
   "metadata": {},
   "source": [
    "# Train, Evaluate, Predict"
   ]
  },
  {
   "cell_type": "markdown",
   "metadata": {},
   "source": [
    "A `DataPack` can `unpack` itself into data that can be directly used to train a MatchZoo model."
   ]
  },
  {
   "cell_type": "code",
   "execution_count": 77,
   "metadata": {
    "ExecuteTime": {
     "end_time": "2018-12-21T17:13:44.960287Z",
     "start_time": "2018-12-21T17:13:44.678522Z"
    },
    "collapsed": true
   },
   "outputs": [],
   "source": [
    "x, y = train_data_pack_processed.unpack()\n",
    "test_x, test_y = test_data_pack_processed.unpack()"
   ]
  },
  {
   "cell_type": "code",
   "execution_count": 78,
   "metadata": {
    "ExecuteTime": {
     "end_time": "2018-12-21T17:13:52.778841Z",
     "start_time": "2018-12-21T17:13:45.233555Z"
    }
   },
   "outputs": [
    {
     "name": "stdout",
     "output_type": "stream",
     "text": [
      "Epoch 1/5\n",
      "20347/20347 [==============================] - 2s 121us/step - loss: 1256.6792 - mean_absolute_error: 6.6904\n",
      "Epoch 2/5\n",
      "20347/20347 [==============================] - 1s 62us/step - loss: 0.4539 - mean_absolute_error: 0.1395\n",
      "Epoch 3/5\n",
      "20347/20347 [==============================] - 1s 58us/step - loss: 0.0652 - mean_absolute_error: 0.1067\n",
      "Epoch 4/5\n",
      "20347/20347 [==============================] - 1s 57us/step - loss: 0.0657 - mean_absolute_error: 0.1132\n",
      "Epoch 5/5\n",
      "20347/20347 [==============================] - 1s 56us/step - loss: 0.0636 - mean_absolute_error: 0.1107\n"
     ]
    },
    {
     "data": {
      "text/plain": [
       "<keras.callbacks.History at 0x12cc389e8>"
      ]
     },
     "execution_count": 78,
     "metadata": {},
     "output_type": "execute_result"
    }
   ],
   "source": [
    "model.fit(x, y, batch_size=32, epochs=5)"
   ]
  },
  {
   "cell_type": "markdown",
   "metadata": {},
   "source": [
    "An alternative to train a model is to use a `DataGenerator`. This might be useful for delaying expensive preprocessing steps or doing real-time data augmentation. For more details about `DataGenerator`, consult `matchzoo/tutorials/data_handling.ipynb`."
   ]
  },
  {
   "cell_type": "code",
   "execution_count": 79,
   "metadata": {
    "ExecuteTime": {
     "end_time": "2018-12-21T17:13:52.997789Z",
     "start_time": "2018-12-21T17:13:52.990389Z"
    },
    "collapsed": true
   },
   "outputs": [],
   "source": [
    "data_generator = mz.DataGenerator(train_data_pack_processed, batch_size=32)"
   ]
  },
  {
   "cell_type": "code",
   "execution_count": 80,
   "metadata": {
    "ExecuteTime": {
     "end_time": "2018-12-21T17:14:14.881169Z",
     "start_time": "2018-12-21T17:13:53.199798Z"
    }
   },
   "outputs": [
    {
     "name": "stdout",
     "output_type": "stream",
     "text": [
      "Epoch 1/5\n",
      "636/636 [==============================] - 5s 7ms/step - loss: 0.0621 - mean_absolute_error: 0.1107\n",
      "Epoch 2/5\n",
      "636/636 [==============================] - 6s 9ms/step - loss: 0.0595 - mean_absolute_error: 0.1089\n",
      "Epoch 3/5\n",
      "636/636 [==============================] - 4s 7ms/step - loss: 0.0644 - mean_absolute_error: 0.1111\n",
      "Epoch 4/5\n",
      "636/636 [==============================] - 4s 6ms/step - loss: 0.0646 - mean_absolute_error: 0.1106\n",
      "Epoch 5/5\n",
      "636/636 [==============================] - 3s 5ms/step - loss: 0.0624 - mean_absolute_error: 0.1116\n"
     ]
    },
    {
     "data": {
      "text/plain": [
       "<keras.callbacks.History at 0x12cb4f6a0>"
      ]
     },
     "execution_count": 80,
     "metadata": {},
     "output_type": "execute_result"
    }
   ],
   "source": [
    "model.fit_generator(data_generator, epochs=5, use_multiprocessing=True, workers=4)"
   ]
  },
  {
   "cell_type": "code",
   "execution_count": 81,
   "metadata": {
    "ExecuteTime": {
     "end_time": "2018-12-21T17:14:15.905448Z",
     "start_time": "2018-12-21T17:14:15.224218Z"
    }
   },
   "outputs": [
    {
     "name": "stdout",
     "output_type": "stream",
     "text": [
      "6116/6116 [==============================] - 1s 109us/step\n"
     ]
    },
    {
     "data": {
      "text/plain": [
       "{'loss': 0.04958058035328858, 'mean_absolute_error': 0.08137181649280577}"
      ]
     },
     "execution_count": 81,
     "metadata": {},
     "output_type": "execute_result"
    }
   ],
   "source": [
    "model.evaluate(test_x, test_y)"
   ]
  },
  {
   "cell_type": "code",
   "execution_count": 82,
   "metadata": {
    "ExecuteTime": {
     "end_time": "2018-12-21T17:14:16.722663Z",
     "start_time": "2018-12-21T17:14:16.157898Z"
    }
   },
   "outputs": [
    {
     "data": {
      "text/plain": [
       "array([[ 0.0290747 ],\n",
       "       [ 0.03049568],\n",
       "       [ 0.05234022],\n",
       "       ...,\n",
       "       [ 0.05234022],\n",
       "       [-0.01602625],\n",
       "       [ 0.02186111]], dtype=float32)"
      ]
     },
     "execution_count": 82,
     "metadata": {},
     "output_type": "execute_result"
    }
   ],
   "source": [
    "model.predict(test_x)"
   ]
  },
  {
   "cell_type": "markdown",
   "metadata": {
    "ExecuteTime": {
     "end_time": "2018-12-10T14:00:25.446639Z",
     "start_time": "2018-12-10T14:00:25.444180Z"
    }
   },
   "source": [
    "# Automation"
   ]
  },
  {
   "cell_type": "markdown",
   "metadata": {},
   "source": [
    "MatchZoo strives for ease of use, and package `matchzoo.auto` is a perfect example of that."
   ]
  },
  {
   "cell_type": "markdown",
   "metadata": {},
   "source": [
    "`matchzoo.auto.prepare` handles interaction among data, model, and preprocessor automatically. For example, some model like `DSSM` have dynamic input shapes based on the result of word hashing. Some models have an embedding layer which dimension is related to the data's vocabulary size. `prepare` takes care of all that and returns properly prepared model, data, and preprocessor for you."
   ]
  },
  {
   "cell_type": "code",
   "execution_count": 83,
   "metadata": {
    "ExecuteTime": {
     "end_time": "2018-12-21T17:14:22.733091Z",
     "start_time": "2018-12-21T17:14:16.956036Z"
    }
   },
   "outputs": [
    {
     "name": "stderr",
     "output_type": "stream",
     "text": [
      "Processing text_left with chain_transform of TokenizeUnit => LowercaseUnit => PuncRemovalUnit => StopRemovalUnit => NgramLetterUnit: 100%|██████████| 13/13 [00:00<00:00, 2099.17it/s]\n",
      "Processing text_right with chain_transform of TokenizeUnit => LowercaseUnit => PuncRemovalUnit => StopRemovalUnit => NgramLetterUnit: 100%|██████████| 100/100 [00:00<00:00, 2978.23it/s]\n",
      "Processing text_left with extend: 100%|██████████| 13/13 [00:00<00:00, 16902.03it/s]\n",
      "Processing text_right with extend: 100%|██████████| 100/100 [00:00<00:00, 82776.87it/s]\n",
      "Building VocabularyUnit from a datapack.: 100%|██████████| 8523/8523 [00:00<00:00, 2028373.41it/s]\n",
      "Processing text_left with chain_transform of TokenizeUnit => LowercaseUnit => PuncRemovalUnit => StopRemovalUnit => NgramLetterUnit => WordHashingUnit: 100%|██████████| 13/13 [00:00<00:00, 3881.96it/s]\n",
      "Processing text_right with chain_transform of TokenizeUnit => LowercaseUnit => PuncRemovalUnit => StopRemovalUnit => NgramLetterUnit => WordHashingUnit: 100%|██████████| 100/100 [00:00<00:00, 2568.20it/s]"
     ]
    },
    {
     "name": "stdout",
     "output_type": "stream",
     "text": [
      "Parameter \"name\" set to DSSMModel.\n",
      "Parameter \"mlp_num_layers\" set to 3.\n",
      "Parameter \"mlp_num_units\" set to 64.\n",
      "Parameter \"mlp_num_fan_out\" set to 32.\n",
      "Parameter \"mlp_activation_func\" set to relu.\n"
     ]
    },
    {
     "name": "stderr",
     "output_type": "stream",
     "text": [
      "\n"
     ]
    },
    {
     "name": "stdout",
     "output_type": "stream",
     "text": [
      "Epoch 1/1\n",
      "100/100 [==============================] - 2s 17ms/step - loss: 0.0579 - mean_absolute_error: 0.1510\n",
      "6116/6116 [==============================] - 1s 113us/step\n"
     ]
    },
    {
     "data": {
      "text/plain": [
       "{'loss': 0.04682399806163918, 'mean_absolute_error': 0.09136102424095159}"
      ]
     },
     "execution_count": 83,
     "metadata": {},
     "output_type": "execute_result"
    }
   ],
   "source": [
    "model_ok, train_ok, preprocesor_ok = mz.auto.prepare(\n",
    "    model=mz.models.DSSMModel(),\n",
    "    data_pack=train_data_pack[:100]\n",
    ")\n",
    "test_ok = preprocesor_ok.transform(test_data_pack, verbose=0)\n",
    "model_ok.fit(*train_ok.unpack(), batch_size=32)\n",
    "model_ok.evaluate(*test_ok.unpack())"
   ]
  },
  {
   "cell_type": "markdown",
   "metadata": {},
   "source": [
    "For more details about automation, consult `matchzoo/tutorials/automation.ipynb`."
   ]
  },
  {
   "cell_type": "markdown",
   "metadata": {
    "ExecuteTime": {
     "start_time": "2018-12-21T14:38:51.631Z"
    }
   },
   "source": [
    "# Full Example"
   ]
  },
  {
   "cell_type": "code",
   "execution_count": 50,
   "metadata": {
    "ExecuteTime": {
     "end_time": "2018-12-21T16:57:56.195334Z",
     "start_time": "2018-12-21T16:57:56.192699Z"
    }
   },
   "outputs": [],
   "source": [
    "model_classes = [\n",
    "#     mz.models.DenseBaselineModel,\n",
    "    mz.models.DSSMModel,\n",
    "#     mz.models.ArcIModel,\n",
    "    mz.models.DUETModel,\n",
    "    mz.models.KNRMModel\n",
    "]"
   ]
  },
  {
   "cell_type": "code",
   "execution_count": 52,
   "metadata": {
    "ExecuteTime": {
     "end_time": "2018-12-21T17:09:59.821502Z",
     "start_time": "2018-12-21T17:00:52.610411Z"
    },
    "scrolled": true
   },
   "outputs": [
    {
     "name": "stdout",
     "output_type": "stream",
     "text": [
      "<class 'matchzoo.models.dssm_model.DSSMModel'>\n",
      "Epoch 1/30\n",
      "2000/2000 [==============================] - 2s 1ms/step - loss: 0.0465 - mean_absolute_error: 0.0688\n"
     ]
    },
    {
     "name": "stderr",
     "output_type": "stream",
     "text": [
      "Validation: loss:0.045543 - mean_absolute_error:0.076757 - average_precision(0):0.109458 - normalized_discounted_cumulative_gain@1(0):0.171429\n"
     ]
    },
    {
     "name": "stdout",
     "output_type": "stream",
     "text": [
      "Epoch 2/30\n",
      "2000/2000 [==============================] - 0s 221us/step - loss: 0.0448 - mean_absolute_error: 0.0774\n"
     ]
    },
    {
     "name": "stderr",
     "output_type": "stream",
     "text": [
      "Validation: loss:0.045394 - mean_absolute_error:0.088274 - average_precision(0):0.088499 - normalized_discounted_cumulative_gain@1(0):0.117460\n"
     ]
    },
    {
     "name": "stdout",
     "output_type": "stream",
     "text": [
      "Epoch 3/30\n",
      "2000/2000 [==============================] - 0s 230us/step - loss: 0.0439 - mean_absolute_error: 0.0750\n"
     ]
    },
    {
     "name": "stderr",
     "output_type": "stream",
     "text": [
      "Validation: loss:0.045644 - mean_absolute_error:0.081708 - average_precision(0):0.071189 - normalized_discounted_cumulative_gain@1(0):0.058730\n"
     ]
    },
    {
     "name": "stdout",
     "output_type": "stream",
     "text": [
      "Epoch 4/30\n",
      "2000/2000 [==============================] - 0s 224us/step - loss: 0.0411 - mean_absolute_error: 0.0646\n"
     ]
    },
    {
     "name": "stderr",
     "output_type": "stream",
     "text": [
      "Validation: loss:0.045792 - mean_absolute_error:0.098531 - average_precision(0):0.069814 - normalized_discounted_cumulative_gain@1(0):0.053968\n"
     ]
    },
    {
     "name": "stdout",
     "output_type": "stream",
     "text": [
      "Epoch 5/30\n",
      "2000/2000 [==============================] - 1s 267us/step - loss: 0.0380 - mean_absolute_error: 0.0634\n"
     ]
    },
    {
     "name": "stderr",
     "output_type": "stream",
     "text": [
      "Validation: loss:0.048159 - mean_absolute_error:0.067191 - average_precision(0):0.071763 - normalized_discounted_cumulative_gain@1(0):0.052381\n"
     ]
    },
    {
     "name": "stdout",
     "output_type": "stream",
     "text": [
      "Epoch 6/30\n",
      "2000/2000 [==============================] - 1s 283us/step - loss: 0.0343 - mean_absolute_error: 0.0556\n"
     ]
    },
    {
     "name": "stderr",
     "output_type": "stream",
     "text": [
      "Validation: loss:0.048167 - mean_absolute_error:0.065402 - average_precision(0):0.072011 - normalized_discounted_cumulative_gain@1(0):0.055556\n"
     ]
    },
    {
     "name": "stdout",
     "output_type": "stream",
     "text": [
      "Epoch 7/30\n",
      "2000/2000 [==============================] - 1s 277us/step - loss: 0.0317 - mean_absolute_error: 0.0528\n"
     ]
    },
    {
     "name": "stderr",
     "output_type": "stream",
     "text": [
      "Validation: loss:0.046857 - mean_absolute_error:0.061412 - average_precision(0):0.077657 - normalized_discounted_cumulative_gain@1(0):0.061905\n"
     ]
    },
    {
     "name": "stdout",
     "output_type": "stream",
     "text": [
      "Epoch 8/30\n",
      "2000/2000 [==============================] - 1s 278us/step - loss: 0.0278 - mean_absolute_error: 0.0477\n"
     ]
    },
    {
     "name": "stderr",
     "output_type": "stream",
     "text": [
      "Validation: loss:0.048006 - mean_absolute_error:0.061719 - average_precision(0):0.083894 - normalized_discounted_cumulative_gain@1(0):0.085714\n"
     ]
    },
    {
     "name": "stdout",
     "output_type": "stream",
     "text": [
      "Epoch 9/30\n",
      "2000/2000 [==============================] - 1s 323us/step - loss: 0.0252 - mean_absolute_error: 0.0439\n"
     ]
    },
    {
     "name": "stderr",
     "output_type": "stream",
     "text": [
      "Validation: loss:0.047898 - mean_absolute_error:0.057489 - average_precision(0):0.085298 - normalized_discounted_cumulative_gain@1(0):0.082540\n"
     ]
    },
    {
     "name": "stdout",
     "output_type": "stream",
     "text": [
      "Epoch 10/30\n",
      "2000/2000 [==============================] - 1s 286us/step - loss: 0.0226 - mean_absolute_error: 0.0411\n"
     ]
    },
    {
     "name": "stderr",
     "output_type": "stream",
     "text": [
      "Validation: loss:0.049338 - mean_absolute_error:0.061706 - average_precision(0):0.084895 - normalized_discounted_cumulative_gain@1(0):0.085714\n"
     ]
    },
    {
     "name": "stdout",
     "output_type": "stream",
     "text": [
      "Epoch 11/30\n",
      "2000/2000 [==============================] - 1s 263us/step - loss: 0.0208 - mean_absolute_error: 0.0394\n"
     ]
    },
    {
     "name": "stderr",
     "output_type": "stream",
     "text": [
      "Validation: loss:0.050000 - mean_absolute_error:0.083023 - average_precision(0):0.076570 - normalized_discounted_cumulative_gain@1(0):0.066667\n"
     ]
    },
    {
     "name": "stdout",
     "output_type": "stream",
     "text": [
      "Epoch 12/30\n",
      "2000/2000 [==============================] - 0s 238us/step - loss: 0.0188 - mean_absolute_error: 0.0399\n"
     ]
    },
    {
     "name": "stderr",
     "output_type": "stream",
     "text": [
      "Validation: loss:0.048649 - mean_absolute_error:0.059577 - average_precision(0):0.083245 - normalized_discounted_cumulative_gain@1(0):0.084127\n"
     ]
    },
    {
     "name": "stdout",
     "output_type": "stream",
     "text": [
      "Epoch 13/30\n",
      "2000/2000 [==============================] - 0s 217us/step - loss: 0.0168 - mean_absolute_error: 0.0349\n"
     ]
    },
    {
     "name": "stderr",
     "output_type": "stream",
     "text": [
      "Validation: loss:0.052190 - mean_absolute_error:0.072221 - average_precision(0):0.078505 - normalized_discounted_cumulative_gain@1(0):0.082540\n"
     ]
    },
    {
     "name": "stdout",
     "output_type": "stream",
     "text": [
      "Epoch 14/30\n",
      "2000/2000 [==============================] - 0s 230us/step - loss: 0.0161 - mean_absolute_error: 0.0370\n"
     ]
    },
    {
     "name": "stderr",
     "output_type": "stream",
     "text": [
      "Validation: loss:0.051632 - mean_absolute_error:0.064774 - average_precision(0):0.076152 - normalized_discounted_cumulative_gain@1(0):0.071429\n"
     ]
    },
    {
     "name": "stdout",
     "output_type": "stream",
     "text": [
      "Epoch 15/30\n",
      "2000/2000 [==============================] - 1s 331us/step - loss: 0.0138 - mean_absolute_error: 0.0309\n"
     ]
    },
    {
     "name": "stderr",
     "output_type": "stream",
     "text": [
      "Validation: loss:0.052422 - mean_absolute_error:0.062620 - average_precision(0):0.074892 - normalized_discounted_cumulative_gain@1(0):0.065079\n"
     ]
    },
    {
     "name": "stdout",
     "output_type": "stream",
     "text": [
      "Epoch 16/30\n",
      "2000/2000 [==============================] - 1s 299us/step - loss: 0.0143 - mean_absolute_error: 0.0321\n"
     ]
    },
    {
     "name": "stderr",
     "output_type": "stream",
     "text": [
      "Validation: loss:0.051442 - mean_absolute_error:0.068840 - average_precision(0):0.080503 - normalized_discounted_cumulative_gain@1(0):0.084127\n"
     ]
    },
    {
     "name": "stdout",
     "output_type": "stream",
     "text": [
      "Epoch 17/30\n",
      "2000/2000 [==============================] - 1s 274us/step - loss: 0.0132 - mean_absolute_error: 0.0331\n"
     ]
    },
    {
     "name": "stderr",
     "output_type": "stream",
     "text": [
      "Validation: loss:0.050332 - mean_absolute_error:0.058878 - average_precision(0):0.078628 - normalized_discounted_cumulative_gain@1(0):0.077778\n"
     ]
    },
    {
     "name": "stdout",
     "output_type": "stream",
     "text": [
      "Epoch 18/30\n",
      "2000/2000 [==============================] - 1s 286us/step - loss: 0.0116 - mean_absolute_error: 0.0296\n"
     ]
    },
    {
     "name": "stderr",
     "output_type": "stream",
     "text": [
      "Validation: loss:0.050741 - mean_absolute_error:0.062498 - average_precision(0):0.077367 - normalized_discounted_cumulative_gain@1(0):0.077778\n"
     ]
    },
    {
     "name": "stdout",
     "output_type": "stream",
     "text": [
      "Epoch 19/30\n",
      "2000/2000 [==============================] - 1s 296us/step - loss: 0.0092 - mean_absolute_error: 0.0240\n"
     ]
    },
    {
     "name": "stderr",
     "output_type": "stream",
     "text": [
      "Validation: loss:0.051705 - mean_absolute_error:0.063853 - average_precision(0):0.077160 - normalized_discounted_cumulative_gain@1(0):0.074603\n"
     ]
    },
    {
     "name": "stdout",
     "output_type": "stream",
     "text": [
      "Epoch 20/30\n",
      "2000/2000 [==============================] - 1s 276us/step - loss: 0.0079 - mean_absolute_error: 0.0231\n"
     ]
    },
    {
     "name": "stderr",
     "output_type": "stream",
     "text": [
      "Validation: loss:0.050908 - mean_absolute_error:0.060600 - average_precision(0):0.076329 - normalized_discounted_cumulative_gain@1(0):0.069841\n"
     ]
    },
    {
     "name": "stdout",
     "output_type": "stream",
     "text": [
      "Epoch 21/30\n",
      "2000/2000 [==============================] - 1s 272us/step - loss: 0.0070 - mean_absolute_error: 0.0203\n"
     ]
    },
    {
     "name": "stderr",
     "output_type": "stream",
     "text": [
      "Validation: loss:0.052240 - mean_absolute_error:0.062494 - average_precision(0):0.078704 - normalized_discounted_cumulative_gain@1(0):0.077778\n"
     ]
    },
    {
     "name": "stdout",
     "output_type": "stream",
     "text": [
      "Epoch 22/30\n",
      "2000/2000 [==============================] - 1s 263us/step - loss: 0.0063 - mean_absolute_error: 0.0191\n"
     ]
    },
    {
     "name": "stderr",
     "output_type": "stream",
     "text": [
      "Validation: loss:0.052651 - mean_absolute_error:0.062036 - average_precision(0):0.077991 - normalized_discounted_cumulative_gain@1(0):0.076190\n"
     ]
    },
    {
     "name": "stdout",
     "output_type": "stream",
     "text": [
      "Epoch 23/30\n",
      "2000/2000 [==============================] - 1s 291us/step - loss: 0.0057 - mean_absolute_error: 0.0184\n"
     ]
    },
    {
     "name": "stderr",
     "output_type": "stream",
     "text": [
      "Validation: loss:0.052988 - mean_absolute_error:0.062354 - average_precision(0):0.078470 - normalized_discounted_cumulative_gain@1(0):0.076190\n"
     ]
    },
    {
     "name": "stdout",
     "output_type": "stream",
     "text": [
      "Epoch 24/30\n",
      "2000/2000 [==============================] - 1s 273us/step - loss: 0.0052 - mean_absolute_error: 0.0172\n"
     ]
    },
    {
     "name": "stderr",
     "output_type": "stream",
     "text": [
      "Validation: loss:0.053495 - mean_absolute_error:0.062666 - average_precision(0):0.078839 - normalized_discounted_cumulative_gain@1(0):0.073016\n"
     ]
    },
    {
     "name": "stdout",
     "output_type": "stream",
     "text": [
      "Epoch 25/30\n",
      "2000/2000 [==============================] - 1s 292us/step - loss: 0.0047 - mean_absolute_error: 0.0162\n"
     ]
    },
    {
     "name": "stderr",
     "output_type": "stream",
     "text": [
      "Validation: loss:0.053534 - mean_absolute_error:0.062591 - average_precision(0):0.075070 - normalized_discounted_cumulative_gain@1(0):0.073016\n"
     ]
    },
    {
     "name": "stdout",
     "output_type": "stream",
     "text": [
      "Epoch 26/30\n",
      "2000/2000 [==============================] - 1s 292us/step - loss: 0.0043 - mean_absolute_error: 0.0157\n"
     ]
    },
    {
     "name": "stderr",
     "output_type": "stream",
     "text": [
      "Validation: loss:0.058544 - mean_absolute_error:0.072717 - average_precision(0):0.079654 - normalized_discounted_cumulative_gain@1(0):0.079365\n"
     ]
    },
    {
     "name": "stdout",
     "output_type": "stream",
     "text": [
      "Epoch 27/30\n",
      "2000/2000 [==============================] - 1s 279us/step - loss: 0.0040 - mean_absolute_error: 0.0155\n"
     ]
    },
    {
     "name": "stderr",
     "output_type": "stream",
     "text": [
      "Validation: loss:0.056426 - mean_absolute_error:0.066179 - average_precision(0):0.078927 - normalized_discounted_cumulative_gain@1(0):0.082540\n"
     ]
    },
    {
     "name": "stdout",
     "output_type": "stream",
     "text": [
      "Epoch 28/30\n",
      "2000/2000 [==============================] - 1s 364us/step - loss: 0.0037 - mean_absolute_error: 0.0135\n"
     ]
    },
    {
     "name": "stderr",
     "output_type": "stream",
     "text": [
      "Validation: loss:0.052934 - mean_absolute_error:0.061124 - average_precision(0):0.079760 - normalized_discounted_cumulative_gain@1(0):0.080952\n"
     ]
    },
    {
     "name": "stdout",
     "output_type": "stream",
     "text": [
      "Epoch 29/30\n",
      "2000/2000 [==============================] - 1s 285us/step - loss: 0.0031 - mean_absolute_error: 0.0122\n"
     ]
    },
    {
     "name": "stderr",
     "output_type": "stream",
     "text": [
      "Validation: loss:0.052890 - mean_absolute_error:0.060001 - average_precision(0):0.077983 - normalized_discounted_cumulative_gain@1(0):0.076190\n"
     ]
    },
    {
     "name": "stdout",
     "output_type": "stream",
     "text": [
      "Epoch 30/30\n",
      "2000/2000 [==============================] - 1s 256us/step - loss: 0.0032 - mean_absolute_error: 0.0119\n"
     ]
    },
    {
     "name": "stderr",
     "output_type": "stream",
     "text": [
      "Validation: loss:0.067992 - mean_absolute_error:0.082952 - average_precision(0):0.078702 - normalized_discounted_cumulative_gain@1(0):0.080952\n"
     ]
    },
    {
     "name": "stdout",
     "output_type": "stream",
     "text": [
      "<class 'matchzoo.models.duet_model.DUETModel'>\n",
      "Epoch 1/30\n",
      "2000/2000 [==============================] - 5s 3ms/step - loss: 1.3850 - mean_absolute_error: 0.8427\n"
     ]
    },
    {
     "name": "stderr",
     "output_type": "stream",
     "text": [
      "Validation: loss:0.114333 - mean_absolute_error:0.230604 - average_precision(0):0.077900 - normalized_discounted_cumulative_gain@1(0):0.080952\n"
     ]
    },
    {
     "name": "stdout",
     "output_type": "stream",
     "text": [
      "Epoch 2/30\n",
      "2000/2000 [==============================] - 6s 3ms/step - loss: 0.7354 - mean_absolute_error: 0.6195\n"
     ]
    },
    {
     "name": "stderr",
     "output_type": "stream",
     "text": [
      "Validation: loss:0.109614 - mean_absolute_error:0.223631 - average_precision(0):0.076245 - normalized_discounted_cumulative_gain@1(0):0.079365\n"
     ]
    },
    {
     "name": "stdout",
     "output_type": "stream",
     "text": [
      "Epoch 3/30\n",
      "2000/2000 [==============================] - 4s 2ms/step - loss: 0.5032 - mean_absolute_error: 0.5118\n"
     ]
    },
    {
     "name": "stderr",
     "output_type": "stream",
     "text": [
      "Validation: loss:0.093209 - mean_absolute_error:0.205808 - average_precision(0):0.080472 - normalized_discounted_cumulative_gain@1(0):0.087302\n"
     ]
    },
    {
     "name": "stdout",
     "output_type": "stream",
     "text": [
      "Epoch 4/30\n",
      "2000/2000 [==============================] - 4s 2ms/step - loss: 0.3720 - mean_absolute_error: 0.4345\n"
     ]
    },
    {
     "name": "stderr",
     "output_type": "stream",
     "text": [
      "Validation: loss:0.067838 - mean_absolute_error:0.156972 - average_precision(0):0.069405 - normalized_discounted_cumulative_gain@1(0):0.050794\n"
     ]
    },
    {
     "name": "stdout",
     "output_type": "stream",
     "text": [
      "Epoch 5/30\n",
      "2000/2000 [==============================] - 6s 3ms/step - loss: 0.2505 - mean_absolute_error: 0.3627\n"
     ]
    },
    {
     "name": "stderr",
     "output_type": "stream",
     "text": [
      "Validation: loss:0.064790 - mean_absolute_error:0.145144 - average_precision(0):0.073291 - normalized_discounted_cumulative_gain@1(0):0.068254\n"
     ]
    },
    {
     "name": "stdout",
     "output_type": "stream",
     "text": [
      "Epoch 6/30\n",
      "2000/2000 [==============================] - 6s 3ms/step - loss: 0.1936 - mean_absolute_error: 0.3127\n"
     ]
    },
    {
     "name": "stderr",
     "output_type": "stream",
     "text": [
      "Validation: loss:0.061738 - mean_absolute_error:0.142388 - average_precision(0):0.092843 - normalized_discounted_cumulative_gain@1(0):0.103175\n"
     ]
    },
    {
     "name": "stdout",
     "output_type": "stream",
     "text": [
      "Epoch 7/30\n",
      "2000/2000 [==============================] - 4s 2ms/step - loss: 0.1415 - mean_absolute_error: 0.2725\n"
     ]
    },
    {
     "name": "stderr",
     "output_type": "stream",
     "text": [
      "Validation: loss:0.059069 - mean_absolute_error:0.122790 - average_precision(0):0.088096 - normalized_discounted_cumulative_gain@1(0):0.098413\n"
     ]
    },
    {
     "name": "stdout",
     "output_type": "stream",
     "text": [
      "Epoch 8/30\n",
      "2000/2000 [==============================] - 6s 3ms/step - loss: 0.1105 - mean_absolute_error: 0.2390\n"
     ]
    },
    {
     "name": "stderr",
     "output_type": "stream",
     "text": [
      "Validation: loss:0.072565 - mean_absolute_error:0.156123 - average_precision(0):0.087786 - normalized_discounted_cumulative_gain@1(0):0.106349\n"
     ]
    },
    {
     "name": "stdout",
     "output_type": "stream",
     "text": [
      "Epoch 9/30\n",
      "2000/2000 [==============================] - 3s 2ms/step - loss: 0.0922 - mean_absolute_error: 0.2159\n"
     ]
    },
    {
     "name": "stderr",
     "output_type": "stream",
     "text": [
      "Validation: loss:0.054217 - mean_absolute_error:0.145490 - average_precision(0):0.082633 - normalized_discounted_cumulative_gain@1(0):0.090476\n"
     ]
    },
    {
     "name": "stdout",
     "output_type": "stream",
     "text": [
      "Epoch 10/30\n",
      "2000/2000 [==============================] - 4s 2ms/step - loss: 0.0744 - mean_absolute_error: 0.1973\n"
     ]
    },
    {
     "name": "stderr",
     "output_type": "stream",
     "text": [
      "Validation: loss:0.055360 - mean_absolute_error:0.109603 - average_precision(0):0.086299 - normalized_discounted_cumulative_gain@1(0):0.101587\n"
     ]
    },
    {
     "name": "stdout",
     "output_type": "stream",
     "text": [
      "Epoch 11/30\n",
      "2000/2000 [==============================] - 4s 2ms/step - loss: 0.0615 - mean_absolute_error: 0.1774\n"
     ]
    },
    {
     "name": "stderr",
     "output_type": "stream",
     "text": [
      "Validation: loss:0.048227 - mean_absolute_error:0.095547 - average_precision(0):0.086365 - normalized_discounted_cumulative_gain@1(0):0.106349\n"
     ]
    },
    {
     "name": "stdout",
     "output_type": "stream",
     "text": [
      "Epoch 12/30\n",
      "2000/2000 [==============================] - 4s 2ms/step - loss: 0.0541 - mean_absolute_error: 0.1672A: 1s - loss: 0.0579\n"
     ]
    },
    {
     "name": "stderr",
     "output_type": "stream",
     "text": [
      "Validation: loss:0.050610 - mean_absolute_error:0.097966 - average_precision(0):0.090446 - normalized_discounted_cumulative_gain@1(0):0.112698\n"
     ]
    },
    {
     "name": "stdout",
     "output_type": "stream",
     "text": [
      "Epoch 13/30\n",
      "2000/2000 [==============================] - 4s 2ms/step - loss: 0.0459 - mean_absolute_error: 0.1511\n"
     ]
    },
    {
     "name": "stderr",
     "output_type": "stream",
     "text": [
      "Validation: loss:0.049483 - mean_absolute_error:0.110112 - average_precision(0):0.089243 - normalized_discounted_cumulative_gain@1(0):0.104762\n"
     ]
    },
    {
     "name": "stdout",
     "output_type": "stream",
     "text": [
      "Epoch 14/30\n",
      "2000/2000 [==============================] - 4s 2ms/step - loss: 0.0381 - mean_absolute_error: 0.1408\n"
     ]
    },
    {
     "name": "stderr",
     "output_type": "stream",
     "text": [
      "Validation: loss:0.047736 - mean_absolute_error:0.099076 - average_precision(0):0.088277 - normalized_discounted_cumulative_gain@1(0):0.107937\n"
     ]
    },
    {
     "name": "stdout",
     "output_type": "stream",
     "text": [
      "Epoch 15/30\n",
      "2000/2000 [==============================] - 4s 2ms/step - loss: 0.0368 - mean_absolute_error: 0.1351\n"
     ]
    },
    {
     "name": "stderr",
     "output_type": "stream",
     "text": [
      "Validation: loss:0.049395 - mean_absolute_error:0.100433 - average_precision(0):0.086719 - normalized_discounted_cumulative_gain@1(0):0.107937\n"
     ]
    },
    {
     "name": "stdout",
     "output_type": "stream",
     "text": [
      "Epoch 16/30\n",
      "2000/2000 [==============================] - 7s 3ms/step - loss: 0.0352 - mean_absolute_error: 0.1299\n"
     ]
    },
    {
     "name": "stderr",
     "output_type": "stream",
     "text": [
      "Validation: loss:0.048313 - mean_absolute_error:0.100516 - average_precision(0):0.084085 - normalized_discounted_cumulative_gain@1(0):0.093651\n"
     ]
    },
    {
     "name": "stdout",
     "output_type": "stream",
     "text": [
      "Epoch 17/30\n",
      "2000/2000 [==============================] - 4s 2ms/step - loss: 0.0311 - mean_absolute_error: 0.1230\n"
     ]
    },
    {
     "name": "stderr",
     "output_type": "stream",
     "text": [
      "Validation: loss:0.048822 - mean_absolute_error:0.090068 - average_precision(0):0.087820 - normalized_discounted_cumulative_gain@1(0):0.107937\n"
     ]
    },
    {
     "name": "stdout",
     "output_type": "stream",
     "text": [
      "Epoch 18/30\n",
      "2000/2000 [==============================] - 3s 2ms/step - loss: 0.0283 - mean_absolute_error: 0.1183\n"
     ]
    },
    {
     "name": "stderr",
     "output_type": "stream",
     "text": [
      "Validation: loss:0.047539 - mean_absolute_error:0.091345 - average_precision(0):0.089196 - normalized_discounted_cumulative_gain@1(0):0.111111\n"
     ]
    },
    {
     "name": "stdout",
     "output_type": "stream",
     "text": [
      "Epoch 19/30\n",
      "2000/2000 [==============================] - 3s 2ms/step - loss: 0.0243 - mean_absolute_error: 0.1097\n"
     ]
    },
    {
     "name": "stderr",
     "output_type": "stream",
     "text": [
      "Validation: loss:0.048329 - mean_absolute_error:0.096509 - average_precision(0):0.089706 - normalized_discounted_cumulative_gain@1(0):0.109524\n"
     ]
    },
    {
     "name": "stdout",
     "output_type": "stream",
     "text": [
      "Epoch 20/30\n",
      "2000/2000 [==============================] - 3s 1ms/step - loss: 0.0255 - mean_absolute_error: 0.1074\n"
     ]
    },
    {
     "name": "stderr",
     "output_type": "stream",
     "text": [
      "Validation: loss:0.049088 - mean_absolute_error:0.087453 - average_precision(0):0.087815 - normalized_discounted_cumulative_gain@1(0):0.103175\n"
     ]
    },
    {
     "name": "stdout",
     "output_type": "stream",
     "text": [
      "Epoch 21/30\n",
      "2000/2000 [==============================] - 4s 2ms/step - loss: 0.0236 - mean_absolute_error: 0.1034\n"
     ]
    },
    {
     "name": "stderr",
     "output_type": "stream",
     "text": [
      "Validation: loss:0.049250 - mean_absolute_error:0.092390 - average_precision(0):0.088795 - normalized_discounted_cumulative_gain@1(0):0.109524\n"
     ]
    },
    {
     "name": "stdout",
     "output_type": "stream",
     "text": [
      "Epoch 22/30\n",
      "2000/2000 [==============================] - 3s 1ms/step - loss: 0.0205 - mean_absolute_error: 0.0987\n"
     ]
    },
    {
     "name": "stderr",
     "output_type": "stream",
     "text": [
      "Validation: loss:0.047590 - mean_absolute_error:0.092381 - average_precision(0):0.087648 - normalized_discounted_cumulative_gain@1(0):0.104762\n"
     ]
    },
    {
     "name": "stdout",
     "output_type": "stream",
     "text": [
      "Epoch 23/30\n",
      "2000/2000 [==============================] - 3s 1ms/step - loss: 0.0179 - mean_absolute_error: 0.0916\n"
     ]
    },
    {
     "name": "stderr",
     "output_type": "stream",
     "text": [
      "Validation: loss:0.048999 - mean_absolute_error:0.088861 - average_precision(0):0.091012 - normalized_discounted_cumulative_gain@1(0):0.114286\n"
     ]
    },
    {
     "name": "stdout",
     "output_type": "stream",
     "text": [
      "Epoch 24/30\n",
      "2000/2000 [==============================] - 3s 1ms/step - loss: 0.0147 - mean_absolute_error: 0.0817\n"
     ]
    },
    {
     "name": "stderr",
     "output_type": "stream",
     "text": [
      "Validation: loss:0.047836 - mean_absolute_error:0.091863 - average_precision(0):0.089791 - normalized_discounted_cumulative_gain@1(0):0.111111\n"
     ]
    },
    {
     "name": "stdout",
     "output_type": "stream",
     "text": [
      "Epoch 25/30\n",
      "2000/2000 [==============================] - 3s 1ms/step - loss: 0.0165 - mean_absolute_error: 0.0854\n"
     ]
    },
    {
     "name": "stderr",
     "output_type": "stream",
     "text": [
      "Validation: loss:0.049269 - mean_absolute_error:0.097107 - average_precision(0):0.088192 - normalized_discounted_cumulative_gain@1(0):0.103175\n"
     ]
    },
    {
     "name": "stdout",
     "output_type": "stream",
     "text": [
      "Epoch 26/30\n",
      "2000/2000 [==============================] - 3s 2ms/step - loss: 0.0150 - mean_absolute_error: 0.0800\n"
     ]
    },
    {
     "name": "stderr",
     "output_type": "stream",
     "text": [
      "Validation: loss:0.047399 - mean_absolute_error:0.085143 - average_precision(0):0.090711 - normalized_discounted_cumulative_gain@1(0):0.122222\n"
     ]
    },
    {
     "name": "stdout",
     "output_type": "stream",
     "text": [
      "Epoch 27/30\n",
      "2000/2000 [==============================] - 2s 1ms/step - loss: 0.0157 - mean_absolute_error: 0.0808\n"
     ]
    },
    {
     "name": "stderr",
     "output_type": "stream",
     "text": [
      "Validation: loss:0.048005 - mean_absolute_error:0.081556 - average_precision(0):0.090060 - normalized_discounted_cumulative_gain@1(0):0.120635\n"
     ]
    },
    {
     "name": "stdout",
     "output_type": "stream",
     "text": [
      "Epoch 28/30\n",
      "2000/2000 [==============================] - 3s 2ms/step - loss: 0.0142 - mean_absolute_error: 0.0781\n"
     ]
    },
    {
     "name": "stderr",
     "output_type": "stream",
     "text": [
      "Validation: loss:0.051325 - mean_absolute_error:0.091785 - average_precision(0):0.092538 - normalized_discounted_cumulative_gain@1(0):0.122222\n"
     ]
    },
    {
     "name": "stdout",
     "output_type": "stream",
     "text": [
      "Epoch 29/30\n",
      "2000/2000 [==============================] - 3s 2ms/step - loss: 0.0135 - mean_absolute_error: 0.0735\n"
     ]
    },
    {
     "name": "stderr",
     "output_type": "stream",
     "text": [
      "Validation: loss:0.048427 - mean_absolute_error:0.089653 - average_precision(0):0.090019 - normalized_discounted_cumulative_gain@1(0):0.114286\n"
     ]
    },
    {
     "name": "stdout",
     "output_type": "stream",
     "text": [
      "Epoch 30/30\n",
      "2000/2000 [==============================] - 3s 1ms/step - loss: 0.0158 - mean_absolute_error: 0.0747\n"
     ]
    },
    {
     "name": "stderr",
     "output_type": "stream",
     "text": [
      "Validation: loss:0.047267 - mean_absolute_error:0.088103 - average_precision(0):0.088311 - normalized_discounted_cumulative_gain@1(0):0.112698\n"
     ]
    },
    {
     "name": "stdout",
     "output_type": "stream",
     "text": [
      "<class 'matchzoo.models.knrm_model.KNRMModel'>\n",
      "Epoch 1/30\n",
      "2000/2000 [==============================] - 5s 2ms/step - loss: 625.8605 - mean_absolute_error: 21.1350\n"
     ]
    },
    {
     "name": "stderr",
     "output_type": "stream",
     "text": [
      "Validation: loss:117.930981 - mean_absolute_error:8.732786 - average_precision(0):0.081012 - normalized_discounted_cumulative_gain@1(0):0.076190\n"
     ]
    },
    {
     "name": "stdout",
     "output_type": "stream",
     "text": [
      "Epoch 2/30\n",
      "2000/2000 [==============================] - 3s 1ms/step - loss: 121.8035 - mean_absolute_error: 8.8492\n"
     ]
    },
    {
     "name": "stderr",
     "output_type": "stream",
     "text": [
      "Validation: loss:121.352373 - mean_absolute_error:8.829915 - average_precision(0):0.082520 - normalized_discounted_cumulative_gain@1(0):0.093651\n"
     ]
    },
    {
     "name": "stdout",
     "output_type": "stream",
     "text": [
      "Epoch 3/30\n",
      "2000/2000 [==============================] - 3s 1ms/step - loss: 67.4405 - mean_absolute_error: 6.3874\n"
     ]
    },
    {
     "name": "stderr",
     "output_type": "stream",
     "text": [
      "Validation: loss:98.819584 - mean_absolute_error:7.942581 - average_precision(0):0.082267 - normalized_discounted_cumulative_gain@1(0):0.080952\n"
     ]
    },
    {
     "name": "stdout",
     "output_type": "stream",
     "text": [
      "Epoch 4/30\n",
      "2000/2000 [==============================] - 3s 2ms/step - loss: 40.2645 - mean_absolute_error: 4.9306\n"
     ]
    },
    {
     "name": "stderr",
     "output_type": "stream",
     "text": [
      "Validation: loss:98.624207 - mean_absolute_error:7.914940 - average_precision(0):0.089310 - normalized_discounted_cumulative_gain@1(0):0.104762\n"
     ]
    },
    {
     "name": "stdout",
     "output_type": "stream",
     "text": [
      "Epoch 5/30\n",
      "2000/2000 [==============================] - 3s 2ms/step - loss: 30.4967 - mean_absolute_error: 4.3011\n"
     ]
    },
    {
     "name": "stderr",
     "output_type": "stream",
     "text": [
      "Validation: loss:110.373807 - mean_absolute_error:8.462737 - average_precision(0):0.086867 - normalized_discounted_cumulative_gain@1(0):0.090476\n"
     ]
    },
    {
     "name": "stdout",
     "output_type": "stream",
     "text": [
      "Epoch 6/30\n",
      "2000/2000 [==============================] - 4s 2ms/step - loss: 24.6733 - mean_absolute_error: 3.8256\n"
     ]
    },
    {
     "name": "stderr",
     "output_type": "stream",
     "text": [
      "Validation: loss:79.451089 - mean_absolute_error:7.127314 - average_precision(0):0.089864 - normalized_discounted_cumulative_gain@1(0):0.101587\n"
     ]
    },
    {
     "name": "stdout",
     "output_type": "stream",
     "text": [
      "Epoch 7/30\n",
      "2000/2000 [==============================] - 4s 2ms/step - loss: 18.1582 - mean_absolute_error: 3.2501\n"
     ]
    },
    {
     "name": "stderr",
     "output_type": "stream",
     "text": [
      "Validation: loss:82.577951 - mean_absolute_error:7.286862 - average_precision(0):0.087953 - normalized_discounted_cumulative_gain@1(0):0.095238\n"
     ]
    },
    {
     "name": "stdout",
     "output_type": "stream",
     "text": [
      "Epoch 8/30\n",
      "2000/2000 [==============================] - 5s 3ms/step - loss: 14.4055 - mean_absolute_error: 2.8974\n"
     ]
    },
    {
     "name": "stderr",
     "output_type": "stream",
     "text": [
      "Validation: loss:82.333500 - mean_absolute_error:7.232734 - average_precision(0):0.086417 - normalized_discounted_cumulative_gain@1(0):0.096825\n"
     ]
    },
    {
     "name": "stdout",
     "output_type": "stream",
     "text": [
      "Epoch 9/30\n",
      "2000/2000 [==============================] - 5s 3ms/step - loss: 12.7413 - mean_absolute_error: 2.6578\n"
     ]
    },
    {
     "name": "stderr",
     "output_type": "stream",
     "text": [
      "Validation: loss:77.742353 - mean_absolute_error:7.063289 - average_precision(0):0.086391 - normalized_discounted_cumulative_gain@1(0):0.090476\n"
     ]
    },
    {
     "name": "stdout",
     "output_type": "stream",
     "text": [
      "Epoch 10/30\n",
      "2000/2000 [==============================] - 4s 2ms/step - loss: 10.1927 - mean_absolute_error: 2.3981\n"
     ]
    },
    {
     "name": "stderr",
     "output_type": "stream",
     "text": [
      "Validation: loss:85.860183 - mean_absolute_error:7.395090 - average_precision(0):0.086827 - normalized_discounted_cumulative_gain@1(0):0.100000\n"
     ]
    },
    {
     "name": "stdout",
     "output_type": "stream",
     "text": [
      "Epoch 11/30\n",
      "2000/2000 [==============================] - 4s 2ms/step - loss: 8.3280 - mean_absolute_error: 2.1619\n"
     ]
    },
    {
     "name": "stderr",
     "output_type": "stream",
     "text": [
      "Validation: loss:77.322888 - mean_absolute_error:7.022624 - average_precision(0):0.084190 - normalized_discounted_cumulative_gain@1(0):0.101587\n"
     ]
    },
    {
     "name": "stdout",
     "output_type": "stream",
     "text": [
      "Epoch 12/30\n",
      "2000/2000 [==============================] - 4s 2ms/step - loss: 7.4334 - mean_absolute_error: 2.0085\n"
     ]
    },
    {
     "name": "stderr",
     "output_type": "stream",
     "text": [
      "Validation: loss:80.229193 - mean_absolute_error:7.160812 - average_precision(0):0.085076 - normalized_discounted_cumulative_gain@1(0):0.098413\n"
     ]
    },
    {
     "name": "stdout",
     "output_type": "stream",
     "text": [
      "Epoch 13/30\n",
      "2000/2000 [==============================] - 5s 2ms/step - loss: 6.3687 - mean_absolute_error: 1.8393\n"
     ]
    },
    {
     "name": "stderr",
     "output_type": "stream",
     "text": [
      "Validation: loss:77.051263 - mean_absolute_error:7.016855 - average_precision(0):0.085580 - normalized_discounted_cumulative_gain@1(0):0.093651\n"
     ]
    },
    {
     "name": "stdout",
     "output_type": "stream",
     "text": [
      "Epoch 14/30\n",
      "2000/2000 [==============================] - 4s 2ms/step - loss: 5.1496 - mean_absolute_error: 1.6462\n"
     ]
    },
    {
     "name": "stderr",
     "output_type": "stream",
     "text": [
      "Validation: loss:72.627709 - mean_absolute_error:6.814121 - average_precision(0):0.086618 - normalized_discounted_cumulative_gain@1(0):0.106349\n"
     ]
    },
    {
     "name": "stdout",
     "output_type": "stream",
     "text": [
      "Epoch 15/30\n",
      "2000/2000 [==============================] - 4s 2ms/step - loss: 4.6279 - mean_absolute_error: 1.5676\n"
     ]
    },
    {
     "name": "stderr",
     "output_type": "stream",
     "text": [
      "Validation: loss:72.603743 - mean_absolute_error:6.815005 - average_precision(0):0.089176 - normalized_discounted_cumulative_gain@1(0):0.101587\n"
     ]
    },
    {
     "name": "stdout",
     "output_type": "stream",
     "text": [
      "Epoch 16/30\n",
      "2000/2000 [==============================] - 4s 2ms/step - loss: 4.3732 - mean_absolute_error: 1.5094\n"
     ]
    },
    {
     "name": "stderr",
     "output_type": "stream",
     "text": [
      "Validation: loss:76.827244 - mean_absolute_error:7.015418 - average_precision(0):0.085690 - normalized_discounted_cumulative_gain@1(0):0.100000\n"
     ]
    },
    {
     "name": "stdout",
     "output_type": "stream",
     "text": [
      "Epoch 17/30\n",
      "2000/2000 [==============================] - 4s 2ms/step - loss: 4.0561 - mean_absolute_error: 1.4432\n"
     ]
    },
    {
     "name": "stderr",
     "output_type": "stream",
     "text": [
      "Validation: loss:78.383146 - mean_absolute_error:7.084431 - average_precision(0):0.085002 - normalized_discounted_cumulative_gain@1(0):0.095238\n"
     ]
    },
    {
     "name": "stdout",
     "output_type": "stream",
     "text": [
      "Epoch 18/30\n",
      "2000/2000 [==============================] - 4s 2ms/step - loss: 3.4366 - mean_absolute_error: 1.3566\n"
     ]
    },
    {
     "name": "stderr",
     "output_type": "stream",
     "text": [
      "Validation: loss:78.832836 - mean_absolute_error:7.093513 - average_precision(0):0.086213 - normalized_discounted_cumulative_gain@1(0):0.100000\n"
     ]
    },
    {
     "name": "stdout",
     "output_type": "stream",
     "text": [
      "Epoch 19/30\n",
      "2000/2000 [==============================] - 3s 2ms/step - loss: 3.1026 - mean_absolute_error: 1.2700\n"
     ]
    },
    {
     "name": "stderr",
     "output_type": "stream",
     "text": [
      "Validation: loss:70.772976 - mean_absolute_error:6.716375 - average_precision(0):0.086347 - normalized_discounted_cumulative_gain@1(0):0.101587\n"
     ]
    },
    {
     "name": "stdout",
     "output_type": "stream",
     "text": [
      "Epoch 20/30\n",
      "2000/2000 [==============================] - 4s 2ms/step - loss: 3.4191 - mean_absolute_error: 1.2760\n"
     ]
    },
    {
     "name": "stderr",
     "output_type": "stream",
     "text": [
      "Validation: loss:73.001729 - mean_absolute_error:6.820185 - average_precision(0):0.088929 - normalized_discounted_cumulative_gain@1(0):0.107937\n"
     ]
    },
    {
     "name": "stdout",
     "output_type": "stream",
     "text": [
      "Epoch 21/30\n",
      "2000/2000 [==============================] - 4s 2ms/step - loss: 2.7544 - mean_absolute_error: 1.1863\n"
     ]
    },
    {
     "name": "stderr",
     "output_type": "stream",
     "text": [
      "Validation: loss:70.820399 - mean_absolute_error:6.715217 - average_precision(0):0.087925 - normalized_discounted_cumulative_gain@1(0):0.101587\n"
     ]
    },
    {
     "name": "stdout",
     "output_type": "stream",
     "text": [
      "Epoch 22/30\n",
      "2000/2000 [==============================] - 4s 2ms/step - loss: 3.1620 - mean_absolute_error: 1.2471\n"
     ]
    },
    {
     "name": "stderr",
     "output_type": "stream",
     "text": [
      "Validation: loss:75.307090 - mean_absolute_error:6.953686 - average_precision(0):0.088235 - normalized_discounted_cumulative_gain@1(0):0.112698\n"
     ]
    },
    {
     "name": "stdout",
     "output_type": "stream",
     "text": [
      "Epoch 23/30\n",
      "2000/2000 [==============================] - 4s 2ms/step - loss: 3.1282 - mean_absolute_error: 1.2823\n"
     ]
    },
    {
     "name": "stderr",
     "output_type": "stream",
     "text": [
      "Validation: loss:73.888705 - mean_absolute_error:6.869039 - average_precision(0):0.086433 - normalized_discounted_cumulative_gain@1(0):0.101587\n"
     ]
    },
    {
     "name": "stdout",
     "output_type": "stream",
     "text": [
      "Epoch 24/30\n",
      "2000/2000 [==============================] - 4s 2ms/step - loss: 3.0740 - mean_absolute_error: 1.2374\n"
     ]
    },
    {
     "name": "stderr",
     "output_type": "stream",
     "text": [
      "Validation: loss:70.082874 - mean_absolute_error:6.698294 - average_precision(0):0.088442 - normalized_discounted_cumulative_gain@1(0):0.104762\n"
     ]
    },
    {
     "name": "stdout",
     "output_type": "stream",
     "text": [
      "Epoch 25/30\n",
      "2000/2000 [==============================] - 4s 2ms/step - loss: 3.0944 - mean_absolute_error: 1.2583\n"
     ]
    },
    {
     "name": "stderr",
     "output_type": "stream",
     "text": [
      "Validation: loss:72.201666 - mean_absolute_error:6.784047 - average_precision(0):0.087044 - normalized_discounted_cumulative_gain@1(0):0.104762\n"
     ]
    },
    {
     "name": "stdout",
     "output_type": "stream",
     "text": [
      "Epoch 26/30\n",
      "2000/2000 [==============================] - 5s 3ms/step - loss: 3.1221 - mean_absolute_error: 1.2748\n"
     ]
    },
    {
     "name": "stderr",
     "output_type": "stream",
     "text": [
      "Validation: loss:74.222488 - mean_absolute_error:6.889943 - average_precision(0):0.086905 - normalized_discounted_cumulative_gain@1(0):0.095238\n"
     ]
    },
    {
     "name": "stdout",
     "output_type": "stream",
     "text": [
      "Epoch 27/30\n",
      "2000/2000 [==============================] - 4s 2ms/step - loss: 2.7912 - mean_absolute_error: 1.1892\n"
     ]
    },
    {
     "name": "stderr",
     "output_type": "stream",
     "text": [
      "Validation: loss:73.290817 - mean_absolute_error:6.830411 - average_precision(0):0.086096 - normalized_discounted_cumulative_gain@1(0):0.098413\n"
     ]
    },
    {
     "name": "stdout",
     "output_type": "stream",
     "text": [
      "Epoch 28/30\n",
      "2000/2000 [==============================] - 4s 2ms/step - loss: 3.3191 - mean_absolute_error: 1.2667\n"
     ]
    },
    {
     "name": "stderr",
     "output_type": "stream",
     "text": [
      "Validation: loss:67.386414 - mean_absolute_error:6.560674 - average_precision(0):0.086512 - normalized_discounted_cumulative_gain@1(0):0.103175\n"
     ]
    },
    {
     "name": "stdout",
     "output_type": "stream",
     "text": [
      "Epoch 29/30\n",
      "2000/2000 [==============================] - 5s 2ms/step - loss: 3.1524 - mean_absolute_error: 1.2739\n"
     ]
    },
    {
     "name": "stderr",
     "output_type": "stream",
     "text": [
      "Validation: loss:71.351753 - mean_absolute_error:6.762890 - average_precision(0):0.087010 - normalized_discounted_cumulative_gain@1(0):0.104762\n"
     ]
    },
    {
     "name": "stdout",
     "output_type": "stream",
     "text": [
      "Epoch 30/30\n",
      "2000/2000 [==============================] - 4s 2ms/step - loss: 3.5766 - mean_absolute_error: 1.3456\n"
     ]
    },
    {
     "name": "stderr",
     "output_type": "stream",
     "text": [
      "Validation: loss:64.831316 - mean_absolute_error:6.433554 - average_precision(0):0.086082 - normalized_discounted_cumulative_gain@1(0):0.095238\n"
     ]
    }
   ],
   "source": [
    "task = mz.tasks.Ranking(metrics=['mae', 'ap', 'ndcg'])\n",
    "results = []\n",
    "for model_class in model_classes:\n",
    "    print(model_class)\n",
    "    model = model_class()\n",
    "    model.params['task'] = task\n",
    "    model_ok, train_ok, preprocesor_ok = mz.auto.prepare(\n",
    "        model=model,\n",
    "        data_pack=train_data_pack[:2000],\n",
    "        verbose=0\n",
    "    )\n",
    "    test_ok = preprocesor_ok.transform(test_data_pack, verbose=0)\n",
    "    callback = mz.engine.BaseModel.EvaluateOnCall(\n",
    "        model_ok,\n",
    "        *test_ok.unpack(),\n",
    "        valid_steps=1,\n",
    "        batch_size=1024\n",
    "    )\n",
    "    history = model_ok.fit(*train_ok.unpack(), batch_size=32, epochs=30, callbacks=[callback])\n",
    "    results.append({\n",
    "        'name': model_ok.params['name'],\n",
    "        'history': history\n",
    "    })"
   ]
  },
  {
   "cell_type": "code",
   "execution_count": 53,
   "metadata": {
    "ExecuteTime": {
     "end_time": "2018-12-21T17:10:22.183082Z",
     "start_time": "2018-12-21T17:10:22.176593Z"
    },
    "collapsed": true
   },
   "outputs": [],
   "source": [
    "import bokeh\n",
    "from bokeh.io import output_notebook, push_notebook\n",
    "from bokeh.layouts import column\n",
    "from bokeh.models.glyphs import Line\n",
    "from bokeh.models.tools import HoverTool\n",
    "from bokeh.plotting import figure, show, Figure"
   ]
  },
  {
   "cell_type": "code",
   "execution_count": 56,
   "metadata": {
    "ExecuteTime": {
     "end_time": "2018-12-21T17:12:19.780291Z",
     "start_time": "2018-12-21T17:12:19.420289Z"
    },
    "scrolled": false
   },
   "outputs": [
    {
     "data": {
      "text/html": [
       "\n",
       "    <div class=\"bk-root\">\n",
       "        <a href=\"https://bokeh.pydata.org\" target=\"_blank\" class=\"bk-logo bk-logo-small bk-logo-notebook\"></a>\n",
       "        <span id=\"10611\">Loading BokehJS ...</span>\n",
       "    </div>"
      ]
     },
     "metadata": {},
     "output_type": "display_data"
    },
    {
     "data": {
      "application/javascript": [
       "\n",
       "(function(root) {\n",
       "  function now() {\n",
       "    return new Date();\n",
       "  }\n",
       "\n",
       "  var force = true;\n",
       "\n",
       "  if (typeof (root._bokeh_onload_callbacks) === \"undefined\" || force === true) {\n",
       "    root._bokeh_onload_callbacks = [];\n",
       "    root._bokeh_is_loading = undefined;\n",
       "  }\n",
       "\n",
       "  var JS_MIME_TYPE = 'application/javascript';\n",
       "  var HTML_MIME_TYPE = 'text/html';\n",
       "  var EXEC_MIME_TYPE = 'application/vnd.bokehjs_exec.v0+json';\n",
       "  var CLASS_NAME = 'output_bokeh rendered_html';\n",
       "\n",
       "  /**\n",
       "   * Render data to the DOM node\n",
       "   */\n",
       "  function render(props, node) {\n",
       "    var script = document.createElement(\"script\");\n",
       "    node.appendChild(script);\n",
       "  }\n",
       "\n",
       "  /**\n",
       "   * Handle when an output is cleared or removed\n",
       "   */\n",
       "  function handleClearOutput(event, handle) {\n",
       "    var cell = handle.cell;\n",
       "\n",
       "    var id = cell.output_area._bokeh_element_id;\n",
       "    var server_id = cell.output_area._bokeh_server_id;\n",
       "    // Clean up Bokeh references\n",
       "    if (id != null && id in Bokeh.index) {\n",
       "      Bokeh.index[id].model.document.clear();\n",
       "      delete Bokeh.index[id];\n",
       "    }\n",
       "\n",
       "    if (server_id !== undefined) {\n",
       "      // Clean up Bokeh references\n",
       "      var cmd = \"from bokeh.io.state import curstate; print(curstate().uuid_to_server['\" + server_id + \"'].get_sessions()[0].document.roots[0]._id)\";\n",
       "      cell.notebook.kernel.execute(cmd, {\n",
       "        iopub: {\n",
       "          output: function(msg) {\n",
       "            var id = msg.content.text.trim();\n",
       "            if (id in Bokeh.index) {\n",
       "              Bokeh.index[id].model.document.clear();\n",
       "              delete Bokeh.index[id];\n",
       "            }\n",
       "          }\n",
       "        }\n",
       "      });\n",
       "      // Destroy server and session\n",
       "      var cmd = \"import bokeh.io.notebook as ion; ion.destroy_server('\" + server_id + \"')\";\n",
       "      cell.notebook.kernel.execute(cmd);\n",
       "    }\n",
       "  }\n",
       "\n",
       "  /**\n",
       "   * Handle when a new output is added\n",
       "   */\n",
       "  function handleAddOutput(event, handle) {\n",
       "    var output_area = handle.output_area;\n",
       "    var output = handle.output;\n",
       "\n",
       "    // limit handleAddOutput to display_data with EXEC_MIME_TYPE content only\n",
       "    if ((output.output_type != \"display_data\") || (!output.data.hasOwnProperty(EXEC_MIME_TYPE))) {\n",
       "      return\n",
       "    }\n",
       "\n",
       "    var toinsert = output_area.element.find(\".\" + CLASS_NAME.split(' ')[0]);\n",
       "\n",
       "    if (output.metadata[EXEC_MIME_TYPE][\"id\"] !== undefined) {\n",
       "      toinsert[toinsert.length - 1].firstChild.textContent = output.data[JS_MIME_TYPE];\n",
       "      // store reference to embed id on output_area\n",
       "      output_area._bokeh_element_id = output.metadata[EXEC_MIME_TYPE][\"id\"];\n",
       "    }\n",
       "    if (output.metadata[EXEC_MIME_TYPE][\"server_id\"] !== undefined) {\n",
       "      var bk_div = document.createElement(\"div\");\n",
       "      bk_div.innerHTML = output.data[HTML_MIME_TYPE];\n",
       "      var script_attrs = bk_div.children[0].attributes;\n",
       "      for (var i = 0; i < script_attrs.length; i++) {\n",
       "        toinsert[toinsert.length - 1].firstChild.setAttribute(script_attrs[i].name, script_attrs[i].value);\n",
       "      }\n",
       "      // store reference to server id on output_area\n",
       "      output_area._bokeh_server_id = output.metadata[EXEC_MIME_TYPE][\"server_id\"];\n",
       "    }\n",
       "  }\n",
       "\n",
       "  function register_renderer(events, OutputArea) {\n",
       "\n",
       "    function append_mime(data, metadata, element) {\n",
       "      // create a DOM node to render to\n",
       "      var toinsert = this.create_output_subarea(\n",
       "        metadata,\n",
       "        CLASS_NAME,\n",
       "        EXEC_MIME_TYPE\n",
       "      );\n",
       "      this.keyboard_manager.register_events(toinsert);\n",
       "      // Render to node\n",
       "      var props = {data: data, metadata: metadata[EXEC_MIME_TYPE]};\n",
       "      render(props, toinsert[toinsert.length - 1]);\n",
       "      element.append(toinsert);\n",
       "      return toinsert\n",
       "    }\n",
       "\n",
       "    /* Handle when an output is cleared or removed */\n",
       "    events.on('clear_output.CodeCell', handleClearOutput);\n",
       "    events.on('delete.Cell', handleClearOutput);\n",
       "\n",
       "    /* Handle when a new output is added */\n",
       "    events.on('output_added.OutputArea', handleAddOutput);\n",
       "\n",
       "    /**\n",
       "     * Register the mime type and append_mime function with output_area\n",
       "     */\n",
       "    OutputArea.prototype.register_mime_type(EXEC_MIME_TYPE, append_mime, {\n",
       "      /* Is output safe? */\n",
       "      safe: true,\n",
       "      /* Index of renderer in `output_area.display_order` */\n",
       "      index: 0\n",
       "    });\n",
       "  }\n",
       "\n",
       "  // register the mime type if in Jupyter Notebook environment and previously unregistered\n",
       "  if (root.Jupyter !== undefined) {\n",
       "    var events = require('base/js/events');\n",
       "    var OutputArea = require('notebook/js/outputarea').OutputArea;\n",
       "\n",
       "    if (OutputArea.prototype.mime_types().indexOf(EXEC_MIME_TYPE) == -1) {\n",
       "      register_renderer(events, OutputArea);\n",
       "    }\n",
       "  }\n",
       "\n",
       "  \n",
       "  if (typeof (root._bokeh_timeout) === \"undefined\" || force === true) {\n",
       "    root._bokeh_timeout = Date.now() + 5000;\n",
       "    root._bokeh_failed_load = false;\n",
       "  }\n",
       "\n",
       "  var NB_LOAD_WARNING = {'data': {'text/html':\n",
       "     \"<div style='background-color: #fdd'>\\n\"+\n",
       "     \"<p>\\n\"+\n",
       "     \"BokehJS does not appear to have successfully loaded. If loading BokehJS from CDN, this \\n\"+\n",
       "     \"may be due to a slow or bad network connection. Possible fixes:\\n\"+\n",
       "     \"</p>\\n\"+\n",
       "     \"<ul>\\n\"+\n",
       "     \"<li>re-rerun `output_notebook()` to attempt to load from CDN again, or</li>\\n\"+\n",
       "     \"<li>use INLINE resources instead, as so:</li>\\n\"+\n",
       "     \"</ul>\\n\"+\n",
       "     \"<code>\\n\"+\n",
       "     \"from bokeh.resources import INLINE\\n\"+\n",
       "     \"output_notebook(resources=INLINE)\\n\"+\n",
       "     \"</code>\\n\"+\n",
       "     \"</div>\"}};\n",
       "\n",
       "  function display_loaded() {\n",
       "    var el = document.getElementById(\"10611\");\n",
       "    if (el != null) {\n",
       "      el.textContent = \"BokehJS is loading...\";\n",
       "    }\n",
       "    if (root.Bokeh !== undefined) {\n",
       "      if (el != null) {\n",
       "        el.textContent = \"BokehJS \" + root.Bokeh.version + \" successfully loaded.\";\n",
       "      }\n",
       "    } else if (Date.now() < root._bokeh_timeout) {\n",
       "      setTimeout(display_loaded, 100)\n",
       "    }\n",
       "  }\n",
       "\n",
       "\n",
       "  function run_callbacks() {\n",
       "    try {\n",
       "      root._bokeh_onload_callbacks.forEach(function(callback) { callback() });\n",
       "    }\n",
       "    finally {\n",
       "      delete root._bokeh_onload_callbacks\n",
       "    }\n",
       "    console.info(\"Bokeh: all callbacks have finished\");\n",
       "  }\n",
       "\n",
       "  function load_libs(js_urls, callback) {\n",
       "    root._bokeh_onload_callbacks.push(callback);\n",
       "    if (root._bokeh_is_loading > 0) {\n",
       "      console.log(\"Bokeh: BokehJS is being loaded, scheduling callback at\", now());\n",
       "      return null;\n",
       "    }\n",
       "    if (js_urls == null || js_urls.length === 0) {\n",
       "      run_callbacks();\n",
       "      return null;\n",
       "    }\n",
       "    console.log(\"Bokeh: BokehJS not loaded, scheduling load and callback at\", now());\n",
       "    root._bokeh_is_loading = js_urls.length;\n",
       "    for (var i = 0; i < js_urls.length; i++) {\n",
       "      var url = js_urls[i];\n",
       "      var s = document.createElement('script');\n",
       "      s.src = url;\n",
       "      s.async = false;\n",
       "      s.onreadystatechange = s.onload = function() {\n",
       "        root._bokeh_is_loading--;\n",
       "        if (root._bokeh_is_loading === 0) {\n",
       "          console.log(\"Bokeh: all BokehJS libraries loaded\");\n",
       "          run_callbacks()\n",
       "        }\n",
       "      };\n",
       "      s.onerror = function() {\n",
       "        console.warn(\"failed to load library \" + url);\n",
       "      };\n",
       "      console.log(\"Bokeh: injecting script tag for BokehJS library: \", url);\n",
       "      document.getElementsByTagName(\"head\")[0].appendChild(s);\n",
       "    }\n",
       "  };var element = document.getElementById(\"10611\");\n",
       "  if (element == null) {\n",
       "    console.log(\"Bokeh: ERROR: autoload.js configured with elementid '10611' but no matching script tag was found. \")\n",
       "    return false;\n",
       "  }\n",
       "\n",
       "  var js_urls = [\"https://cdn.pydata.org/bokeh/release/bokeh-1.0.2.min.js\", \"https://cdn.pydata.org/bokeh/release/bokeh-widgets-1.0.2.min.js\", \"https://cdn.pydata.org/bokeh/release/bokeh-tables-1.0.2.min.js\", \"https://cdn.pydata.org/bokeh/release/bokeh-gl-1.0.2.min.js\"];\n",
       "\n",
       "  var inline_js = [\n",
       "    function(Bokeh) {\n",
       "      Bokeh.set_log_level(\"info\");\n",
       "    },\n",
       "    \n",
       "    function(Bokeh) {\n",
       "      \n",
       "    },\n",
       "    function(Bokeh) {\n",
       "      console.log(\"Bokeh: injecting CSS: https://cdn.pydata.org/bokeh/release/bokeh-1.0.2.min.css\");\n",
       "      Bokeh.embed.inject_css(\"https://cdn.pydata.org/bokeh/release/bokeh-1.0.2.min.css\");\n",
       "      console.log(\"Bokeh: injecting CSS: https://cdn.pydata.org/bokeh/release/bokeh-widgets-1.0.2.min.css\");\n",
       "      Bokeh.embed.inject_css(\"https://cdn.pydata.org/bokeh/release/bokeh-widgets-1.0.2.min.css\");\n",
       "      console.log(\"Bokeh: injecting CSS: https://cdn.pydata.org/bokeh/release/bokeh-tables-1.0.2.min.css\");\n",
       "      Bokeh.embed.inject_css(\"https://cdn.pydata.org/bokeh/release/bokeh-tables-1.0.2.min.css\");\n",
       "    }\n",
       "  ];\n",
       "\n",
       "  function run_inline_js() {\n",
       "    \n",
       "    if ((root.Bokeh !== undefined) || (force === true)) {\n",
       "      for (var i = 0; i < inline_js.length; i++) {\n",
       "        inline_js[i].call(root, root.Bokeh);\n",
       "      }if (force === true) {\n",
       "        display_loaded();\n",
       "      }} else if (Date.now() < root._bokeh_timeout) {\n",
       "      setTimeout(run_inline_js, 100);\n",
       "    } else if (!root._bokeh_failed_load) {\n",
       "      console.log(\"Bokeh: BokehJS failed to load within specified timeout.\");\n",
       "      root._bokeh_failed_load = true;\n",
       "    } else if (force !== true) {\n",
       "      var cell = $(document.getElementById(\"10611\")).parents('.cell').data().cell;\n",
       "      cell.output_area.append_execute_result(NB_LOAD_WARNING)\n",
       "    }\n",
       "\n",
       "  }\n",
       "\n",
       "  if (root._bokeh_is_loading === 0) {\n",
       "    console.log(\"Bokeh: BokehJS loaded, going straight to plotting\");\n",
       "    run_inline_js();\n",
       "  } else {\n",
       "    load_libs(js_urls, function() {\n",
       "      console.log(\"Bokeh: BokehJS plotting callback run at\", now());\n",
       "      run_inline_js();\n",
       "    });\n",
       "  }\n",
       "}(window));"
      ],
      "application/vnd.bokehjs_load.v0+json": "\n(function(root) {\n  function now() {\n    return new Date();\n  }\n\n  var force = true;\n\n  if (typeof (root._bokeh_onload_callbacks) === \"undefined\" || force === true) {\n    root._bokeh_onload_callbacks = [];\n    root._bokeh_is_loading = undefined;\n  }\n\n  \n\n  \n  if (typeof (root._bokeh_timeout) === \"undefined\" || force === true) {\n    root._bokeh_timeout = Date.now() + 5000;\n    root._bokeh_failed_load = false;\n  }\n\n  var NB_LOAD_WARNING = {'data': {'text/html':\n     \"<div style='background-color: #fdd'>\\n\"+\n     \"<p>\\n\"+\n     \"BokehJS does not appear to have successfully loaded. If loading BokehJS from CDN, this \\n\"+\n     \"may be due to a slow or bad network connection. Possible fixes:\\n\"+\n     \"</p>\\n\"+\n     \"<ul>\\n\"+\n     \"<li>re-rerun `output_notebook()` to attempt to load from CDN again, or</li>\\n\"+\n     \"<li>use INLINE resources instead, as so:</li>\\n\"+\n     \"</ul>\\n\"+\n     \"<code>\\n\"+\n     \"from bokeh.resources import INLINE\\n\"+\n     \"output_notebook(resources=INLINE)\\n\"+\n     \"</code>\\n\"+\n     \"</div>\"}};\n\n  function display_loaded() {\n    var el = document.getElementById(\"10611\");\n    if (el != null) {\n      el.textContent = \"BokehJS is loading...\";\n    }\n    if (root.Bokeh !== undefined) {\n      if (el != null) {\n        el.textContent = \"BokehJS \" + root.Bokeh.version + \" successfully loaded.\";\n      }\n    } else if (Date.now() < root._bokeh_timeout) {\n      setTimeout(display_loaded, 100)\n    }\n  }\n\n\n  function run_callbacks() {\n    try {\n      root._bokeh_onload_callbacks.forEach(function(callback) { callback() });\n    }\n    finally {\n      delete root._bokeh_onload_callbacks\n    }\n    console.info(\"Bokeh: all callbacks have finished\");\n  }\n\n  function load_libs(js_urls, callback) {\n    root._bokeh_onload_callbacks.push(callback);\n    if (root._bokeh_is_loading > 0) {\n      console.log(\"Bokeh: BokehJS is being loaded, scheduling callback at\", now());\n      return null;\n    }\n    if (js_urls == null || js_urls.length === 0) {\n      run_callbacks();\n      return null;\n    }\n    console.log(\"Bokeh: BokehJS not loaded, scheduling load and callback at\", now());\n    root._bokeh_is_loading = js_urls.length;\n    for (var i = 0; i < js_urls.length; i++) {\n      var url = js_urls[i];\n      var s = document.createElement('script');\n      s.src = url;\n      s.async = false;\n      s.onreadystatechange = s.onload = function() {\n        root._bokeh_is_loading--;\n        if (root._bokeh_is_loading === 0) {\n          console.log(\"Bokeh: all BokehJS libraries loaded\");\n          run_callbacks()\n        }\n      };\n      s.onerror = function() {\n        console.warn(\"failed to load library \" + url);\n      };\n      console.log(\"Bokeh: injecting script tag for BokehJS library: \", url);\n      document.getElementsByTagName(\"head\")[0].appendChild(s);\n    }\n  };var element = document.getElementById(\"10611\");\n  if (element == null) {\n    console.log(\"Bokeh: ERROR: autoload.js configured with elementid '10611' but no matching script tag was found. \")\n    return false;\n  }\n\n  var js_urls = [\"https://cdn.pydata.org/bokeh/release/bokeh-1.0.2.min.js\", \"https://cdn.pydata.org/bokeh/release/bokeh-widgets-1.0.2.min.js\", \"https://cdn.pydata.org/bokeh/release/bokeh-tables-1.0.2.min.js\", \"https://cdn.pydata.org/bokeh/release/bokeh-gl-1.0.2.min.js\"];\n\n  var inline_js = [\n    function(Bokeh) {\n      Bokeh.set_log_level(\"info\");\n    },\n    \n    function(Bokeh) {\n      \n    },\n    function(Bokeh) {\n      console.log(\"Bokeh: injecting CSS: https://cdn.pydata.org/bokeh/release/bokeh-1.0.2.min.css\");\n      Bokeh.embed.inject_css(\"https://cdn.pydata.org/bokeh/release/bokeh-1.0.2.min.css\");\n      console.log(\"Bokeh: injecting CSS: https://cdn.pydata.org/bokeh/release/bokeh-widgets-1.0.2.min.css\");\n      Bokeh.embed.inject_css(\"https://cdn.pydata.org/bokeh/release/bokeh-widgets-1.0.2.min.css\");\n      console.log(\"Bokeh: injecting CSS: https://cdn.pydata.org/bokeh/release/bokeh-tables-1.0.2.min.css\");\n      Bokeh.embed.inject_css(\"https://cdn.pydata.org/bokeh/release/bokeh-tables-1.0.2.min.css\");\n    }\n  ];\n\n  function run_inline_js() {\n    \n    if ((root.Bokeh !== undefined) || (force === true)) {\n      for (var i = 0; i < inline_js.length; i++) {\n        inline_js[i].call(root, root.Bokeh);\n      }if (force === true) {\n        display_loaded();\n      }} else if (Date.now() < root._bokeh_timeout) {\n      setTimeout(run_inline_js, 100);\n    } else if (!root._bokeh_failed_load) {\n      console.log(\"Bokeh: BokehJS failed to load within specified timeout.\");\n      root._bokeh_failed_load = true;\n    } else if (force !== true) {\n      var cell = $(document.getElementById(\"10611\")).parents('.cell').data().cell;\n      cell.output_area.append_execute_result(NB_LOAD_WARNING)\n    }\n\n  }\n\n  if (root._bokeh_is_loading === 0) {\n    console.log(\"Bokeh: BokehJS loaded, going straight to plotting\");\n    run_inline_js();\n  } else {\n    load_libs(js_urls, function() {\n      console.log(\"Bokeh: BokehJS plotting callback run at\", now());\n      run_inline_js();\n    });\n  }\n}(window));"
     },
     "metadata": {},
     "output_type": "display_data"
    },
    {
     "data": {
      "text/html": [
       "\n",
       "\n",
       "\n",
       "\n",
       "\n",
       "\n",
       "  <div class=\"bk-root\" id=\"ab99b546-2cd3-4eaf-a0fb-e2e825f93ecd\"></div>\n"
      ]
     },
     "metadata": {},
     "output_type": "display_data"
    },
    {
     "data": {
      "application/javascript": [
       "(function(root) {\n",
       "  function embed_document(root) {\n",
       "    \n",
       "  var docs_json = {\"dd0cee89-b17b-4559-9931-1e1e78a1ce18\":{\"roots\":{\"references\":[{\"attributes\":{\"children\":[{\"id\":\"10296\",\"subtype\":\"Figure\",\"type\":\"Plot\"},{\"id\":\"10332\",\"subtype\":\"Figure\",\"type\":\"Plot\"},{\"id\":\"10368\",\"subtype\":\"Figure\",\"type\":\"Plot\"},{\"id\":\"10404\",\"subtype\":\"Figure\",\"type\":\"Plot\"}]},\"id\":\"10612\",\"type\":\"Column\"},{\"attributes\":{},\"id\":\"11150\",\"type\":\"Selection\"},{\"attributes\":{\"label\":{\"value\":\"DUETModel\"},\"renderers\":[{\"id\":\"10498\",\"type\":\"GlyphRenderer\"}]},\"id\":\"10508\",\"type\":\"LegendItem\"},{\"attributes\":{},\"id\":\"10609\",\"type\":\"UnionRenderers\"},{\"attributes\":{},\"id\":\"10592\",\"type\":\"Selection\"},{\"attributes\":{\"line_alpha\":0.5,\"line_color\":\"#1f77b4\",\"line_width\":2,\"x\":{\"field\":\"x\"},\"y\":{\"field\":\"y\"}},\"id\":\"10569\",\"type\":\"Line\"},{\"attributes\":{\"below\":[{\"id\":\"10306\",\"type\":\"LinearAxis\"}],\"left\":[{\"id\":\"10311\",\"type\":\"LinearAxis\"}],\"plot_height\":400,\"plot_width\":800,\"renderers\":[{\"id\":\"10306\",\"type\":\"LinearAxis\"},{\"id\":\"10310\",\"type\":\"Grid\"},{\"id\":\"10311\",\"type\":\"LinearAxis\"},{\"id\":\"10315\",\"type\":\"Grid\"},{\"id\":\"10324\",\"type\":\"BoxAnnotation\"},{\"id\":\"10450\",\"type\":\"Legend\"},{\"id\":\"10442\",\"type\":\"GlyphRenderer\"},{\"id\":\"10455\",\"type\":\"GlyphRenderer\"},{\"id\":\"10469\",\"type\":\"GlyphRenderer\"}],\"sizing_mode\":\"fixed\",\"title\":{\"id\":\"10295\",\"type\":\"Title\"},\"toolbar\":{\"id\":\"10322\",\"type\":\"Toolbar\"},\"x_range\":{\"id\":\"10298\",\"type\":\"DataRange1d\"},\"x_scale\":{\"id\":\"10302\",\"type\":\"LinearScale\"},\"y_range\":{\"id\":\"10300\",\"type\":\"DataRange1d\"},\"y_scale\":{\"id\":\"10304\",\"type\":\"LinearScale\"}},\"id\":\"10296\",\"subtype\":\"Figure\",\"type\":\"Plot\"},{\"attributes\":{\"data_source\":{\"id\":\"10595\",\"type\":\"ColumnDataSource\"},\"glyph\":{\"id\":\"10596\",\"type\":\"Line\"},\"hover_glyph\":null,\"muted_glyph\":null,\"nonselection_glyph\":{\"id\":\"10597\",\"type\":\"Line\"},\"selection_glyph\":null,\"view\":{\"id\":\"10599\",\"type\":\"CDSView\"}},\"id\":\"10598\",\"type\":\"GlyphRenderer\"},{\"attributes\":{\"label\":{\"value\":\"DUETModel\"},\"renderers\":[{\"id\":\"10541\",\"type\":\"GlyphRenderer\"}]},\"id\":\"10551\",\"type\":\"LegendItem\"},{\"attributes\":{},\"id\":\"10480\",\"type\":\"UnionRenderers\"},{\"attributes\":{},\"id\":\"10577\",\"type\":\"BasicTickFormatter\"},{\"attributes\":{},\"id\":\"10425\",\"type\":\"WheelZoomTool\"},{\"attributes\":{},\"id\":\"10506\",\"type\":\"Selection\"},{\"attributes\":{},\"id\":\"10352\",\"type\":\"PanTool\"},{\"attributes\":{\"line_alpha\":0.1,\"line_color\":\"#1f77b4\",\"line_width\":2,\"x\":{\"field\":\"x\"},\"y\":{\"field\":\"y\"}},\"id\":\"10570\",\"type\":\"Line\"},{\"attributes\":{\"line_alpha\":0.5,\"line_color\":\"#ff7f0e\",\"line_width\":2,\"x\":{\"field\":\"x\"},\"y\":{\"field\":\"y\"}},\"id\":\"10539\",\"type\":\"Line\"},{\"attributes\":{},\"id\":\"10464\",\"type\":\"UnionRenderers\"},{\"attributes\":{},\"id\":\"10507\",\"type\":\"UnionRenderers\"},{\"attributes\":{\"below\":[{\"id\":\"10342\",\"type\":\"LinearAxis\"}],\"left\":[{\"id\":\"10347\",\"type\":\"LinearAxis\"}],\"plot_height\":400,\"plot_width\":800,\"renderers\":[{\"id\":\"10342\",\"type\":\"LinearAxis\"},{\"id\":\"10346\",\"type\":\"Grid\"},{\"id\":\"10347\",\"type\":\"LinearAxis\"},{\"id\":\"10351\",\"type\":\"Grid\"},{\"id\":\"10360\",\"type\":\"BoxAnnotation\"},{\"id\":\"10493\",\"type\":\"Legend\"},{\"id\":\"10485\",\"type\":\"GlyphRenderer\"},{\"id\":\"10498\",\"type\":\"GlyphRenderer\"},{\"id\":\"10512\",\"type\":\"GlyphRenderer\"}],\"sizing_mode\":\"fixed\",\"title\":{\"id\":\"10331\",\"type\":\"Title\"},\"toolbar\":{\"id\":\"10358\",\"type\":\"Toolbar\"},\"x_range\":{\"id\":\"10334\",\"type\":\"DataRange1d\"},\"x_scale\":{\"id\":\"10338\",\"type\":\"LinearScale\"},\"y_range\":{\"id\":\"10336\",\"type\":\"DataRange1d\"},\"y_scale\":{\"id\":\"10340\",\"type\":\"LinearScale\"}},\"id\":\"10332\",\"subtype\":\"Figure\",\"type\":\"Plot\"},{\"attributes\":{\"line_alpha\":0.5,\"line_color\":\"#1f77b4\",\"line_width\":2,\"x\":{\"field\":\"x\"},\"y\":{\"field\":\"y\"}},\"id\":\"10440\",\"type\":\"Line\"},{\"attributes\":{\"formatter\":{\"id\":\"10532\",\"type\":\"BasicTickFormatter\"},\"plot\":{\"id\":\"10368\",\"subtype\":\"Figure\",\"type\":\"Plot\"},\"ticker\":{\"id\":\"10379\",\"type\":\"BasicTicker\"}},\"id\":\"10378\",\"type\":\"LinearAxis\"},{\"attributes\":{\"label\":{\"value\":\"KNRMModel\"},\"renderers\":[{\"id\":\"10598\",\"type\":\"GlyphRenderer\"}]},\"id\":\"10610\",\"type\":\"LegendItem\"},{\"attributes\":{\"callback\":null},\"id\":\"10300\",\"type\":\"DataRange1d\"},{\"attributes\":{},\"id\":\"10356\",\"type\":\"ResetTool\"},{\"attributes\":{},\"id\":\"10427\",\"type\":\"SaveTool\"},{\"attributes\":{\"label\":{\"value\":\"DSSMModel\"},\"renderers\":[{\"id\":\"10442\",\"type\":\"GlyphRenderer\"}]},\"id\":\"10451\",\"type\":\"LegendItem\"},{\"attributes\":{\"bottom_units\":\"screen\",\"fill_alpha\":{\"value\":0.5},\"fill_color\":{\"value\":\"lightgrey\"},\"left_units\":\"screen\",\"level\":\"overlay\",\"line_alpha\":{\"value\":1.0},\"line_color\":{\"value\":\"black\"},\"line_dash\":[4,4],\"line_width\":{\"value\":2},\"plot\":null,\"render_mode\":\"css\",\"right_units\":\"screen\",\"top_units\":\"screen\"},\"id\":\"10396\",\"type\":\"BoxAnnotation\"},{\"attributes\":{\"data_source\":{\"id\":\"10439\",\"type\":\"ColumnDataSource\"},\"glyph\":{\"id\":\"10440\",\"type\":\"Line\"},\"hover_glyph\":null,\"muted_glyph\":null,\"nonselection_glyph\":{\"id\":\"10441\",\"type\":\"Line\"},\"selection_glyph\":null,\"view\":{\"id\":\"10443\",\"type\":\"CDSView\"}},\"id\":\"10442\",\"type\":\"GlyphRenderer\"},{\"attributes\":{\"data_source\":{\"id\":\"10568\",\"type\":\"ColumnDataSource\"},\"glyph\":{\"id\":\"10569\",\"type\":\"Line\"},\"hover_glyph\":null,\"muted_glyph\":null,\"nonselection_glyph\":{\"id\":\"10570\",\"type\":\"Line\"},\"selection_glyph\":null,\"view\":{\"id\":\"10572\",\"type\":\"CDSView\"}},\"id\":\"10571\",\"type\":\"GlyphRenderer\"},{\"attributes\":{\"label\":{\"value\":\"KNRMModel\"},\"renderers\":[{\"id\":\"10512\",\"type\":\"GlyphRenderer\"}]},\"id\":\"10524\",\"type\":\"LegendItem\"},{\"attributes\":{\"plot\":{\"id\":\"10368\",\"subtype\":\"Figure\",\"type\":\"Plot\"},\"ticker\":{\"id\":\"10379\",\"type\":\"BasicTicker\"}},\"id\":\"10382\",\"type\":\"Grid\"},{\"attributes\":{\"overlay\":{\"id\":\"10324\",\"type\":\"BoxAnnotation\"}},\"id\":\"10318\",\"type\":\"BoxZoomTool\"},{\"attributes\":{},\"id\":\"10384\",\"type\":\"BasicTicker\"},{\"attributes\":{},\"id\":\"11172\",\"type\":\"UnionRenderers\"},{\"attributes\":{\"formatter\":{\"id\":\"10491\",\"type\":\"BasicTickFormatter\"},\"plot\":{\"id\":\"10332\",\"subtype\":\"Figure\",\"type\":\"Plot\"},\"ticker\":{\"id\":\"10348\",\"type\":\"BasicTicker\"}},\"id\":\"10347\",\"type\":\"LinearAxis\"},{\"attributes\":{\"formatter\":{\"id\":\"10575\",\"type\":\"BasicTickFormatter\"},\"plot\":{\"id\":\"10404\",\"subtype\":\"Figure\",\"type\":\"Plot\"},\"ticker\":{\"id\":\"10415\",\"type\":\"BasicTicker\"}},\"id\":\"10414\",\"type\":\"LinearAxis\"},{\"attributes\":{},\"id\":\"10479\",\"type\":\"Selection\"},{\"attributes\":{},\"id\":\"10340\",\"type\":\"LinearScale\"},{\"attributes\":{},\"id\":\"10424\",\"type\":\"PanTool\"},{\"attributes\":{\"line_alpha\":0.5,\"line_color\":\"#ff7f0e\",\"line_width\":2,\"x\":{\"field\":\"x\"},\"y\":{\"field\":\"y\"}},\"id\":\"10496\",\"type\":\"Line\"},{\"attributes\":{\"callback\":null,\"data\":{\"x\":[0,1,2,3,4,5,6,7,8,9,10,11,12,13,14,15,16,17,18,19,20,21,22,23,24,25,26,27,28,29],\"y\":[0.07790000450443034,0.07624488632964785,0.08047168673131788,0.0694051337503604,0.07329105878789159,0.09284256190443228,0.08809601463493916,0.0877863624925839,0.08263344387092687,0.08629902815600457,0.08636476638919108,0.0904461424910442,0.08924305200082686,0.08827699973002648,0.08671949224525588,0.08408502314667661,0.08782000027792895,0.0891961115747837,0.0897063832094777,0.0878146026953801,0.08879466258511629,0.08764828653320644,0.09101192008210253,0.08979112995404745,0.08819166032309174,0.09071121650318578,0.09005952621333514,0.09253768480562378,0.09001944197483096,0.08831060853982177]},\"selected\":{\"id\":\"10565\",\"type\":\"Selection\"},\"selection_policy\":{\"id\":\"10566\",\"type\":\"UnionRenderers\"}},\"id\":\"10538\",\"type\":\"ColumnDataSource\"},{\"attributes\":{},\"id\":\"10320\",\"type\":\"ResetTool\"},{\"attributes\":{\"callback\":null,\"data\":{\"x\":[0,1,2,3,4,5,6,7,8,9,10,11,12,13,14,15,16,17,18,19,20,21,22,23,24,25,26,27,28,29],\"y\":[0.10945775360494801,0.0884986103298587,0.07118883695390363,0.06981435469964477,0.07176309743418166,0.07201085935414626,0.07765712969427789,0.08389366729044428,0.08529796384303778,0.08489503137416715,0.07656979961677705,0.08324516449760343,0.0785053768642856,0.07615152154051776,0.07489189020716884,0.08050308461586317,0.07862838458772295,0.07736650387028589,0.07716005059815519,0.07632888215283909,0.07870377756006569,0.07799118449738886,0.07846989328960463,0.07883894267554308,0.0750698035364992,0.07965449441950201,0.07892735070446479,0.07976016193386502,0.07798278657303347,0.0787019006593784]},\"selected\":{\"id\":\"10549\",\"type\":\"Selection\"},\"selection_policy\":{\"id\":\"10550\",\"type\":\"UnionRenderers\"}},\"id\":\"10525\",\"type\":\"ColumnDataSource\"},{\"attributes\":{},\"id\":\"10550\",\"type\":\"UnionRenderers\"},{\"attributes\":{\"formatter\":{\"id\":\"10489\",\"type\":\"BasicTickFormatter\"},\"plot\":{\"id\":\"10332\",\"subtype\":\"Figure\",\"type\":\"Plot\"},\"ticker\":{\"id\":\"10343\",\"type\":\"BasicTicker\"}},\"id\":\"10342\",\"type\":\"LinearAxis\"},{\"attributes\":{\"bottom_units\":\"screen\",\"fill_alpha\":{\"value\":0.5},\"fill_color\":{\"value\":\"lightgrey\"},\"left_units\":\"screen\",\"level\":\"overlay\",\"line_alpha\":{\"value\":1.0},\"line_color\":{\"value\":\"black\"},\"line_dash\":[4,4],\"line_width\":{\"value\":2},\"plot\":null,\"render_mode\":\"css\",\"right_units\":\"screen\",\"top_units\":\"screen\"},\"id\":\"10432\",\"type\":\"BoxAnnotation\"},{\"attributes\":{\"source\":{\"id\":\"10538\",\"type\":\"ColumnDataSource\"}},\"id\":\"10542\",\"type\":\"CDSView\"},{\"attributes\":{},\"id\":\"10593\",\"type\":\"UnionRenderers\"},{\"attributes\":{},\"id\":\"10338\",\"type\":\"LinearScale\"},{\"attributes\":{\"line_alpha\":0.1,\"line_color\":\"#1f77b4\",\"line_width\":2,\"x\":{\"field\":\"x\"},\"y\":{\"field\":\"y\"}},\"id\":\"10468\",\"type\":\"Line\"},{\"attributes\":{\"callback\":null,\"data\":{\"x\":[0,1,2,3,4,5,6,7,8,9,10,11,12,13,14,15,16,17,18,19,20,21,22,23,24,25,26,27,28,29],\"y\":[0.08095238095238096,0.07936507936507936,0.0873015873015873,0.050793650793650794,0.06825396825396825,0.10317460317460317,0.09841269841269841,0.10634920634920635,0.09047619047619047,0.10158730158730159,0.10634920634920635,0.1126984126984127,0.10476190476190476,0.10793650793650794,0.10793650793650794,0.09365079365079365,0.10793650793650794,0.1111111111111111,0.10952380952380952,0.10317460317460317,0.10952380952380952,0.10476190476190476,0.11428571428571428,0.1111111111111111,0.10317460317460317,0.12222222222222222,0.12063492063492064,0.12222222222222222,0.11428571428571428,0.1126984126984127]},\"selected\":{\"id\":\"10608\",\"type\":\"Selection\"},\"selection_policy\":{\"id\":\"10609\",\"type\":\"UnionRenderers\"}},\"id\":\"10581\",\"type\":\"ColumnDataSource\"},{\"attributes\":{\"dimension\":1,\"plot\":{\"id\":\"10332\",\"subtype\":\"Figure\",\"type\":\"Plot\"},\"ticker\":{\"id\":\"10348\",\"type\":\"BasicTicker\"}},\"id\":\"10351\",\"type\":\"Grid\"},{\"attributes\":{\"data_source\":{\"id\":\"10509\",\"type\":\"ColumnDataSource\"},\"glyph\":{\"id\":\"10510\",\"type\":\"Line\"},\"hover_glyph\":null,\"muted_glyph\":null,\"nonselection_glyph\":{\"id\":\"10511\",\"type\":\"Line\"},\"selection_glyph\":null,\"view\":{\"id\":\"10513\",\"type\":\"CDSView\"}},\"id\":\"10512\",\"type\":\"GlyphRenderer\"},{\"attributes\":{},\"id\":\"10316\",\"type\":\"PanTool\"},{\"attributes\":{},\"id\":\"10429\",\"type\":\"HelpTool\"},{\"attributes\":{},\"id\":\"10307\",\"type\":\"BasicTicker\"},{\"attributes\":{\"line_alpha\":0.1,\"line_color\":\"#1f77b4\",\"line_width\":2,\"x\":{\"field\":\"x\"},\"y\":{\"field\":\"y\"}},\"id\":\"10454\",\"type\":\"Line\"},{\"attributes\":{},\"id\":\"10393\",\"type\":\"HelpTool\"},{\"attributes\":{},\"id\":\"10491\",\"type\":\"BasicTickFormatter\"},{\"attributes\":{},\"id\":\"10415\",\"type\":\"BasicTicker\"},{\"attributes\":{\"label\":{\"value\":\"DSSMModel\"},\"renderers\":[{\"id\":\"10571\",\"type\":\"GlyphRenderer\"}]},\"id\":\"10580\",\"type\":\"LegendItem\"},{\"attributes\":{\"data_source\":{\"id\":\"10525\",\"type\":\"ColumnDataSource\"},\"glyph\":{\"id\":\"10526\",\"type\":\"Line\"},\"hover_glyph\":null,\"muted_glyph\":null,\"nonselection_glyph\":{\"id\":\"10527\",\"type\":\"Line\"},\"selection_glyph\":null,\"view\":{\"id\":\"10529\",\"type\":\"CDSView\"}},\"id\":\"10528\",\"type\":\"GlyphRenderer\"},{\"attributes\":{},\"id\":\"10420\",\"type\":\"BasicTicker\"},{\"attributes\":{\"dimension\":1,\"plot\":{\"id\":\"10368\",\"subtype\":\"Figure\",\"type\":\"Plot\"},\"ticker\":{\"id\":\"10384\",\"type\":\"BasicTicker\"}},\"id\":\"10387\",\"type\":\"Grid\"},{\"attributes\":{\"callback\":null,\"data\":{\"x\":[0,1,2,3,4,5,6,7,8,9,10,11,12,13,14,15,16,17,18,19,20,21,22,23,24,25,26,27,28,29],\"y\":[0.0761904761904762,0.09365079365079365,0.08095238095238096,0.10476190476190476,0.09047619047619047,0.10158730158730159,0.09523809523809523,0.09682539682539683,0.09047619047619047,0.1,0.10158730158730159,0.09841269841269841,0.09365079365079365,0.10634920634920635,0.10158730158730159,0.1,0.09523809523809523,0.1,0.10158730158730159,0.10793650793650794,0.10158730158730159,0.1126984126984127,0.10158730158730159,0.10476190476190476,0.10476190476190476,0.09523809523809523,0.09841269841269841,0.10317460317460317,0.10476190476190476,0.09523809523809523]},\"selected\":{\"id\":\"11171\",\"type\":\"Selection\"},\"selection_policy\":{\"id\":\"11172\",\"type\":\"UnionRenderers\"}},\"id\":\"10595\",\"type\":\"ColumnDataSource\"},{\"attributes\":{\"line_alpha\":0.1,\"line_color\":\"#1f77b4\",\"line_width\":2,\"x\":{\"field\":\"x\"},\"y\":{\"field\":\"y\"}},\"id\":\"10441\",\"type\":\"Line\"},{\"attributes\":{\"callback\":null,\"data\":{\"x\":[0,1,2,3,4,5,6,7,8,9,10,11,12,13,14,15,16,17,18,19,20,21,22,23,24,25,26,27,28,29],\"y\":[0.07675673781928867,0.0882737194647814,0.081707758225983,0.09853133868165387,0.0671914343187979,0.06540249693746501,0.06141194332076725,0.06171857816836583,0.05748916628841796,0.06170621497752699,0.08302274419444304,0.059576694567933276,0.07222102799296301,0.06477406098123,0.06262041642248357,0.06883956015382896,0.05887791023213852,0.06249844724832601,0.0638534212186494,0.06060000861330388,0.06249350386119263,0.062035665281501916,0.06235391039467076,0.06266595533104252,0.06259133235019668,0.07271747593204518,0.06617943555886563,0.06112395457928285,0.060001219974244784,0.0829516645835224]},\"selected\":{\"id\":\"10506\",\"type\":\"Selection\"},\"selection_policy\":{\"id\":\"10507\",\"type\":\"UnionRenderers\"}},\"id\":\"10482\",\"type\":\"ColumnDataSource\"},{\"attributes\":{},\"id\":\"10566\",\"type\":\"UnionRenderers\"},{\"attributes\":{\"active_drag\":\"auto\",\"active_inspect\":\"auto\",\"active_multi\":null,\"active_scroll\":\"auto\",\"active_tap\":\"auto\",\"tools\":[{\"id\":\"10388\",\"type\":\"PanTool\"},{\"id\":\"10389\",\"type\":\"WheelZoomTool\"},{\"id\":\"10390\",\"type\":\"BoxZoomTool\"},{\"id\":\"10391\",\"type\":\"SaveTool\"},{\"id\":\"10392\",\"type\":\"ResetTool\"},{\"id\":\"10393\",\"type\":\"HelpTool\"}]},\"id\":\"10394\",\"type\":\"Toolbar\"},{\"attributes\":{},\"id\":\"10575\",\"type\":\"BasicTickFormatter\"},{\"attributes\":{\"callback\":null},\"id\":\"10334\",\"type\":\"DataRange1d\"},{\"attributes\":{\"source\":{\"id\":\"10581\",\"type\":\"ColumnDataSource\"}},\"id\":\"10585\",\"type\":\"CDSView\"},{\"attributes\":{\"data_source\":{\"id\":\"10452\",\"type\":\"ColumnDataSource\"},\"glyph\":{\"id\":\"10453\",\"type\":\"Line\"},\"hover_glyph\":null,\"muted_glyph\":null,\"nonselection_glyph\":{\"id\":\"10454\",\"type\":\"Line\"},\"selection_glyph\":null,\"view\":{\"id\":\"10456\",\"type\":\"CDSView\"}},\"id\":\"10455\",\"type\":\"GlyphRenderer\"},{\"attributes\":{\"source\":{\"id\":\"10509\",\"type\":\"ColumnDataSource\"}},\"id\":\"10513\",\"type\":\"CDSView\"},{\"attributes\":{},\"id\":\"10379\",\"type\":\"BasicTicker\"},{\"attributes\":{\"callback\":null,\"data\":{\"x\":[0,1,2,3,4,5,6,7,8,9,10,11,12,13,14,15,16,17,18,19,20,21,22,23,24,25,26,27,28,29],\"y\":[0.11433318844997002,0.10961380752474752,0.09320924875489085,0.06783816853795198,0.06479006577855703,0.06173808359589118,0.05906886532610347,0.07256474538643505,0.05421659432502647,0.055360076721194834,0.04822704660602065,0.05061024646448341,0.049482507174353416,0.04773588125283926,0.04939497668147477,0.048313202189026974,0.0488224210908321,0.04753907422240924,0.048329347626417586,0.04908772690027972,0.04925032563756072,0.0475903071117136,0.04899926669530186,0.0478363814839863,0.049268582971014954,0.047398592180348906,0.048004762622228705,0.05132480970954802,0.048427078195593574,0.04726662516028683]},\"selected\":{\"id\":\"10479\",\"type\":\"Selection\"},\"selection_policy\":{\"id\":\"10480\",\"type\":\"UnionRenderers\"}},\"id\":\"10452\",\"type\":\"ColumnDataSource\"},{\"attributes\":{\"source\":{\"id\":\"10552\",\"type\":\"ColumnDataSource\"}},\"id\":\"10556\",\"type\":\"CDSView\"},{\"attributes\":{\"line_alpha\":0.1,\"line_color\":\"#1f77b4\",\"line_width\":2,\"x\":{\"field\":\"x\"},\"y\":{\"field\":\"y\"}},\"id\":\"10597\",\"type\":\"Line\"},{\"attributes\":{\"label\":{\"value\":\"DUETModel\"},\"renderers\":[{\"id\":\"10584\",\"type\":\"GlyphRenderer\"}]},\"id\":\"10594\",\"type\":\"LegendItem\"},{\"attributes\":{\"source\":{\"id\":\"10568\",\"type\":\"ColumnDataSource\"}},\"id\":\"10572\",\"type\":\"CDSView\"},{\"attributes\":{\"data_source\":{\"id\":\"10495\",\"type\":\"ColumnDataSource\"},\"glyph\":{\"id\":\"10496\",\"type\":\"Line\"},\"hover_glyph\":null,\"muted_glyph\":null,\"nonselection_glyph\":{\"id\":\"10497\",\"type\":\"Line\"},\"selection_glyph\":null,\"view\":{\"id\":\"10499\",\"type\":\"CDSView\"}},\"id\":\"10498\",\"type\":\"GlyphRenderer\"},{\"attributes\":{},\"id\":\"10446\",\"type\":\"BasicTickFormatter\"},{\"attributes\":{},\"id\":\"10489\",\"type\":\"BasicTickFormatter\"},{\"attributes\":{},\"id\":\"11157\",\"type\":\"Selection\"},{\"attributes\":{\"bottom_units\":\"screen\",\"fill_alpha\":{\"value\":0.5},\"fill_color\":{\"value\":\"lightgrey\"},\"left_units\":\"screen\",\"level\":\"overlay\",\"line_alpha\":{\"value\":1.0},\"line_color\":{\"value\":\"black\"},\"line_dash\":[4,4],\"line_width\":{\"value\":2},\"plot\":null,\"render_mode\":\"css\",\"right_units\":\"screen\",\"top_units\":\"screen\"},\"id\":\"10324\",\"type\":\"BoxAnnotation\"},{\"attributes\":{\"source\":{\"id\":\"10495\",\"type\":\"ColumnDataSource\"}},\"id\":\"10499\",\"type\":\"CDSView\"},{\"attributes\":{\"overlay\":{\"id\":\"10396\",\"type\":\"BoxAnnotation\"}},\"id\":\"10390\",\"type\":\"BoxZoomTool\"},{\"attributes\":{\"items\":[{\"id\":\"10580\",\"type\":\"LegendItem\"},{\"id\":\"10594\",\"type\":\"LegendItem\"},{\"id\":\"10610\",\"type\":\"LegendItem\"}],\"plot\":{\"id\":\"10404\",\"subtype\":\"Figure\",\"type\":\"Plot\"}},\"id\":\"10579\",\"type\":\"Legend\"},{\"attributes\":{\"plot\":null,\"text\":\"normalized_discounted_cumulative_gain@1(0)\"},\"id\":\"10403\",\"type\":\"Title\"},{\"attributes\":{\"callback\":null,\"data\":{\"x\":[0,1,2,3,4,5,6,7,8,9,10,11,12,13,14,15,16,17,18,19,20,21,22,23,24,25,26,27,28,29],\"y\":[8.732786275889843,8.829915213226258,7.942580880488813,7.914940031000491,8.462736852033377,7.127314304666164,7.286861560951268,7.232734388896575,7.063288967152528,7.395090294320885,7.022624450232017,7.160811877702871,7.016855256396855,6.814121291557896,6.815004638474778,7.015418083235826,7.084430651543108,7.0935131812734955,6.716374692923107,6.820184674896081,6.715217337411865,6.953685940754344,6.869038862212177,6.698293860555864,6.784047054418012,6.889943435037736,6.83041063487101,6.560674043322327,6.762889565479686,6.43355391179915]},\"selected\":{\"id\":\"11157\",\"type\":\"Selection\"},\"selection_policy\":{\"id\":\"11158\",\"type\":\"UnionRenderers\"}},\"id\":\"10509\",\"type\":\"ColumnDataSource\"},{\"attributes\":{},\"id\":\"10565\",\"type\":\"Selection\"},{\"attributes\":{},\"id\":\"10448\",\"type\":\"BasicTickFormatter\"},{\"attributes\":{\"data_source\":{\"id\":\"10552\",\"type\":\"ColumnDataSource\"},\"glyph\":{\"id\":\"10553\",\"type\":\"Line\"},\"hover_glyph\":null,\"muted_glyph\":null,\"nonselection_glyph\":{\"id\":\"10554\",\"type\":\"Line\"},\"selection_glyph\":null,\"view\":{\"id\":\"10556\",\"type\":\"CDSView\"}},\"id\":\"10555\",\"type\":\"GlyphRenderer\"},{\"attributes\":{\"source\":{\"id\":\"10482\",\"type\":\"ColumnDataSource\"}},\"id\":\"10486\",\"type\":\"CDSView\"},{\"attributes\":{\"plot\":{\"id\":\"10332\",\"subtype\":\"Figure\",\"type\":\"Plot\"},\"ticker\":{\"id\":\"10343\",\"type\":\"BasicTicker\"}},\"id\":\"10346\",\"type\":\"Grid\"},{\"attributes\":{\"data_source\":{\"id\":\"10581\",\"type\":\"ColumnDataSource\"},\"glyph\":{\"id\":\"10582\",\"type\":\"Line\"},\"hover_glyph\":null,\"muted_glyph\":null,\"nonselection_glyph\":{\"id\":\"10583\",\"type\":\"Line\"},\"selection_glyph\":null,\"view\":{\"id\":\"10585\",\"type\":\"CDSView\"}},\"id\":\"10584\",\"type\":\"GlyphRenderer\"},{\"attributes\":{},\"id\":\"10355\",\"type\":\"SaveTool\"},{\"attributes\":{\"line_alpha\":0.5,\"line_color\":\"#1f77b4\",\"line_width\":2,\"x\":{\"field\":\"x\"},\"y\":{\"field\":\"y\"}},\"id\":\"10526\",\"type\":\"Line\"},{\"attributes\":{},\"id\":\"10357\",\"type\":\"HelpTool\"},{\"attributes\":{\"line_alpha\":0.1,\"line_color\":\"#1f77b4\",\"line_width\":2,\"x\":{\"field\":\"x\"},\"y\":{\"field\":\"y\"}},\"id\":\"10527\",\"type\":\"Line\"},{\"attributes\":{\"callback\":null,\"data\":{\"x\":[0,1,2,3,4,5,6,7,8,9,10,11,12,13,14,15,16,17,18,19,20,21,22,23,24,25,26,27,28,29],\"y\":[0.17142857142857143,0.11746031746031746,0.05873015873015873,0.05396825396825397,0.05238095238095238,0.05555555555555555,0.06190476190476191,0.08571428571428572,0.08253968253968254,0.08571428571428572,0.06666666666666667,0.08412698412698413,0.08253968253968254,0.07142857142857142,0.06507936507936508,0.08412698412698413,0.07777777777777778,0.07777777777777778,0.0746031746031746,0.06984126984126984,0.07777777777777778,0.0761904761904762,0.0761904761904762,0.07301587301587302,0.07301587301587302,0.07936507936507936,0.08253968253968254,0.08095238095238096,0.0761904761904762,0.08095238095238096]},\"selected\":{\"id\":\"10592\",\"type\":\"Selection\"},\"selection_policy\":{\"id\":\"10593\",\"type\":\"UnionRenderers\"}},\"id\":\"10568\",\"type\":\"ColumnDataSource\"},{\"attributes\":{\"formatter\":{\"id\":\"10534\",\"type\":\"BasicTickFormatter\"},\"plot\":{\"id\":\"10368\",\"subtype\":\"Figure\",\"type\":\"Plot\"},\"ticker\":{\"id\":\"10384\",\"type\":\"BasicTicker\"}},\"id\":\"10383\",\"type\":\"LinearAxis\"},{\"attributes\":{\"line_alpha\":0.1,\"line_color\":\"#1f77b4\",\"line_width\":2,\"x\":{\"field\":\"x\"},\"y\":{\"field\":\"y\"}},\"id\":\"10484\",\"type\":\"Line\"},{\"attributes\":{\"data_source\":{\"id\":\"10466\",\"type\":\"ColumnDataSource\"},\"glyph\":{\"id\":\"10467\",\"type\":\"Line\"},\"hover_glyph\":null,\"muted_glyph\":null,\"nonselection_glyph\":{\"id\":\"10468\",\"type\":\"Line\"},\"selection_glyph\":null,\"view\":{\"id\":\"10470\",\"type\":\"CDSView\"}},\"id\":\"10469\",\"type\":\"GlyphRenderer\"},{\"attributes\":{\"callback\":null},\"id\":\"10336\",\"type\":\"DataRange1d\"},{\"attributes\":{\"active_drag\":\"auto\",\"active_inspect\":\"auto\",\"active_multi\":null,\"active_scroll\":\"auto\",\"active_tap\":\"auto\",\"tools\":[{\"id\":\"10424\",\"type\":\"PanTool\"},{\"id\":\"10425\",\"type\":\"WheelZoomTool\"},{\"id\":\"10426\",\"type\":\"BoxZoomTool\"},{\"id\":\"10427\",\"type\":\"SaveTool\"},{\"id\":\"10428\",\"type\":\"ResetTool\"},{\"id\":\"10429\",\"type\":\"HelpTool\"}]},\"id\":\"10430\",\"type\":\"Toolbar\"},{\"attributes\":{},\"id\":\"10353\",\"type\":\"WheelZoomTool\"},{\"attributes\":{\"plot\":null,\"text\":\"mean_absolute_error\"},\"id\":\"10331\",\"type\":\"Title\"},{\"attributes\":{\"source\":{\"id\":\"10525\",\"type\":\"ColumnDataSource\"}},\"id\":\"10529\",\"type\":\"CDSView\"},{\"attributes\":{\"below\":[{\"id\":\"10414\",\"type\":\"LinearAxis\"}],\"left\":[{\"id\":\"10419\",\"type\":\"LinearAxis\"}],\"plot_height\":400,\"plot_width\":800,\"renderers\":[{\"id\":\"10414\",\"type\":\"LinearAxis\"},{\"id\":\"10418\",\"type\":\"Grid\"},{\"id\":\"10419\",\"type\":\"LinearAxis\"},{\"id\":\"10423\",\"type\":\"Grid\"},{\"id\":\"10432\",\"type\":\"BoxAnnotation\"},{\"id\":\"10579\",\"type\":\"Legend\"},{\"id\":\"10571\",\"type\":\"GlyphRenderer\"},{\"id\":\"10584\",\"type\":\"GlyphRenderer\"},{\"id\":\"10598\",\"type\":\"GlyphRenderer\"}],\"sizing_mode\":\"fixed\",\"title\":{\"id\":\"10403\",\"type\":\"Title\"},\"toolbar\":{\"id\":\"10430\",\"type\":\"Toolbar\"},\"x_range\":{\"id\":\"10406\",\"type\":\"DataRange1d\"},\"x_scale\":{\"id\":\"10410\",\"type\":\"LinearScale\"},\"y_range\":{\"id\":\"10408\",\"type\":\"DataRange1d\"},\"y_scale\":{\"id\":\"10412\",\"type\":\"LinearScale\"}},\"id\":\"10404\",\"subtype\":\"Figure\",\"type\":\"Plot\"},{\"attributes\":{},\"id\":\"10319\",\"type\":\"SaveTool\"},{\"attributes\":{\"source\":{\"id\":\"10452\",\"type\":\"ColumnDataSource\"}},\"id\":\"10456\",\"type\":\"CDSView\"},{\"attributes\":{\"formatter\":{\"id\":\"10446\",\"type\":\"BasicTickFormatter\"},\"plot\":{\"id\":\"10296\",\"subtype\":\"Figure\",\"type\":\"Plot\"},\"ticker\":{\"id\":\"10307\",\"type\":\"BasicTicker\"}},\"id\":\"10306\",\"type\":\"LinearAxis\"},{\"attributes\":{\"callback\":null},\"id\":\"10372\",\"type\":\"DataRange1d\"},{\"attributes\":{\"callback\":null,\"data\":{\"x\":[0,1,2,3,4,5,6,7,8,9,10,11,12,13,14,15,16,17,18,19,20,21,22,23,24,25,26,27,28,29],\"y\":[0.23060421628099084,0.22363117625699314,0.20580836732922386,0.15697178547681742,0.14514388147914542,0.14238783191862725,0.12279021120133783,0.1561230735949553,0.1454899121706902,0.1096028784098697,0.09554684620187359,0.09796648568055301,0.11011175883896138,0.09907563288005994,0.1004328872884232,0.10051585852300676,0.09006819441826847,0.09134541697035123,0.09650859289831239,0.08745341654927845,0.09238985820172112,0.0923812309897671,0.08886146243293742,0.09186280509511811,0.09710745367741101,0.08514309736386555,0.08155639336594886,0.09178536209388057,0.08965278913414969,0.08810325727558665]},\"selected\":{\"id\":\"10522\",\"type\":\"Selection\"},\"selection_policy\":{\"id\":\"10523\",\"type\":\"UnionRenderers\"}},\"id\":\"10495\",\"type\":\"ColumnDataSource\"},{\"attributes\":{\"formatter\":{\"id\":\"10577\",\"type\":\"BasicTickFormatter\"},\"plot\":{\"id\":\"10404\",\"subtype\":\"Figure\",\"type\":\"Plot\"},\"ticker\":{\"id\":\"10420\",\"type\":\"BasicTicker\"}},\"id\":\"10419\",\"type\":\"LinearAxis\"},{\"attributes\":{},\"id\":\"11171\",\"type\":\"Selection\"},{\"attributes\":{\"bottom_units\":\"screen\",\"fill_alpha\":{\"value\":0.5},\"fill_color\":{\"value\":\"lightgrey\"},\"left_units\":\"screen\",\"level\":\"overlay\",\"line_alpha\":{\"value\":1.0},\"line_color\":{\"value\":\"black\"},\"line_dash\":[4,4],\"line_width\":{\"value\":2},\"plot\":null,\"render_mode\":\"css\",\"right_units\":\"screen\",\"top_units\":\"screen\"},\"id\":\"10360\",\"type\":\"BoxAnnotation\"},{\"attributes\":{},\"id\":\"10317\",\"type\":\"WheelZoomTool\"},{\"attributes\":{\"line_alpha\":0.5,\"line_color\":\"#ff7f0e\",\"line_width\":2,\"x\":{\"field\":\"x\"},\"y\":{\"field\":\"y\"}},\"id\":\"10453\",\"type\":\"Line\"},{\"attributes\":{},\"id\":\"11165\",\"type\":\"UnionRenderers\"},{\"attributes\":{\"plot\":null,\"text\":\"loss\"},\"id\":\"10295\",\"type\":\"Title\"},{\"attributes\":{\"plot\":{\"id\":\"10404\",\"subtype\":\"Figure\",\"type\":\"Plot\"},\"ticker\":{\"id\":\"10415\",\"type\":\"BasicTicker\"}},\"id\":\"10418\",\"type\":\"Grid\"},{\"attributes\":{},\"id\":\"10534\",\"type\":\"BasicTickFormatter\"},{\"attributes\":{},\"id\":\"10312\",\"type\":\"BasicTicker\"},{\"attributes\":{\"source\":{\"id\":\"10466\",\"type\":\"ColumnDataSource\"}},\"id\":\"10470\",\"type\":\"CDSView\"},{\"attributes\":{},\"id\":\"10391\",\"type\":\"SaveTool\"},{\"attributes\":{},\"id\":\"10302\",\"type\":\"LinearScale\"},{\"attributes\":{\"items\":[{\"id\":\"10451\",\"type\":\"LegendItem\"},{\"id\":\"10465\",\"type\":\"LegendItem\"},{\"id\":\"10481\",\"type\":\"LegendItem\"}],\"plot\":{\"id\":\"10296\",\"subtype\":\"Figure\",\"type\":\"Plot\"}},\"id\":\"10450\",\"type\":\"Legend\"},{\"attributes\":{\"line_alpha\":0.1,\"line_color\":\"#1f77b4\",\"line_width\":2,\"x\":{\"field\":\"x\"},\"y\":{\"field\":\"y\"}},\"id\":\"10497\",\"type\":\"Line\"},{\"attributes\":{\"line_alpha\":0.5,\"line_color\":\"#2ca02c\",\"line_width\":2,\"x\":{\"field\":\"x\"},\"y\":{\"field\":\"y\"}},\"id\":\"10553\",\"type\":\"Line\"},{\"attributes\":{\"formatter\":{\"id\":\"10448\",\"type\":\"BasicTickFormatter\"},\"plot\":{\"id\":\"10296\",\"subtype\":\"Figure\",\"type\":\"Plot\"},\"ticker\":{\"id\":\"10312\",\"type\":\"BasicTicker\"}},\"id\":\"10311\",\"type\":\"LinearAxis\"},{\"attributes\":{},\"id\":\"10392\",\"type\":\"ResetTool\"},{\"attributes\":{\"callback\":null,\"data\":{\"x\":[0,1,2,3,4,5,6,7,8,9,10,11,12,13,14,15,16,17,18,19,20,21,22,23,24,25,26,27,28,29],\"y\":[0.0810119848663066,0.08251952154931654,0.08226664279152514,0.08930971972869227,0.08686713911815774,0.08986406594169576,0.08795330869421808,0.08641743769824888,0.08639073143185383,0.0868274717679921,0.08418981392209536,0.08507614281507093,0.0855796683110714,0.08661812831122352,0.0891757794712957,0.0856900886316284,0.08500172763010168,0.08621293309833974,0.08634670191584745,0.08892858368818767,0.08792481773575635,0.08823457277476754,0.08643276088098446,0.08844155466099414,0.08704404689793067,0.08690549626039946,0.08609579658608836,0.08651216823190172,0.08700971821678732,0.08608175920926896]},\"selected\":{\"id\":\"11164\",\"type\":\"Selection\"},\"selection_policy\":{\"id\":\"11165\",\"type\":\"UnionRenderers\"}},\"id\":\"10552\",\"type\":\"ColumnDataSource\"},{\"attributes\":{\"active_drag\":\"auto\",\"active_inspect\":\"auto\",\"active_multi\":null,\"active_scroll\":\"auto\",\"active_tap\":\"auto\",\"tools\":[{\"id\":\"10352\",\"type\":\"PanTool\"},{\"id\":\"10353\",\"type\":\"WheelZoomTool\"},{\"id\":\"10354\",\"type\":\"BoxZoomTool\"},{\"id\":\"10355\",\"type\":\"SaveTool\"},{\"id\":\"10356\",\"type\":\"ResetTool\"},{\"id\":\"10357\",\"type\":\"HelpTool\"}]},\"id\":\"10358\",\"type\":\"Toolbar\"},{\"attributes\":{\"label\":{\"value\":\"DSSMModel\"},\"renderers\":[{\"id\":\"10485\",\"type\":\"GlyphRenderer\"}]},\"id\":\"10494\",\"type\":\"LegendItem\"},{\"attributes\":{\"label\":{\"value\":\"DSSMModel\"},\"renderers\":[{\"id\":\"10528\",\"type\":\"GlyphRenderer\"}]},\"id\":\"10537\",\"type\":\"LegendItem\"},{\"attributes\":{\"overlay\":{\"id\":\"10432\",\"type\":\"BoxAnnotation\"}},\"id\":\"10426\",\"type\":\"BoxZoomTool\"},{\"attributes\":{\"source\":{\"id\":\"10439\",\"type\":\"ColumnDataSource\"}},\"id\":\"10443\",\"type\":\"CDSView\"},{\"attributes\":{},\"id\":\"11158\",\"type\":\"UnionRenderers\"},{\"attributes\":{},\"id\":\"10549\",\"type\":\"Selection\"},{\"attributes\":{},\"id\":\"10343\",\"type\":\"BasicTicker\"},{\"attributes\":{\"line_alpha\":0.5,\"line_color\":\"#2ca02c\",\"line_width\":2,\"x\":{\"field\":\"x\"},\"y\":{\"field\":\"y\"}},\"id\":\"10510\",\"type\":\"Line\"},{\"attributes\":{},\"id\":\"10608\",\"type\":\"Selection\"},{\"attributes\":{\"label\":{\"value\":\"DUETModel\"},\"renderers\":[{\"id\":\"10455\",\"type\":\"GlyphRenderer\"}]},\"id\":\"10465\",\"type\":\"LegendItem\"},{\"attributes\":{\"callback\":null},\"id\":\"10370\",\"type\":\"DataRange1d\"},{\"attributes\":{},\"id\":\"10321\",\"type\":\"HelpTool\"},{\"attributes\":{\"line_alpha\":0.1,\"line_color\":\"#1f77b4\",\"line_width\":2,\"x\":{\"field\":\"x\"},\"y\":{\"field\":\"y\"}},\"id\":\"10583\",\"type\":\"Line\"},{\"attributes\":{},\"id\":\"11151\",\"type\":\"UnionRenderers\"},{\"attributes\":{\"plot\":{\"id\":\"10296\",\"subtype\":\"Figure\",\"type\":\"Plot\"},\"ticker\":{\"id\":\"10307\",\"type\":\"BasicTicker\"}},\"id\":\"10310\",\"type\":\"Grid\"},{\"attributes\":{\"items\":[{\"id\":\"10494\",\"type\":\"LegendItem\"},{\"id\":\"10508\",\"type\":\"LegendItem\"},{\"id\":\"10524\",\"type\":\"LegendItem\"}],\"plot\":{\"id\":\"10332\",\"subtype\":\"Figure\",\"type\":\"Plot\"}},\"id\":\"10493\",\"type\":\"Legend\"},{\"attributes\":{},\"id\":\"10410\",\"type\":\"LinearScale\"},{\"attributes\":{},\"id\":\"10304\",\"type\":\"LinearScale\"},{\"attributes\":{\"data_source\":{\"id\":\"10538\",\"type\":\"ColumnDataSource\"},\"glyph\":{\"id\":\"10539\",\"type\":\"Line\"},\"hover_glyph\":null,\"muted_glyph\":null,\"nonselection_glyph\":{\"id\":\"10540\",\"type\":\"Line\"},\"selection_glyph\":null,\"view\":{\"id\":\"10542\",\"type\":\"CDSView\"}},\"id\":\"10541\",\"type\":\"GlyphRenderer\"},{\"attributes\":{\"callback\":null},\"id\":\"10408\",\"type\":\"DataRange1d\"},{\"attributes\":{\"dimension\":1,\"plot\":{\"id\":\"10404\",\"subtype\":\"Figure\",\"type\":\"Plot\"},\"ticker\":{\"id\":\"10420\",\"type\":\"BasicTicker\"}},\"id\":\"10423\",\"type\":\"Grid\"},{\"attributes\":{\"dimension\":1,\"plot\":{\"id\":\"10296\",\"subtype\":\"Figure\",\"type\":\"Plot\"},\"ticker\":{\"id\":\"10312\",\"type\":\"BasicTicker\"}},\"id\":\"10315\",\"type\":\"Grid\"},{\"attributes\":{\"data_source\":{\"id\":\"10482\",\"type\":\"ColumnDataSource\"},\"glyph\":{\"id\":\"10483\",\"type\":\"Line\"},\"hover_glyph\":null,\"muted_glyph\":null,\"nonselection_glyph\":{\"id\":\"10484\",\"type\":\"Line\"},\"selection_glyph\":null,\"view\":{\"id\":\"10486\",\"type\":\"CDSView\"}},\"id\":\"10485\",\"type\":\"GlyphRenderer\"},{\"attributes\":{\"callback\":null,\"data\":{\"x\":[0,1,2,3,4,5,6,7,8,9,10,11,12,13,14,15,16,17,18,19,20,21,22,23,24,25,26,27,28,29],\"y\":[0.04554322528597418,0.04539357557249584,0.04564360873207226,0.04579224458915724,0.04815882451203697,0.0481672183098241,0.04685671366337002,0.04800562667760917,0.04789768582108833,0.04933814703199971,0.05000046258116174,0.048649051021406896,0.05219019668273009,0.05163168781202474,0.05242206798251194,0.051441765965941376,0.05033247151879254,0.05074144566786141,0.05170458706523407,0.050908210015495746,0.052240271328359435,0.05265141822802155,0.05298782883369119,0.05349528955927934,0.053534369287126744,0.05854391895765725,0.05642626215286548,0.05293391767506743,0.0528901067993039,0.06799247139971033]},\"selected\":{\"id\":\"10463\",\"type\":\"Selection\"},\"selection_policy\":{\"id\":\"10464\",\"type\":\"UnionRenderers\"}},\"id\":\"10439\",\"type\":\"ColumnDataSource\"},{\"attributes\":{\"below\":[{\"id\":\"10378\",\"type\":\"LinearAxis\"}],\"left\":[{\"id\":\"10383\",\"type\":\"LinearAxis\"}],\"plot_height\":400,\"plot_width\":800,\"renderers\":[{\"id\":\"10378\",\"type\":\"LinearAxis\"},{\"id\":\"10382\",\"type\":\"Grid\"},{\"id\":\"10383\",\"type\":\"LinearAxis\"},{\"id\":\"10387\",\"type\":\"Grid\"},{\"id\":\"10396\",\"type\":\"BoxAnnotation\"},{\"id\":\"10536\",\"type\":\"Legend\"},{\"id\":\"10528\",\"type\":\"GlyphRenderer\"},{\"id\":\"10541\",\"type\":\"GlyphRenderer\"},{\"id\":\"10555\",\"type\":\"GlyphRenderer\"}],\"sizing_mode\":\"fixed\",\"title\":{\"id\":\"10367\",\"type\":\"Title\"},\"toolbar\":{\"id\":\"10394\",\"type\":\"Toolbar\"},\"x_range\":{\"id\":\"10370\",\"type\":\"DataRange1d\"},\"x_scale\":{\"id\":\"10374\",\"type\":\"LinearScale\"},\"y_range\":{\"id\":\"10372\",\"type\":\"DataRange1d\"},\"y_scale\":{\"id\":\"10376\",\"type\":\"LinearScale\"}},\"id\":\"10368\",\"subtype\":\"Figure\",\"type\":\"Plot\"},{\"attributes\":{\"label\":{\"value\":\"KNRMModel\"},\"renderers\":[{\"id\":\"10469\",\"type\":\"GlyphRenderer\"}]},\"id\":\"10481\",\"type\":\"LegendItem\"},{\"attributes\":{\"line_alpha\":0.5,\"line_color\":\"#2ca02c\",\"line_width\":2,\"x\":{\"field\":\"x\"},\"y\":{\"field\":\"y\"}},\"id\":\"10467\",\"type\":\"Line\"},{\"attributes\":{\"line_alpha\":0.1,\"line_color\":\"#1f77b4\",\"line_width\":2,\"x\":{\"field\":\"x\"},\"y\":{\"field\":\"y\"}},\"id\":\"10554\",\"type\":\"Line\"},{\"attributes\":{},\"id\":\"10374\",\"type\":\"LinearScale\"},{\"attributes\":{\"callback\":null,\"data\":{\"x\":[0,1,2,3,4,5,6,7,8,9,10,11,12,13,14,15,16,17,18,19,20,21,22,23,24,25,26,27,28,29],\"y\":[117.93098123374524,121.35237329157448,98.81958432443942,98.6242072964276,110.37380726466856,79.45108872507818,82.57795135518006,82.33350010554412,77.7423528068747,85.86018305217776,77.32288760278176,80.22919274000189,77.05126277506936,72.62770897395632,72.60374347893844,76.8272440768754,78.38314584316656,78.83283559975085,70.77297593410535,73.00172860424374,70.82039946212419,75.30709033015509,73.88870534154618,70.08287449519256,72.20166575479851,74.2224881737898,73.2908173355891,67.38641414804502,71.351753145047,64.83131612274988]},\"selected\":{\"id\":\"11150\",\"type\":\"Selection\"},\"selection_policy\":{\"id\":\"11151\",\"type\":\"UnionRenderers\"}},\"id\":\"10466\",\"type\":\"ColumnDataSource\"},{\"attributes\":{\"line_alpha\":0.1,\"line_color\":\"#1f77b4\",\"line_width\":2,\"x\":{\"field\":\"x\"},\"y\":{\"field\":\"y\"}},\"id\":\"10540\",\"type\":\"Line\"},{\"attributes\":{\"line_alpha\":0.5,\"line_color\":\"#2ca02c\",\"line_width\":2,\"x\":{\"field\":\"x\"},\"y\":{\"field\":\"y\"}},\"id\":\"10596\",\"type\":\"Line\"},{\"attributes\":{},\"id\":\"10389\",\"type\":\"WheelZoomTool\"},{\"attributes\":{\"label\":{\"value\":\"KNRMModel\"},\"renderers\":[{\"id\":\"10555\",\"type\":\"GlyphRenderer\"}]},\"id\":\"10567\",\"type\":\"LegendItem\"},{\"attributes\":{},\"id\":\"10376\",\"type\":\"LinearScale\"},{\"attributes\":{\"callback\":null},\"id\":\"10298\",\"type\":\"DataRange1d\"},{\"attributes\":{\"overlay\":{\"id\":\"10360\",\"type\":\"BoxAnnotation\"}},\"id\":\"10354\",\"type\":\"BoxZoomTool\"},{\"attributes\":{\"line_alpha\":0.1,\"line_color\":\"#1f77b4\",\"line_width\":2,\"x\":{\"field\":\"x\"},\"y\":{\"field\":\"y\"}},\"id\":\"10511\",\"type\":\"Line\"},{\"attributes\":{\"plot\":null,\"text\":\"average_precision(0)\"},\"id\":\"10367\",\"type\":\"Title\"},{\"attributes\":{},\"id\":\"10412\",\"type\":\"LinearScale\"},{\"attributes\":{},\"id\":\"10532\",\"type\":\"BasicTickFormatter\"},{\"attributes\":{\"source\":{\"id\":\"10595\",\"type\":\"ColumnDataSource\"}},\"id\":\"10599\",\"type\":\"CDSView\"},{\"attributes\":{},\"id\":\"10348\",\"type\":\"BasicTicker\"},{\"attributes\":{},\"id\":\"10463\",\"type\":\"Selection\"},{\"attributes\":{},\"id\":\"10522\",\"type\":\"Selection\"},{\"attributes\":{},\"id\":\"10388\",\"type\":\"PanTool\"},{\"attributes\":{\"line_alpha\":0.5,\"line_color\":\"#ff7f0e\",\"line_width\":2,\"x\":{\"field\":\"x\"},\"y\":{\"field\":\"y\"}},\"id\":\"10582\",\"type\":\"Line\"},{\"attributes\":{},\"id\":\"10523\",\"type\":\"UnionRenderers\"},{\"attributes\":{},\"id\":\"11164\",\"type\":\"Selection\"},{\"attributes\":{\"active_drag\":\"auto\",\"active_inspect\":\"auto\",\"active_multi\":null,\"active_scroll\":\"auto\",\"active_tap\":\"auto\",\"tools\":[{\"id\":\"10316\",\"type\":\"PanTool\"},{\"id\":\"10317\",\"type\":\"WheelZoomTool\"},{\"id\":\"10318\",\"type\":\"BoxZoomTool\"},{\"id\":\"10319\",\"type\":\"SaveTool\"},{\"id\":\"10320\",\"type\":\"ResetTool\"},{\"id\":\"10321\",\"type\":\"HelpTool\"}]},\"id\":\"10322\",\"type\":\"Toolbar\"},{\"attributes\":{\"line_alpha\":0.5,\"line_color\":\"#1f77b4\",\"line_width\":2,\"x\":{\"field\":\"x\"},\"y\":{\"field\":\"y\"}},\"id\":\"10483\",\"type\":\"Line\"},{\"attributes\":{},\"id\":\"10428\",\"type\":\"ResetTool\"},{\"attributes\":{\"callback\":null},\"id\":\"10406\",\"type\":\"DataRange1d\"},{\"attributes\":{\"items\":[{\"id\":\"10537\",\"type\":\"LegendItem\"},{\"id\":\"10551\",\"type\":\"LegendItem\"},{\"id\":\"10567\",\"type\":\"LegendItem\"}],\"plot\":{\"id\":\"10368\",\"subtype\":\"Figure\",\"type\":\"Plot\"}},\"id\":\"10536\",\"type\":\"Legend\"}],\"root_ids\":[\"10612\"]},\"title\":\"Bokeh Application\",\"version\":\"1.0.2\"}};\n",
       "  var render_items = [{\"docid\":\"dd0cee89-b17b-4559-9931-1e1e78a1ce18\",\"roots\":{\"10612\":\"ab99b546-2cd3-4eaf-a0fb-e2e825f93ecd\"}}];\n",
       "  root.Bokeh.embed.embed_items_notebook(docs_json, render_items);\n",
       "\n",
       "  }\n",
       "  if (root.Bokeh !== undefined) {\n",
       "    embed_document(root);\n",
       "  } else {\n",
       "    var attempts = 0;\n",
       "    var timer = setInterval(function(root) {\n",
       "      if (root.Bokeh !== undefined) {\n",
       "        embed_document(root);\n",
       "        clearInterval(timer);\n",
       "      }\n",
       "      attempts++;\n",
       "      if (attempts > 100) {\n",
       "        console.log(\"Bokeh: ERROR: Unable to run BokehJS code because BokehJS library is missing\");\n",
       "        clearInterval(timer);\n",
       "      }\n",
       "    }, 10, root)\n",
       "  }\n",
       "})(window);"
      ],
      "application/vnd.bokehjs_exec.v0+json": ""
     },
     "metadata": {
      "application/vnd.bokehjs_exec.v0+json": {
       "id": "10612"
      }
     },
     "output_type": "display_data"
    }
   ],
   "source": [
    "charts = {\n",
    "    metric: figure(\n",
    "        title=str(metric),\n",
    "        sizing_mode='scale_width',\n",
    "        width=800, height=400\n",
    "    ) for metric in results[0]['history'].history.keys()\n",
    "}\n",
    "for metric, sub_chart in charts.items():\n",
    "    lines = {}\n",
    "    for result, color in zip(results, bokeh.palettes.Category10[10]):\n",
    "        x = result['history'].epoch\n",
    "        y = result['history'].history[metric]\n",
    "        lines[result['name']] = sub_chart.line(\n",
    "            x, y, color=color, line_width=2, alpha=0.5, legend=result['name'])\n",
    "output_notebook()\n",
    "show(column(*charts.values()))"
   ]
  }
 ],
 "metadata": {
  "hide_input": false,
  "kernelspec": {
   "display_name": "matchzoo",
   "language": "python",
   "name": "matchzoo"
  },
  "language_info": {
   "codemirror_mode": {
    "name": "ipython",
    "version": 3
   },
   "file_extension": ".py",
   "mimetype": "text/x-python",
   "name": "python",
   "nbconvert_exporter": "python",
   "pygments_lexer": "ipython3",
   "version": "3.6.3"
  },
  "toc": {
   "nav_menu": {},
   "number_sections": true,
   "sideBar": true,
   "skip_h1_title": false,
   "toc_cell": false,
   "toc_position": {},
   "toc_section_display": "block",
   "toc_window_display": false
  },
  "varInspector": {
   "cols": {
    "lenName": 16,
    "lenType": 16,
    "lenVar": 40
   },
   "kernels_config": {
    "python": {
     "delete_cmd_postfix": "",
     "delete_cmd_prefix": "del ",
     "library": "var_list.py",
     "varRefreshCmd": "print(var_dic_list())"
    },
    "r": {
     "delete_cmd_postfix": ") ",
     "delete_cmd_prefix": "rm(",
     "library": "var_list.r",
     "varRefreshCmd": "cat(var_dic_list()) "
    }
   },
   "types_to_exclude": [
    "module",
    "function",
    "builtin_function_or_method",
    "instance",
    "_Feature"
   ],
   "window_display": false
  }
 },
 "nbformat": 4,
 "nbformat_minor": 2
}
