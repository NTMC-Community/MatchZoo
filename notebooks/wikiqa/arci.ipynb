{
 "cells": [
  {
   "cell_type": "markdown",
   "metadata": {},
   "source": [
    "### Build a Arc-I Model\n",
    "\n",
    "<img src=\"https://raw.githubusercontent.com/NTMC-Community/MatchZoo/2.0/artworks/matchzoo-logo.png\" alt=\"logo\" style=\"width:600px;float: center\"/>\n",
    "\n",
    "This is a tutorial on training *Arc-I Model* [Hu et al. 2014](http://papers.nips.cc/paper/5550-convolutional-neural-network-architectures-for-matching-natural-language-sentences.pdf) model with [MatchZoo](https://github.com/faneshion/MatchZoo). We use [WikiQA](https://aclweb.org/anthology/D15-1237) as the example benchmark data set to show the usage.\n",
    "\n",
    "*To walk through this notebook, you need approx 90 minutes.*\n",
    "\n",
    "-------"
   ]
  },
  {
   "cell_type": "markdown",
   "metadata": {},
   "source": [
    "**TL;DR**\n",
    "\n",
    "The following code block illustrates the main workflow of how to train a Arc-I model. \n",
    "\n",
    "```python\n",
    "from matchzoo import preprocessor\n",
    "from matchzoo import generators\n",
    "from matchzoo import models\n",
    "\n",
    "train, test = ... # prepare your training data and test data.\n",
    "\n",
    "arci_preprocessor = preprocessor.ArcIPreprocessor()\n",
    "processed_tr = arci_preprocessor.fit_transform(train, stage='train')\n",
    "processed_te = arci_preprocessor.fit_transform(test, stage='test')\n",
    "\n",
    "\n",
    "generator_tr = generators.PointGenerator(processed_tr)\n",
    "generator_te = generators.PointGenerator(processed_te)\n",
    "# Example, train with generator, test with the first batch.\n",
    "X_te, y_te = generator_te[0]\n",
    "\n",
    "arci_model = models.ArcIModel()\n",
    "arci_model.guess_and_fill_missing_params()\n",
    "arci_model.build()\n",
    "arci_model.compile()\n",
    "arci_model.fit_generator(generator_tr)\n",
    "# Make predictions\n",
    "predictions = arci_model.predict([X_te.text_left, X_te.text_right])\n",
    "```\n",
    "\n",
    "-----"
   ]
  },
  {
   "cell_type": "markdown",
   "metadata": {},
   "source": [
    "MatchZoo expect a list of *Quintuple* as training data:\n",
    "\n",
    "```python\n",
    "train = [('qid0', 'did0', 'query 0', 'document 0', 'label 0'),\n",
    "         ('qid0', 'did1', 'query 0', 'document 1', 'label 1'),\n",
    "          ...,\n",
    "         ('qid1', 'did2', 'query 1', 'document 2', 'label 3')]\n",
    "```\n",
    "\n",
    "The corresponded columns are `(text_left_id, text_right_id, text_left, text_right, label)`. For Information Retrieval task, *text_left* is referred as *query*, and *text_right* is document.\n",
    "\n",
    "For the test case, MatchZoo expect a list of *Quadruple* (we do not need labels) as input:\n",
    "\n",
    "```python\n",
    "test = [('qid9', 'did5', 'query 9', 'document 5'),\n",
    "         ...,\n",
    "        ('qid2', 'did7', 'query 2', 'document 7')]\n",
    "```"
   ]
  },
  {
   "cell_type": "markdown",
   "metadata": {},
   "source": [
    "### Table of Content\n",
    "\n",
    "+ Prepare WikiQA dataset\n",
    "    - Download\n",
    "    - Load\n",
    "    - Adjustment\n",
    "+ Preprocessing\n",
    "+ Data Generator\n",
    "+ Model Training\n",
    "    - Initialize\n",
    "    - Hyper-Parameters\n",
    "    - Make Prediction\n",
    "    - Model Persistence\n",
    "- Reference"
   ]
  },
  {
   "cell_type": "markdown",
   "metadata": {},
   "source": [
    "### Prepare WikiQA dataset\n",
    "\n",
    "#### Download\n",
    "\n",
    "We take WikiQA as the example benchmark dataset to show the usage of MatchZoo. Firstly you need to downlowd the data and uncompress the data, we provided the following script to help you download the dataset into `MatchZoo/data/WikiQA` folder, you can change the directory in the following script.\n",
    "\n",
    "If you already have WikiQA dataset downloaded on your machine, skip the following script."
   ]
  },
  {
   "cell_type": "code",
   "execution_count": 61,
   "metadata": {},
   "outputs": [
    {
     "name": "stdout",
     "output_type": "stream",
     "text": [
      "--2018-10-20 21:23:13--  https://download.microsoft.com/download/E/5/F/E5FCFCEE-7005-4814-853D-DAA7C66507E0/WikiQACorpus.zip\n",
      "正在解析主机 download.microsoft.com (download.microsoft.com)... 61.240.136.46, 221.194.130.172\n",
      "正在连接 download.microsoft.com (download.microsoft.com)|61.240.136.46|:443... 已连接。\n",
      "已发出 HTTP 请求，正在等待回应... 200 OK\n",
      "长度：7094233 (6.8M) [application/octet-stream]\n",
      "正在保存至: “../../data/WikiQA/WikiQACorpus.zip”\n",
      "\n",
      "WikiQACorpus.zip    100%[===================>]   6.76M   421KB/s  用时 14s       \n",
      "\n",
      "2018-10-20 21:23:27 (512 KB/s) - 已保存 “../../data/WikiQA/WikiQACorpus.zip” [7094233/7094233])\n",
      "\n",
      "Archive:  ../../data/WikiQA/WikiQACorpus.zip\n",
      "   creating: ../../data/WikiQA/WikiQACorpus/emnlp-table/\n",
      "  inflating: ../../data/WikiQA/WikiQACorpus/emnlp-table/WikiQA.CNN.dev.rank  \n",
      "  inflating: ../../data/WikiQA/WikiQACorpus/emnlp-table/WikiQA.CNN.test.rank  \n",
      "  inflating: ../../data/WikiQA/WikiQACorpus/emnlp-table/WikiQA.CNN-Cnt.dev.rank  \n",
      "  inflating: ../../data/WikiQA/WikiQACorpus/emnlp-table/WikiQA.CNN-Cnt.test.rank  \n",
      "  inflating: ../../data/WikiQA/WikiQACorpus/eval.py  \n",
      "  inflating: ../../data/WikiQA/WikiQACorpus/Guidelines_Phase1.pdf  \n",
      "  inflating: ../../data/WikiQA/WikiQACorpus/Guidelines_Phase2.pdf  \n",
      "  inflating: ../../data/WikiQA/WikiQACorpus/WikiQA.tsv  \n",
      "  inflating: ../../data/WikiQA/WikiQACorpus/WikiQA-dev.ref  \n",
      "  inflating: ../../data/WikiQA/WikiQACorpus/WikiQA-dev.tsv  \n",
      "  inflating: ../../data/WikiQA/WikiQACorpus/WikiQA-dev.txt  \n",
      "  inflating: ../../data/WikiQA/WikiQACorpus/WikiQA-dev-filtered.ref  \n",
      "  inflating: ../../data/WikiQA/WikiQACorpus/WikiQASent.pos.ans.tsv  \n",
      "  inflating: ../../data/WikiQA/WikiQACorpus/WikiQA-test.ref  \n",
      "  inflating: ../../data/WikiQA/WikiQACorpus/WikiQA-test.tsv  \n",
      "  inflating: ../../data/WikiQA/WikiQACorpus/WikiQA-test.txt  \n",
      "  inflating: ../../data/WikiQA/WikiQACorpus/WikiQA-test-filtered.ref  \n",
      "  inflating: ../../data/WikiQA/WikiQACorpus/WikiQA-train.ref  \n",
      "  inflating: ../../data/WikiQA/WikiQACorpus/WikiQA-train.tsv  \n",
      "  inflating: ../../data/WikiQA/WikiQACorpus/WikiQA-train.txt  \n",
      "  inflating: ../../data/WikiQA/WikiQACorpus/LICENSE.pdf  \n",
      "  inflating: ../../data/WikiQA/WikiQACorpus/README.txt  \n"
     ]
    }
   ],
   "source": [
    "!rm -rf ../../data/WikiQA\n",
    "!mkdir -p ../../data/WikiQA\n",
    "!wget -P ../../data/WikiQA https://download.microsoft.com/download/E/5/F/E5FCFCEE-7005-4814-853D-DAA7C66507E0/WikiQACorpus.zip\n",
    "!unzip -d ../../data/WikiQA ../../data/WikiQA/WikiQACorpus.zip"
   ]
  },
  {
   "cell_type": "markdown",
   "metadata": {},
   "source": [
    "#### Load & Adjustment\n",
    "\n",
    "The *train/dev/test* files of WikiQA are *WikiQA-train.tsv*, *WikiQA-dev.tsv*, *WikiQA-test.tsv* under the uncompressed folder WikiQACorpus. The data format of WikiQA is as follows:\n",
    "\n",
    "`QuestionID\\tQuestion\\tDocumentID\\tDocumentTitle\\tSentenceID\\tSentence\\tLabel`\n",
    "\n",
    "We can convert this format to the expected input format of MatchZoo."
   ]
  },
  {
   "cell_type": "code",
   "execution_count": 1,
   "metadata": {
    "collapsed": true
   },
   "outputs": [],
   "source": [
    "data_folder = '../../data/WikiQA/WikiQACorpus/'\n",
    "\n",
    "def read_data(input, stage):\n",
    "    output_list = []\n",
    "    index = 0\n",
    "    with open(input) as fin:\n",
    "        for l in fin:\n",
    "            tok = l.split('\\t')\n",
    "            if index != 0:\n",
    "                if stage == 'test':\n",
    "                    output_list.append((tok[0], tok[4], tok[1], tok[5])) # qid, did, q, d, label\n",
    "                else:\n",
    "                    output_list.append((tok[0], tok[4], tok[1], tok[5], tok[6])) # qid, did, q, d \n",
    "            index += 1\n",
    "    return output_list\n",
    "\n",
    "train = read_data(data_folder + 'WikiQA-train.tsv', stage='train')\n",
    "dev   = read_data(data_folder + 'WikiQA-dev.tsv', stage='dev')\n",
    "test  = read_data(data_folder + 'WikiQA-test.tsv', stage='test')"
   ]
  },
  {
   "cell_type": "markdown",
   "metadata": {},
   "source": [
    "### Preprocessing\n"
   ]
  },
  {
   "cell_type": "markdown",
   "metadata": {},
   "source": [
    "#### Download\n",
    "\n",
    "We first download the GLoVe pre-trained word embeddings. Be pationt - this takes a long time related to your network service. Alternatively, you can download it via another downloading tool and put **glove.840B.300d.txt** in the directory **../../data/embedding**."
   ]
  },
  {
   "cell_type": "code",
   "execution_count": 50,
   "metadata": {
    "scrolled": false
   },
   "outputs": [
    {
     "name": "stdout",
     "output_type": "stream",
     "text": [
      "--2018-10-20 20:20:26--  http://nlp.stanford.edu/data/glove.840B.300d.zip\n",
      "正在解析主机 nlp.stanford.edu (nlp.stanford.edu)... 171.64.67.140\n",
      "正在连接 nlp.stanford.edu (nlp.stanford.edu)|171.64.67.140|:80... 已连接。\n",
      "已发出 HTTP 请求，正在等待回应... 302 Found\n",
      "位置：https://nlp.stanford.edu/data/glove.840B.300d.zip [跟随至新的 URL]\n",
      "--2018-10-20 20:20:27--  https://nlp.stanford.edu/data/glove.840B.300d.zip\n",
      "正在连接 nlp.stanford.edu (nlp.stanford.edu)|171.64.67.140|:443... 已连接。\n",
      "已发出 HTTP 请求，正在等待回应... 200 OK\n",
      "长度：2176768927 (2.0G) [application/zip]\n",
      "正在保存至: “../../data/embedding/glove.840B.300d.zip.5”\n",
      "\n",
      "glove.840B.300d.zip 100%[===================>]   2.03G   535KB/s  用时 52m 54s   \n",
      "\n",
      "2018-10-20 21:13:22 (670 KB/s) - 已保存 “../../data/embedding/glove.840B.300d.zip.5” [2176768927/2176768927])\n",
      "\n",
      "Archive:  ../../data/embedding/glove.840B.300d.zip\n",
      "  End-of-central-directory signature not found.  Either this file is not\n",
      "  a zipfile, or it constitutes one disk of a multi-part archive.  In the\n",
      "  latter case the central directory and zipfile comment will be found on\n",
      "  the last disk(s) of this archive.\n",
      "unzip:  cannot find zipfile directory in one of ../../data/embedding/glove.840B.300d.zip or\n",
      "        ../../data/embedding/glove.840B.300d.zip.zip, and cannot find ../../data/embedding/glove.840B.300d.zip.ZIP, period.\n"
     ]
    }
   ],
   "source": [
    "!mkdir -p ../../data/embedding\n",
    "!wget -O ../../data/embedding/glove.840B.300d.zip http://nlp.stanford.edu/data/glove.840B.300d.zip \n",
    "!unzip -o ../../data/embedding/glove.840B.300d.zip -d ../../data/embedding"
   ]
  },
  {
   "cell_type": "markdown",
   "metadata": {},
   "source": [
    "#### Preproceesing with pre-trained embeddings\n",
    "\n",
    "We run the processor in three lines of code.  \n",
    "If we use **the randomly initialized embeddings**, just keep default value for *embedding_file*, and the preprocessing code is as follows:\n",
    "```python\n",
    "from matchzoo import preprocessor\n",
    "arci_preprocessor = preprocessor.ArcIPreprocessor()\n",
    "processed_tr = arci_preprocessor.fit_transform(train, stage='train')\n",
    "processed_te = arci_preprocessor.fit_transform(test, stage='test')\n",
    "```"
   ]
  },
  {
   "cell_type": "code",
   "execution_count": 2,
   "metadata": {},
   "outputs": [
    {
     "name": "stderr",
     "output_type": "stream",
     "text": [
      "Using TensorFlow backend.\n",
      "Start building vocabulary & fitting parameters.\n",
      "2118it [00:00, 3248.06it/s]\n",
      "18841it [00:08, 2200.22it/s]\n",
      "Some words are not shown in term_index(29924). Total number of words are 29925.\n",
      "2196016it [01:05, 33488.75it/s]\n",
      "Start processing input data for train stage.\n",
      "2118it [00:00, 2464.37it/s]\n",
      "18841it [00:10, 1754.62it/s]\n",
      "Start processing input data for test stage.\n",
      "633it [00:00, 2482.71it/s]\n",
      "5961it [00:03, 1895.94it/s]\n"
     ]
    }
   ],
   "source": [
    "# Initialize a dssm preprocessor.\n",
    "from matchzoo import preprocessor\n",
    "arci_preprocessor = preprocessor.ArcIPreprocessor(embedding_file='../../data/embedding/glove.840B.300d.txt')\n",
    "processed_tr = arci_preprocessor.fit_transform(train, stage='train')\n",
    "processed_te = arci_preprocessor.fit_transform(test, stage='test')"
   ]
  },
  {
   "cell_type": "markdown",
   "metadata": {},
   "source": [
    "**What is `processed_tr`?**\n",
    "\n",
    "`processed_tr` is a **MatchZoo DataPack** data structure (see `matchzoo/datapack.py`). It contains \n",
    "1. A *2-columns* `pandas DataFrame` called `left` to host all the pre-processed records including index and processed text to store `text_left` and `id_left`.\n",
    "2. A *2-columns* `pandas DataFrame` called `right` to host all the pre-processed records including index and processed text to store `text_right` and `id_right`.\n",
    "3. A *2-columns* `pandas DataFrame` called `relation` to host all the pre-processed records including index and index mapping `id_left` and `id_right`.\n",
    "4. A `context` property (dictionary) consists of all the parameters fitted during pre-processing. \n",
    "\n",
    "\n",
    "The `fit_transform` method is a sequential combination of two methods:\n",
    "\n",
    "1. Fit parameters using the `fit` function, this only happens when `stage='train'`.\n",
    "2. Transform data into expected format.\n",
    "\n",
    "So the previous preprocessing code in test stage can also be written as:\n",
    "\n",
    "```python\n",
    "processed_te = dssm_preprocessor.transform(test, stage='test')\n",
    "```"
   ]
  },
  {
   "cell_type": "markdown",
   "metadata": {},
   "source": [
    "As described, the fitted parameters were stored in `context` property, to access the context, just call:\n",
    "\n",
    "```python\n",
    "print(processed_tr.context)\n",
    "```\n",
    "An example:"
   ]
  },
  {
   "cell_type": "code",
   "execution_count": 3,
   "metadata": {},
   "outputs": [
    {
     "name": "stdout",
     "output_type": "stream",
     "text": [
      "vocab size:  29924\n"
     ]
    }
   ],
   "source": [
    "print('vocab size: ', len(processed_tr.context['term_index']))"
   ]
  },
  {
   "cell_type": "markdown",
   "metadata": {},
   "source": [
    "**What has been stored in the `context?`** \n",
    "\n",
    "We stored `term_index` and `input_shapes` in the context property. \n",
    "\n",
    "\n",
    "**What is `arci_preprocessor` actually doing?**\n",
    "\n",
    "The `arci_preprocessor` is calling a sequence of `process_units`. Each `process_unit` is designed to perform one atom operation on input data. For instance, in `arci_preprocessor`, we called:\n",
    "\n",
    "\n",
    "1. TokenizeUnit: Perform tokenization on raw input data.\n",
    "2. LowercaseUnit: Transform all tokens into lower case.\n",
    "3. PuncRemovalUnit: Remove all the punctuations.\n",
    "4. StopRemovalUnit: Remove all the stopwords.\n",
    "\n",
    "Depending on whether using the pre-trained embeddings, the preprocessor loads the embedding from an embedding file or randomly initializes the embeddings.\n",
    "\n",
    "\n",
    "----\n",
    "\n",
    "### Data Generation\n",
    "\n",
    "For memory efficiency, we expect you to use **generator** to generate batches of data on the fly. For example, we can create a **PointGenerator** as follows:"
   ]
  },
  {
   "cell_type": "code",
   "execution_count": 4,
   "metadata": {
    "collapsed": true
   },
   "outputs": [],
   "source": [
    "from matchzoo import generators\n",
    "from matchzoo import tasks\n",
    "generator_tr = generators.PointGenerator(inputs=processed_tr, task=tasks.Ranking(), batch_size=64, stage='train')\n",
    "generator_te = generators.PointGenerator(inputs=processed_te, task=tasks.Ranking(), batch_size=64, stage='test')"
   ]
  },
  {
   "cell_type": "markdown",
   "metadata": {},
   "source": [
    "To get the first batch of trainig data, just call `X_train, y_train = generator[0]`.\n",
    "\n",
    "**What is PointGenerator?**\n",
    "**PointGenerator** is this case, it is assumed that each query-document pair in the training data has a numerical or ordinal score. Then the problem can be approximated by a regression/Classification problem — given a single query-document pair, predict its score.\n",
    "\n",
    "A number of existing supervised machine learning algorithms can be readily used for this purpose. Ordinal regression and classification algorithms can also be used in pointwise approach when they are used to predict the score of a single query-document pair, and it takes a small, finite number of values.\n",
    "\n",
    "**What is PairGenerator?**\n",
    "In this case, the problem is approximated by a classification problem — learning a binary classifier that can tell which document is better in a given pair of documents.\n",
    "\n",
    "In MatchZoo, **PairGenerator** generate one positive & `num_neg` negative examples per pair. As an example, to train a DSSM model (for document ranking), we use `num_neg=4`. \n",
    "\n",
    "**What is ListGenerator?**\n",
    "This generator try to directly optimize the value of evaluation measures, averaged over all queries in the training data. \n",
    "\n",
    "Chosse the appropriate generator based on your `task`.\n",
    "\n",
    "----\n",
    "\n",
    "### Train Your Arc-I Model\n",
    "\n",
    "To train a Arc-I model, we need to create an instance of ArcIModel:"
   ]
  },
  {
   "cell_type": "code",
   "execution_count": 19,
   "metadata": {
    "collapsed": true
   },
   "outputs": [],
   "source": [
    "from matchzoo import models\n",
    "arci_model = models.ArcIModel()"
   ]
  },
  {
   "cell_type": "markdown",
   "metadata": {},
   "source": [
    "Then, we need to set hyper-parameters to our Arc-I Model. In general, there are **two types of hyper-parameters**:\n",
    "\n",
    "**Required parameters**: For Arc-I, if you are using the pre-trained embeddings, you're required to set the embedding_mat and the size manually!"
   ]
  },
  {
   "cell_type": "code",
   "execution_count": 51,
   "metadata": {
    "collapsed": true
   },
   "outputs": [],
   "source": [
    "# The fitted parameters is stored in the `context` property of pre-processor instance during the training stage.\n",
    "from matchzoo import losses\n",
    "from matchzoo import tasks\n",
    "arci_model.params['task'] = tasks.Ranking()\n",
    "arci_model.params['embedding_dim'] = processed_tr.context['embedding_mat'].shape[1]\n",
    "arci_model.params['vocab_size'] = processed_tr.context['embedding_mat'].shape[0]\n",
    "arci_model.params['embedding_mat'] = processed_tr.context['embedding_mat']"
   ]
  },
  {
   "cell_type": "markdown",
   "metadata": {
    "collapsed": true
   },
   "source": [
    "**Tunable parameters**: For Arc-I, you're allowed to tune these parameters:\n",
    "\n",
    "```python\n",
    "from matchzoo import tasks\n",
    "\n",
    "        \n",
    "params = {\n",
    "            'optimizer': 'adam' # By default, we use sgd. See keras optimizer.\n",
    "            'trainable_embedding': False # Whether finetune the embeddings.\n",
    "            'num_blocks': 1 # Number of the convolution layers.\n",
    "            'left_kernel_count': [32] # Number of filters in convolution. See keras Conv1D.\n",
    "            'left_kernel_size': [3] # The length of the 1D convolution window. See keras Conv1D.\n",
    "            'right_kernel_count': [32] # Number of filters in convolution. See keras Conv1D.\n",
    "            'right_kernel_size': [3] # The length of the 1D convolution window. See keras Conv1D.\n",
    "            'activation': 'relu' # Activation function in convolution. See keras Conv1D.\n",
    "            'left_pool_size': [2] # Size of the max pooling windows for the left text. See keras MaxPooling1D.\n",
    "            'right_pool_size': [2] # Size of the max pooling windows for rhe right text. See keras MaxPooling1D.\n",
    "            'padding': 'same' # Padding mode. See keras padding in Conv1D.   \n",
    "            'dropout_rate': 0.0 # Probability of an element to be zeroed. See keras Dropout.\n",
    "            'embedding_random_scale': 0.2 # The range of the random initialized embedding. \n",
    "            'task': tasks.Classification, # Default Classification, you can use tasks.Ranking\n",
    "            'loss': 'categorical_crossentropy', # categorical_crossentropy, see keras loss.\n",
    "            'metric': 'acc', # Accuracy by default, see keras metric.\n",
    "         }\n",
    "```"
   ]
  },
  {
   "cell_type": "code",
   "execution_count": 32,
   "metadata": {
    "scrolled": false
   },
   "outputs": [
    {
     "name": "stdout",
     "output_type": "stream",
     "text": [
      "arci parameters:  name                          ArcIModel\n",
      "model_class                   <class 'matchzoo.models.arci_model.ArcIModel'>\n",
      "input_shapes                  [(32,), (32,)]\n",
      "task                          <matchzoo.tasks.ranking.Ranking object at 0x103778400>\n",
      "metrics                       ['mae']\n",
      "loss                          mse\n",
      "optimizer                     adam\n",
      "trainable_embedding           False\n",
      "embedding_dim                 100\n",
      "vocab_size                    29925\n",
      "num_blocks                    1\n",
      "left_kernel_count             [32]\n",
      "left_kernel_size              [3]\n",
      "right_kernel_count            [32]\n",
      "right_kernel_size             [3]\n",
      "activation                    relu\n",
      "left_pool_size                [2]\n",
      "right_pool_size               [2]\n",
      "padding                       same\n",
      "dropout_rate                  0.0\n",
      "embedding_mat                 [[ 0.        0.        0.       ...  0.        0.        0.      ]\n",
      " [ 0.01879   0.044005 -0.19154  ... -0.36637   0.58809  -0.098892]\n",
      " [-0.20923  -0.35355   0.4646   ...  0.093364  0.48054   0.53834 ]\n",
      " ...\n",
      " [ 0.26951  -0.41327   0.25554  ...  0.23771   0.71338  -0.40893 ]\n",
      " [-0.2728    0.93553   0.49519  ... -1.1641   -0.08575  -0.61435 ]\n",
      " [-0.41683  -0.014409  0.26918  ... -0.66496   0.60844   1.1798  ]]\n",
      "embedding_random_scale        0.2\n"
     ]
    }
   ],
   "source": [
    "arci_model.guess_and_fill_missing_params()\n",
    "print('arci parameters: ', arci_model.params)"
   ]
  },
  {
   "cell_type": "markdown",
   "metadata": {},
   "source": [
    "#### Model Training\n",
    "\n",
    "To train the model after all the parameters were settled, call:"
   ]
  },
  {
   "cell_type": "code",
   "execution_count": 33,
   "metadata": {},
   "outputs": [
    {
     "name": "stdout",
     "output_type": "stream",
     "text": [
      "Epoch 1/10\n",
      "200/200 [==============================] - 3s 17ms/step - loss: 0.0676 - mean_absolute_error: 0.1553\n",
      "Epoch 2/10\n",
      "200/200 [==============================] - 3s 17ms/step - loss: 0.0480 - mean_absolute_error: 0.1086\n",
      "Epoch 3/10\n",
      "200/200 [==============================] - 3s 16ms/step - loss: 0.0483 - mean_absolute_error: 0.1079\n",
      "Epoch 4/10\n",
      "200/200 [==============================] - 3s 17ms/step - loss: 0.0412 - mean_absolute_error: 0.0996\n",
      "Epoch 5/10\n",
      "200/200 [==============================] - 4s 18ms/step - loss: 0.0412 - mean_absolute_error: 0.1024\n",
      "Epoch 6/10\n",
      "200/200 [==============================] - 3s 15ms/step - loss: 0.0403 - mean_absolute_error: 0.1058\n",
      "Epoch 7/10\n",
      "200/200 [==============================] - 3s 15ms/step - loss: 0.0377 - mean_absolute_error: 0.1027\n",
      "Epoch 8/10\n",
      "200/200 [==============================] - 3s 15ms/step - loss: 0.0384 - mean_absolute_error: 0.1047\n",
      "Epoch 9/10\n",
      "200/200 [==============================] - 3s 15ms/step - loss: 0.0331 - mean_absolute_error: 0.1005\n",
      "Epoch 10/10\n",
      "200/200 [==============================] - 3s 15ms/step - loss: 0.0340 - mean_absolute_error: 0.1034\n"
     ]
    }
   ],
   "source": [
    "arci_model.build()\n",
    "arci_model.compile()\n",
    "# Fit the arci model on generator.\n",
    "arci_model.fit_generator(generator_tr, steps_per_epoch=200, epochs=10)\n",
    "# Make predictions on the first batch of test data\n",
    "X_te, y_te = generator_te[0]\n",
    "predictions = arci_model.predict([X_te.text_left, X_te.text_right])"
   ]
  },
  {
   "cell_type": "markdown",
   "metadata": {},
   "source": [
    "#### Make Prediction"
   ]
  },
  {
   "cell_type": "code",
   "execution_count": 53,
   "metadata": {},
   "outputs": [
    {
     "name": "stdout",
     "output_type": "stream",
     "text": [
      "Q2714/D2530-6 is predicted as [-0.07276025]\n",
      "Q1338/D1278-8 is predicted as [0.00079855]\n",
      "Q72/D72-2 is predicted as [0.080437]\n",
      "Q1409/D1342-5 is predicted as [0.05105157]\n",
      "Q971/D937-8 is predicted as [0.04178461]\n",
      "Q2466/D2310-1 is predicted as [0.1102946]\n",
      "Q1675/D1591-11 is predicted as [-0.09402043]\n",
      "Q1021/D984-4 is predicted as [0.07721019]\n",
      "Q1157/D1112-1 is predicted as [0.0401497]\n",
      "Q2623/D2448-8 is predicted as [0.01702134]\n",
      "Q144/D144-3 is predicted as [-0.05467525]\n",
      "Q1211/D1160-13 is predicted as [0.21775976]\n",
      "Q2892/D1077-4 is predicted as [-0.03775209]\n",
      "Q1434/D1365-5 is predicted as [0.00870322]\n",
      "Q2839/D2636-0 is predicted as [-0.02167417]\n",
      "Q2931/D2712-9 is predicted as [-0.1458192]\n",
      "Q1416/D1349-23 is predicted as [0.01549989]\n",
      "Q309/D308-10 is predicted as [0.04581261]\n",
      "Q897/D867-0 is predicted as [0.50736415]\n",
      "Q91/D91-8 is predicted as [0.08594398]\n",
      "Q2184/D2058-12 is predicted as [0.13852651]\n",
      "Q844/D818-16 is predicted as [0.03765132]\n",
      "Q1211/D1160-11 is predicted as [-0.01216602]\n",
      "Q715/D696-9 is predicted as [0.03605804]\n",
      "Q607/D596-11 is predicted as [0.00089534]\n",
      "Q1067/D467-5 is predicted as [0.14706641]\n",
      "Q1460/D1389-5 is predicted as [-0.07344742]\n",
      "Q757/D735-3 is predicted as [0.11781056]\n",
      "Q2428/D2278-4 is predicted as [0.12319221]\n",
      "Q2549/D2384-0 is predicted as [0.02969509]\n",
      "Q2228/D2099-3 is predicted as [-0.02783982]\n",
      "Q1211/D1160-15 is predicted as [-0.0492733]\n",
      "Q1203/D1152-1 is predicted as [0.17097814]\n",
      "Q2839/D2636-4 is predicted as [0.0696827]\n",
      "Q1905/D1800-8 is predicted as [0.0362171]\n",
      "Q1409/D1342-14 is predicted as [0.05417328]\n",
      "Q1033/D996-1 is predicted as [0.2868814]\n",
      "Q1100/D1059-7 is predicted as [0.05726177]\n",
      "Q1583/D1501-0 is predicted as [0.16962671]\n",
      "Q2822/D2621-1 is predicted as [-0.0979685]\n",
      "Q1619/D660-3 is predicted as [0.1234567]\n",
      "Q2487/D2329-2 is predicted as [0.2597096]\n",
      "Q1409/D1342-12 is predicted as [0.01771756]\n",
      "Q615/D270-4 is predicted as [-0.01535548]\n",
      "Q926/D894-21 is predicted as [-0.07093713]\n",
      "Q384/D382-10 is predicted as [-0.01389219]\n",
      "Q1937/D453-11 is predicted as [0.06887381]\n",
      "Q1074/D1035-20 is predicted as [-0.0847315]\n",
      "Q1631/D1548-1 is predicted as [0.03469315]\n",
      "Q1583/D1501-13 is predicted as [0.12162133]\n",
      "Q2034/D1920-4 is predicted as [0.31400684]\n",
      "Q2078/D1961-1 is predicted as [0.17878774]\n",
      "Q331/D330-0 is predicted as [0.19648133]\n",
      "Q1695/D1608-4 is predicted as [0.05817623]\n",
      "Q1882/D1779-0 is predicted as [0.06091069]\n",
      "Q388/D386-14 is predicted as [0.07232904]\n",
      "Q384/D382-9 is predicted as [0.10043181]\n",
      "Q329/D328-6 is predicted as [0.0196973]\n",
      "Q2741/D1331-8 is predicted as [0.03634027]\n",
      "Q1406/D1179-1 is predicted as [0.0697923]\n",
      "Q2621/D2446-13 is predicted as [0.07017244]\n",
      "Q984/D950-3 is predicted as [0.4244278]\n",
      "Q2312/D2175-0 is predicted as [0.06802216]\n",
      "Q540/D531-5 is predicted as [-0.06567997]\n"
     ]
    }
   ],
   "source": [
    "for id_left, id_right, pred in zip(X_te.id_left, X_te.id_right, predictions):\n",
    "    print(\"{}/{} is predicted as {}\".format(id_left, id_right, pred))"
   ]
  },
  {
   "cell_type": "markdown",
   "metadata": {},
   "source": [
    "#### Model Persistence\n",
    "\n",
    "You can persist your trained model using `model.save()` and `load_model` function:\n",
    "\n",
    "```python\n",
    "from matchzoo import engine\n",
    "# Save the model to dir.\n",
    "arci_model.save('/your-model-saved-path')\n",
    "# And load the model from dir.\n",
    "engine.load_model('/your-model-saved-path')\n",
    "```"
   ]
  },
  {
   "cell_type": "markdown",
   "metadata": {},
   "source": [
    "## Reference\n",
    "\n",
    "[Hu et al. 2014] Baotian Hu, Zhengdong Lu, Hang Li, and Qingcai Chen. \"Convolutional neural network architectures for matching natural language sentences.\" In Advances in neural information processing systems (NIPS), pp. 2042-2050. 2014."
   ]
  }
 ],
 "metadata": {
  "kernelspec": {
   "display_name": "Python 3",
   "language": "python",
   "name": "python3"
  },
  "language_info": {
   "codemirror_mode": {
    "name": "ipython",
    "version": 3
   },
   "file_extension": ".py",
   "mimetype": "text/x-python",
   "name": "python",
   "nbconvert_exporter": "python",
   "pygments_lexer": "ipython3",
   "version": "3.6.3"
  }
 },
 "nbformat": 4,
 "nbformat_minor": 2
}
