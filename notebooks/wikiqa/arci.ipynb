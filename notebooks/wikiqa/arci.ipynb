{
 "cells": [
  {
   "cell_type": "markdown",
   "metadata": {},
   "source": [
    "### Build a Arc-I Model\n",
    "\n",
    "<img src=\"https://raw.githubusercontent.com/NTMC-Community/MatchZoo/2.0/artworks/matchzoo-logo.png\" alt=\"logo\" style=\"width:600px;float: center\"/>\n",
    "\n",
    "This is a tutorial on training *Arc-I Model* [Hu et al. 2014](http://papers.nips.cc/paper/5550-convolutional-neural-network-architectures-for-matching-natural-language-sentences.pdf) model with [MatchZoo](https://github.com/faneshion/MatchZoo). We use [WikiQA](https://aclweb.org/anthology/D15-1237) as the example benchmark data set to show the usage.\n",
    "\n",
    "*To walk through this notebook, you need approx 90 minutes.*\n",
    "\n",
    "-------"
   ]
  },
  {
   "cell_type": "markdown",
   "metadata": {},
   "source": [
    "**TL;DR**\n",
    "\n",
    "The following code block illustrates the main workflow of how to train a Arc-I model. \n",
    "\n",
    "```python\n",
    "from matchzoo import preprocessor\n",
    "from matchzoo import generators\n",
    "from matchzoo import models\n",
    "\n",
    "train, test = ... # prepare your training data and test data.\n",
    "\n",
    "arci_preprocessor = preprocessor.ArcIPreprocessor()\n",
    "processed_tr = arci_preprocessor.fit_transform(train, stage='train')\n",
    "processed_te = arci_preprocessor.fit_transform(test, stage='predict')\n",
    "\n",
    "\n",
    "generator_tr = generators.PointGenerator(processed_tr)\n",
    "generator_te = generators.PointGenerator(processed_te)\n",
    "# Example, train with generator, test with the first batch.\n",
    "X_te, y_te = generator_te[0]\n",
    "\n",
    "arci_model = models.ArcIModel()\n",
    "arci_model.guess_and_fill_missing_params()\n",
    "arci_model.build()\n",
    "arci_model.compile()\n",
    "arci_model.fit_generator(generator_tr)\n",
    "# Make predictions\n",
    "predictions = arci_model.predict([X_te.text_left, X_te.text_right])\n",
    "```\n",
    "\n",
    "-----"
   ]
  },
  {
   "cell_type": "markdown",
   "metadata": {},
   "source": [
    "MatchZoo expect a list of *Quintuple* as training data:\n",
    "\n",
    "```python\n",
    "train = [('qid0', 'did0', 'query 0', 'document 0', 'label 0'),\n",
    "         ('qid0', 'did1', 'query 0', 'document 1', 'label 1'),\n",
    "          ...,\n",
    "         ('qid1', 'did2', 'query 1', 'document 2', 'label 3')]\n",
    "```\n",
    "\n",
    "The corresponded columns are `(text_left_id, text_right_id, text_left, text_right, label)`. For Information Retrieval task, *text_left* is referred as *query*, and *text_right* is document.\n",
    "\n",
    "For the test case, MatchZoo expect a list of *Quadruple* (we do not need labels) as input:\n",
    "\n",
    "```python\n",
    "test = [('qid9', 'did5', 'query 9', 'document 5'),\n",
    "         ...,\n",
    "        ('qid2', 'did7', 'query 2', 'document 7')]\n",
    "```"
   ]
  },
  {
   "cell_type": "markdown",
   "metadata": {},
   "source": [
    "### Table of Content\n",
    "\n",
    "+ Prepare WikiQA dataset\n",
    "    - Download\n",
    "    - Load\n",
    "    - Adjustment\n",
    "+ Preprocessing\n",
    "+ Data Generator\n",
    "+ Model Training\n",
    "    - Initialize\n",
    "    - Hyper-Parameters\n",
    "    - Make Prediction\n",
    "    - Model Persistence\n",
    "- Reference"
   ]
  },
  {
   "cell_type": "markdown",
   "metadata": {},
   "source": [
    "### Prepare WikiQA dataset\n",
    "\n",
    "#### Download\n",
    "\n",
    "We take WikiQA as the example benchmark dataset to show the usage of MatchZoo. Firstly you need to downlowd the data and uncompress the data, we provided the following script to help you download the dataset into `MatchZoo/data/WikiQA` folder, you can change the directory in the following script.\n",
    "\n",
    "If you already have WikiQA dataset downloaded on your machine, skip the following script."
   ]
  },
  {
   "cell_type": "code",
   "execution_count": 61,
   "metadata": {},
   "outputs": [
    {
     "name": "stdout",
     "output_type": "stream",
     "text": [
      "--2018-10-20 21:23:13--  https://download.microsoft.com/download/E/5/F/E5FCFCEE-7005-4814-853D-DAA7C66507E0/WikiQACorpus.zip\n",
      "正在解析主机 download.microsoft.com (download.microsoft.com)... 61.240.136.46, 221.194.130.172\n",
      "正在连接 download.microsoft.com (download.microsoft.com)|61.240.136.46|:443... 已连接。\n",
      "已发出 HTTP 请求，正在等待回应... 200 OK\n",
      "长度：7094233 (6.8M) [application/octet-stream]\n",
      "正在保存至: “../../data/WikiQA/WikiQACorpus.zip”\n",
      "\n",
      "WikiQACorpus.zip    100%[===================>]   6.76M   421KB/s  用时 14s       \n",
      "\n",
      "2018-10-20 21:23:27 (512 KB/s) - 已保存 “../../data/WikiQA/WikiQACorpus.zip” [7094233/7094233])\n",
      "\n",
      "Archive:  ../../data/WikiQA/WikiQACorpus.zip\n",
      "   creating: ../../data/WikiQA/WikiQACorpus/emnlp-table/\n",
      "  inflating: ../../data/WikiQA/WikiQACorpus/emnlp-table/WikiQA.CNN.dev.rank  \n",
      "  inflating: ../../data/WikiQA/WikiQACorpus/emnlp-table/WikiQA.CNN.test.rank  \n",
      "  inflating: ../../data/WikiQA/WikiQACorpus/emnlp-table/WikiQA.CNN-Cnt.dev.rank  \n",
      "  inflating: ../../data/WikiQA/WikiQACorpus/emnlp-table/WikiQA.CNN-Cnt.test.rank  \n",
      "  inflating: ../../data/WikiQA/WikiQACorpus/eval.py  \n",
      "  inflating: ../../data/WikiQA/WikiQACorpus/Guidelines_Phase1.pdf  \n",
      "  inflating: ../../data/WikiQA/WikiQACorpus/Guidelines_Phase2.pdf  \n",
      "  inflating: ../../data/WikiQA/WikiQACorpus/WikiQA.tsv  \n",
      "  inflating: ../../data/WikiQA/WikiQACorpus/WikiQA-dev.ref  \n",
      "  inflating: ../../data/WikiQA/WikiQACorpus/WikiQA-dev.tsv  \n",
      "  inflating: ../../data/WikiQA/WikiQACorpus/WikiQA-dev.txt  \n",
      "  inflating: ../../data/WikiQA/WikiQACorpus/WikiQA-dev-filtered.ref  \n",
      "  inflating: ../../data/WikiQA/WikiQACorpus/WikiQASent.pos.ans.tsv  \n",
      "  inflating: ../../data/WikiQA/WikiQACorpus/WikiQA-test.ref  \n",
      "  inflating: ../../data/WikiQA/WikiQACorpus/WikiQA-test.tsv  \n",
      "  inflating: ../../data/WikiQA/WikiQACorpus/WikiQA-test.txt  \n",
      "  inflating: ../../data/WikiQA/WikiQACorpus/WikiQA-test-filtered.ref  \n",
      "  inflating: ../../data/WikiQA/WikiQACorpus/WikiQA-train.ref  \n",
      "  inflating: ../../data/WikiQA/WikiQACorpus/WikiQA-train.tsv  \n",
      "  inflating: ../../data/WikiQA/WikiQACorpus/WikiQA-train.txt  \n",
      "  inflating: ../../data/WikiQA/WikiQACorpus/LICENSE.pdf  \n",
      "  inflating: ../../data/WikiQA/WikiQACorpus/README.txt  \n"
     ]
    }
   ],
   "source": [
    "!rm -rf ../../data/WikiQA\n",
    "!mkdir -p ../../data/WikiQA\n",
    "!wget -P ../../data/WikiQA https://download.microsoft.com/download/E/5/F/E5FCFCEE-7005-4814-853D-DAA7C66507E0/WikiQACorpus.zip\n",
    "!unzip -d ../../data/WikiQA ../../data/WikiQA/WikiQACorpus.zip"
   ]
  },
  {
   "cell_type": "markdown",
   "metadata": {},
   "source": [
    "#### Load & Adjustment\n",
    "\n",
    "The *train/dev/test* files of WikiQA are *WikiQA-train.tsv*, *WikiQA-dev.tsv*, *WikiQA-test.tsv* under the uncompressed folder WikiQACorpus. The data format of WikiQA is as follows:\n",
    "\n",
    "`QuestionID\\tQuestion\\tDocumentID\\tDocumentTitle\\tSentenceID\\tSentence\\tLabel`\n",
    "\n",
    "We can convert this format to the expected input format of MatchZoo."
   ]
  },
  {
   "cell_type": "code",
   "execution_count": 2,
   "metadata": {
    "collapsed": true
   },
   "outputs": [],
   "source": [
    "data_folder = '../../data/WikiQA/WikiQACorpus/'\n",
    "\n",
    "def read_data(input, stage):\n",
    "    output_list = []\n",
    "    index = 0\n",
    "    with open(input) as fin:\n",
    "        for l in fin:\n",
    "            tok = l.split('\\t')\n",
    "            if index != 0:\n",
    "                if stage == 'test':\n",
    "                    output_list.append((tok[0], tok[4], tok[1], tok[5])) # qid, did, q, d, label\n",
    "                else:\n",
    "                    output_list.append((tok[0], tok[4], tok[1], tok[5], tok[6])) # qid, did, q, d \n",
    "            index += 1\n",
    "    return output_list\n",
    "\n",
    "train = read_data(data_folder + 'WikiQA-train.tsv', stage='train')\n",
    "dev   = read_data(data_folder + 'WikiQA-dev.tsv', stage='dev')\n",
    "test  = read_data(data_folder + 'WikiQA-test.tsv', stage='test')"
   ]
  },
  {
   "cell_type": "markdown",
   "metadata": {},
   "source": [
    "### Preprocessing\n"
   ]
  },
  {
   "cell_type": "markdown",
   "metadata": {},
   "source": [
    "#### Download\n",
    "\n",
    "We first download the GLoVe pre-trained word embeddings. Be pationt - this takes a long time related to your network service. Alternatively, you can download it via another downloading tool and put **glove.840B.300d.txt** in the directory **../../data/embedding**."
   ]
  },
  {
   "cell_type": "code",
   "execution_count": 50,
   "metadata": {
    "scrolled": false
   },
   "outputs": [
    {
     "name": "stdout",
     "output_type": "stream",
     "text": [
      "--2018-10-20 20:20:26--  http://nlp.stanford.edu/data/glove.840B.300d.zip\n",
      "正在解析主机 nlp.stanford.edu (nlp.stanford.edu)... 171.64.67.140\n",
      "正在连接 nlp.stanford.edu (nlp.stanford.edu)|171.64.67.140|:80... 已连接。\n",
      "已发出 HTTP 请求，正在等待回应... 302 Found\n",
      "位置：https://nlp.stanford.edu/data/glove.840B.300d.zip [跟随至新的 URL]\n",
      "--2018-10-20 20:20:27--  https://nlp.stanford.edu/data/glove.840B.300d.zip\n",
      "正在连接 nlp.stanford.edu (nlp.stanford.edu)|171.64.67.140|:443... 已连接。\n",
      "已发出 HTTP 请求，正在等待回应... 200 OK\n",
      "长度：2176768927 (2.0G) [application/zip]\n",
      "正在保存至: “../../data/embedding/glove.840B.300d.zip.5”\n",
      "\n",
      "glove.840B.300d.zip 100%[===================>]   2.03G   535KB/s  用时 52m 54s   \n",
      "\n",
      "2018-10-20 21:13:22 (670 KB/s) - 已保存 “../../data/embedding/glove.840B.300d.zip.5” [2176768927/2176768927])\n",
      "\n",
      "Archive:  ../../data/embedding/glove.840B.300d.zip\n",
      "  End-of-central-directory signature not found.  Either this file is not\n",
      "  a zipfile, or it constitutes one disk of a multi-part archive.  In the\n",
      "  latter case the central directory and zipfile comment will be found on\n",
      "  the last disk(s) of this archive.\n",
      "unzip:  cannot find zipfile directory in one of ../../data/embedding/glove.840B.300d.zip or\n",
      "        ../../data/embedding/glove.840B.300d.zip.zip, and cannot find ../../data/embedding/glove.840B.300d.zip.ZIP, period.\n"
     ]
    }
   ],
   "source": [
    "!mkdir -p ../../data/embedding\n",
    "!wget -O ../../data/embedding/glove.840B.300d.zip http://nlp.stanford.edu/data/glove.840B.300d.zip \n",
    "!unzip -o ../../data/embedding/glove.840B.300d.zip -d ../../data/embedding"
   ]
  },
  {
   "cell_type": "markdown",
   "metadata": {},
   "source": [
    "#### Preproceesing with pre-trained embeddings\n",
    "\n",
    "We run the processor in three lines of code.  \n",
    "If we use **the randomly initialized embeddings**, just keep default value for *embedding_file*, and the preprocessing code is as follows:\n",
    "```python\n",
    "from matchzoo import preprocessor\n",
    "arci_preprocessor = preprocessor.ArcIPreprocessor()\n",
    "processed_tr = arci_preprocessor.fit_transform(train, stage='train')\n",
    "processed_te = arci_preprocessor.fit_transform(test, stage='predict')\n",
    "```"
   ]
  },
  {
   "cell_type": "code",
   "execution_count": 3,
   "metadata": {},
   "outputs": [
    {
     "name": "stderr",
     "output_type": "stream",
     "text": [
      "Start building vocabulary & fitting parameters.\n",
      "2118it [00:00, 2725.92it/s]\n",
      "18841it [00:10, 1867.89it/s]\n",
      "Some words are not shown in term_index(29924). Total number of words are 29925.\n",
      "2196017it [01:04, 33919.10it/s]\n",
      "Start processing input data for train stage.\n",
      "2118it [00:00, 2149.45it/s]\n",
      "18841it [00:12, 1567.94it/s]\n",
      "Start processing input data for predict stage.\n",
      "633it [00:00, 1933.98it/s]\n",
      "5961it [00:04, 1260.45it/s]\n"
     ]
    }
   ],
   "source": [
    "# Initialize a dssm preprocessor.\n",
    "from matchzoo import preprocessor\n",
    "arci_preprocessor = preprocessor.ArcIPreprocessor(embedding_file='../../data/embedding/glove.840B.300d.txt')\n",
    "processed_tr = arci_preprocessor.fit_transform(train, stage='train')\n",
    "processed_te = arci_preprocessor.fit_transform(test, stage='predict')"
   ]
  },
  {
   "cell_type": "markdown",
   "metadata": {},
   "source": [
    "**What is `processed_tr`?**\n",
    "\n",
    "`processed_tr` is a **MatchZoo DataPack** data structure (see `matchzoo/datapack.py`). It contains \n",
    "1. A *2-columns* `pandas DataFrame` called `left` to host all the pre-processed records including index and processed text to store `text_left` and `id_left`.\n",
    "2. A *2-columns* `pandas DataFrame` called `right` to host all the pre-processed records including index and processed text to store `text_right` and `id_right`.\n",
    "3. A *2-columns* `pandas DataFrame` called `relation` to host all the pre-processed records including index and index mapping `id_left` and `id_right`.\n",
    "4. A `context` property (dictionary) consists of all the parameters fitted during pre-processing. \n",
    "\n",
    "\n",
    "The `fit_transform` method is a sequential combination of two methods:\n",
    "\n",
    "1. Fit parameters using the `fit` function, this only happens when `stage='train'`.\n",
    "2. Transform data into expected format.\n",
    "\n",
    "So the previous preprocessing code in test stage can also be written as:\n",
    "\n",
    "```python\n",
    "processed_te = dssm_preprocessor.transform(test, stage='predict')\n",
    "```"
   ]
  },
  {
   "cell_type": "markdown",
   "metadata": {},
   "source": [
    "As described, the fitted parameters were stored in `context` property, to access the context, just call:\n",
    "\n",
    "```python\n",
    "print(processed_tr.context)\n",
    "```\n",
    "An example:"
   ]
  },
  {
   "cell_type": "code",
   "execution_count": 3,
   "metadata": {},
   "outputs": [
    {
     "name": "stdout",
     "output_type": "stream",
     "text": [
      "vocab size:  29924\n"
     ]
    }
   ],
   "source": [
    "print('vocab size: ', len(processed_tr.context['term_index']))"
   ]
  },
  {
   "cell_type": "markdown",
   "metadata": {},
   "source": [
    "**What has been stored in the `context?`** \n",
    "\n",
    "We stored `term_index` and `input_shapes` in the context property. \n",
    "\n",
    "\n",
    "**What is `arci_preprocessor` actually doing?**\n",
    "\n",
    "The `arci_preprocessor` is calling a sequence of `process_units`. Each `process_unit` is designed to perform one atom operation on input data. For instance, in `arci_preprocessor`, we called:\n",
    "\n",
    "\n",
    "1. TokenizeUnit: Perform tokenization on raw input data.\n",
    "2. LowercaseUnit: Transform all tokens into lower case.\n",
    "3. PuncRemovalUnit: Remove all the punctuations.\n",
    "4. StopRemovalUnit: Remove all the stopwords.\n",
    "\n",
    "Depending on whether using the pre-trained embeddings, the preprocessor loads the embedding from an embedding file or randomly initializes the embeddings.\n",
    "\n",
    "\n",
    "----\n",
    "\n",
    "### Data Generation\n",
    "\n",
    "For memory efficiency, we expect you to use **generator** to generate batches of data on the fly. For example, we can create a **PointGenerator** as follows:"
   ]
  },
  {
   "cell_type": "code",
   "execution_count": 9,
   "metadata": {
    "collapsed": true
   },
   "outputs": [],
   "source": [
    "from matchzoo import generators\n",
    "from matchzoo import tasks\n",
    "generator_tr = generators.PointGenerator(inputs=processed_tr, task=tasks.Ranking(), batch_size=64, stage='train')\n",
    "generator_te = generators.PointGenerator(inputs=processed_te, task=tasks.Ranking(), batch_size=64, stage='predict')"
   ]
  },
  {
   "cell_type": "markdown",
   "metadata": {},
   "source": [
    "To get the first batch of trainig data, just call `X_train, y_train = generator[0]`.\n",
    "\n",
    "**What is PointGenerator?**\n",
    "**PointGenerator** is this case, it is assumed that each query-document pair in the training data has a numerical or ordinal score. Then the problem can be approximated by a regression/Classification problem — given a single query-document pair, predict its score.\n",
    "\n",
    "A number of existing supervised machine learning algorithms can be readily used for this purpose. Ordinal regression and classification algorithms can also be used in pointwise approach when they are used to predict the score of a single query-document pair, and it takes a small, finite number of values.\n",
    "\n",
    "**What is PairGenerator?**\n",
    "In this case, the problem is approximated by a classification problem — learning a binary classifier that can tell which document is better in a given pair of documents.\n",
    "\n",
    "In MatchZoo, **PairGenerator** generate one positive & `num_neg` negative examples per pair. As an example, to train a DSSM model (for document ranking), we use `num_neg=4`. \n",
    "\n",
    "**What is ListGenerator?**\n",
    "This generator try to directly optimize the value of evaluation measures, averaged over all queries in the training data. \n",
    "\n",
    "Chosse the appropriate generator based on your `task`.\n",
    "\n",
    "----\n",
    "\n",
    "### Train Your Arc-I Model\n",
    "\n",
    "To train a Arc-I model, we need to create an instance of ArcIModel:"
   ]
  },
  {
   "cell_type": "code",
   "execution_count": 10,
   "metadata": {
    "collapsed": true
   },
   "outputs": [],
   "source": [
    "from matchzoo import models\n",
    "arci_model = models.ArcIModel()"
   ]
  },
  {
   "cell_type": "markdown",
   "metadata": {},
   "source": [
    "Then, we need to set hyper-parameters to our Arc-I Model. In general, there are **two types of hyper-parameters**:\n",
    "\n",
    "**Required parameters**: For Arc-I, if you are using the pre-trained embeddings, you're required to set the embedding_mat and the size manually!"
   ]
  },
  {
   "cell_type": "code",
   "execution_count": 11,
   "metadata": {
    "collapsed": true
   },
   "outputs": [],
   "source": [
    "# The fitted parameters is stored in the `context` property of pre-processor instance during the training stage.\n",
    "from matchzoo import losses\n",
    "from matchzoo import tasks\n",
    "arci_model.params['task'] = tasks.Ranking()\n",
    "arci_model.embedding_mat = processed_tr.context['embedding_mat']"
   ]
  },
  {
   "cell_type": "markdown",
   "metadata": {
    "collapsed": true
   },
   "source": [
    "**Tunable parameters**: For Arc-I, you're allowed to tune these parameters:\n",
    "\n",
    "```python\n",
    "from matchzoo import tasks\n",
    "\n",
    "        \n",
    "params = {\n",
    "            'input_shapes': [(32,), (32,)] # Lengths of matching texts.\n",
    "            'optimizer': 'adam' # By default, we use sgd. See keras optimizer.\n",
    "            'trainable_embedding': False # Whether finetune the embeddings.\n",
    "            'num_blocks': 1 # Number of the convolution layers.\n",
    "            'left_kernel_count': [32] # Number of filters in convolution. See keras Conv1D.\n",
    "            'left_kernel_size': [3] # The length of the 1D convolution window. See keras Conv1D.\n",
    "            'right_kernel_count': [32] # Number of filters in convolution. See keras Conv1D.\n",
    "            'right_kernel_size': [3] # The length of the 1D convolution window. See keras Conv1D.\n",
    "            'activation': 'relu' # Activation function in convolution. See keras Conv1D.\n",
    "            'left_pool_size': [2] # Size of the max pooling windows for the left text. See keras MaxPooling1D.\n",
    "            'right_pool_size': [2] # Size of the max pooling windows for rhe right text. See keras MaxPooling1D.\n",
    "            'padding': 'same' # Padding mode. See keras padding in Conv1D.   \n",
    "            'dropout_rate': 0.0 # Probability of an element to be zeroed. See keras Dropout.\n",
    "            'embedding_random_scale': 0.2 # The range of the random initialized embedding. \n",
    "            'task': tasks.Classification, # Default Classification, you can use tasks.Ranking\n",
    "            'loss': 'categorical_crossentropy', # categorical_crossentropy, see keras loss.\n",
    "            'metric': 'acc', # Accuracy by default, see keras metric.\n",
    "         }\n",
    "```"
   ]
  },
  {
   "cell_type": "code",
   "execution_count": 12,
   "metadata": {
    "scrolled": false
   },
   "outputs": [
    {
     "name": "stdout",
     "output_type": "stream",
     "text": [
      "arci parameters:  name                          ArcIModel\n",
      "model_class                   <class 'matchzoo.models.arci_model.ArcIModel'>\n",
      "input_shapes                  [(32,), (32,)]\n",
      "task                          <matchzoo.tasks.ranking.Ranking object at 0x11755a9e8>\n",
      "metrics                       ['mae']\n",
      "loss                          mse\n",
      "optimizer                     adam\n",
      "trainable_embedding           False\n",
      "embedding_dim                 300\n",
      "vocab_size                    29925\n",
      "num_blocks                    1\n",
      "left_kernel_count             [32]\n",
      "left_kernel_size              [3]\n",
      "right_kernel_count            [32]\n",
      "right_kernel_size             [3]\n",
      "activation                    relu\n",
      "left_pool_size                [2]\n",
      "right_pool_size               [2]\n",
      "padding                       same\n",
      "dropout_rate                  0.0\n",
      "embedding_mat                 [[ 0.        0.        0.       ...  0.        0.        0.      ]\n",
      " [ 0.22072  -0.013626 -0.044703 ... -0.22704   0.068625  0.28811 ]\n",
      " [ 0.19115  -1.0562   -0.35448  ... -0.10276  -0.41686  -0.16848 ]\n",
      " ...\n",
      " [-0.75985   0.3457    0.24989  ...  0.15956   0.58392   0.11824 ]\n",
      " [-0.13821  -0.10926   0.037566 ...  0.31444  -0.11433   0.25622 ]\n",
      " [-0.28336   0.13993   0.042391 ...  0.15147   0.18191  -0.20927 ]]\n",
      "embedding_random_scale        0.2\n"
     ]
    }
   ],
   "source": [
    "arci_model.guess_and_fill_missing_params()\n",
    "print('arci parameters: ', arci_model.params)"
   ]
  },
  {
   "cell_type": "markdown",
   "metadata": {},
   "source": [
    "#### Model Training\n",
    "\n",
    "To train the model after all the parameters were settled, call:"
   ]
  },
  {
   "cell_type": "code",
   "execution_count": 13,
   "metadata": {},
   "outputs": [
    {
     "name": "stdout",
     "output_type": "stream",
     "text": [
      "Epoch 1/10\n",
      "200/200 [==============================] - 8s 42ms/step - loss: 0.0601 - mean_absolute_error: 0.1400\n",
      "Epoch 2/10\n",
      "200/200 [==============================] - 7s 36ms/step - loss: 0.0473 - mean_absolute_error: 0.1064\n",
      "Epoch 3/10\n",
      "200/200 [==============================] - 6s 32ms/step - loss: 0.0422 - mean_absolute_error: 0.1055\n",
      "Epoch 4/10\n",
      "200/200 [==============================] - 7s 33ms/step - loss: 0.0357 - mean_absolute_error: 0.1013\n",
      "Epoch 5/10\n",
      "200/200 [==============================] - 7s 34ms/step - loss: 0.0340 - mean_absolute_error: 0.1021\n",
      "Epoch 6/10\n",
      "200/200 [==============================] - 6s 32ms/step - loss: 0.0302 - mean_absolute_error: 0.1025\n",
      "Epoch 7/10\n",
      "200/200 [==============================] - 7s 34ms/step - loss: 0.0271 - mean_absolute_error: 0.0976\n",
      "Epoch 8/10\n",
      "200/200 [==============================] - 8s 38ms/step - loss: 0.0270 - mean_absolute_error: 0.1009\n",
      "Epoch 9/10\n",
      "200/200 [==============================] - 7s 33ms/step - loss: 0.0208 - mean_absolute_error: 0.0915\n",
      "Epoch 10/10\n",
      "200/200 [==============================] - 7s 37ms/step - loss: 0.0220 - mean_absolute_error: 0.0924\n"
     ]
    }
   ],
   "source": [
    "arci_model.build()\n",
    "arci_model.compile()\n",
    "# Fit the arci model on generator.\n",
    "arci_model.fit_generator(generator_tr, steps_per_epoch=200, epochs=10)\n",
    "# Make predictions on the first batch of test data\n",
    "X_te, y_te = generator_te[0]\n",
    "predictions = arci_model.predict([X_te.text_left, X_te.text_right])"
   ]
  },
  {
   "cell_type": "markdown",
   "metadata": {},
   "source": [
    "#### Make Prediction"
   ]
  },
  {
   "cell_type": "code",
   "execution_count": 14,
   "metadata": {},
   "outputs": [
    {
     "name": "stdout",
     "output_type": "stream",
     "text": [
      "Q757/D735-11 is predicted as [0.08036458]\n",
      "Q388/D386-5 is predicted as [0.33581525]\n",
      "Q599/D588-2 is predicted as [-0.11479004]\n",
      "Q222/D222-11 is predicted as [0.08873239]\n",
      "Q434/D429-0 is predicted as [-0.05860832]\n",
      "Q1159/D1114-9 is predicted as [-0.10271418]\n",
      "Q1100/D1059-9 is predicted as [0.0956099]\n",
      "Q157/D157-5 is predicted as [-0.1043179]\n",
      "Q906/D875-24 is predicted as [0.10146952]\n",
      "Q102/D102-6 is predicted as [0.03630586]\n",
      "Q2453/D2299-4 is predicted as [0.06969785]\n",
      "Q1572/D1490-8 is predicted as [0.02051202]\n",
      "Q451/D32-13 is predicted as [-0.00113887]\n",
      "Q1916/D1810-5 is predicted as [-0.02574496]\n",
      "Q1012/D976-0 is predicted as [0.03860567]\n",
      "Q2184/D2058-4 is predicted as [0.08200944]\n",
      "Q3015/D2783-1 is predicted as [0.0026016]\n",
      "Q3045/D2809-8 is predicted as [0.01946438]\n",
      "Q248/D248-7 is predicted as [0.05563026]\n",
      "Q1665/D1581-3 is predicted as [-0.04263255]\n",
      "Q2842/D2639-6 is predicted as [-0.01894098]\n",
      "Q2839/D2636-0 is predicted as [0.09609754]\n",
      "Q1817/D1719-0 is predicted as [0.19601767]\n",
      "Q744/D722-0 is predicted as [-0.04886929]\n",
      "Q144/D144-4 is predicted as [0.22047874]\n",
      "Q59/D59-6 is predicted as [-0.1624346]\n",
      "Q2509/D2349-1 is predicted as [-0.05429952]\n",
      "Q2323/D2186-2 is predicted as [0.0885343]\n",
      "Q2035/D1921-1 is predicted as [-0.01921768]\n",
      "Q1198/D1147-1 is predicted as [0.00360478]\n",
      "Q3013/D2781-10 is predicted as [0.17342156]\n",
      "Q1882/D1779-1 is predicted as [0.24351875]\n",
      "Q1760/D1667-0 is predicted as [0.15106256]\n",
      "Q463/D456-5 is predicted as [-0.35366663]\n",
      "Q2061/D1946-0 is predicted as [0.27711323]\n",
      "Q2803/D2604-7 is predicted as [0.08878794]\n",
      "Q1823/D1725-0 is predicted as [-0.05997192]\n",
      "Q2704/D2522-8 is predicted as [0.16179219]\n",
      "Q1992/D1878-26 is predicted as [0.08080638]\n",
      "Q20/D20-0 is predicted as [-0.16729152]\n",
      "Q1597/D1515-4 is predicted as [0.15871921]\n",
      "Q1383/D1320-0 is predicted as [-0.07578226]\n",
      "Q755/D733-5 is predicted as [-0.12831144]\n",
      "Q1712/D1623-1 is predicted as [-0.02557058]\n",
      "Q2385/D2239-5 is predicted as [0.01848914]\n",
      "Q322/D321-7 is predicted as [-0.26980105]\n",
      "Q676/D660-17 is predicted as [-0.04943664]\n",
      "Q2395/D2249-1 is predicted as [0.01844385]\n",
      "Q844/D818-0 is predicted as [0.01476211]\n",
      "Q724/D704-16 is predicted as [0.04928595]\n",
      "Q1817/D1719-4 is predicted as [0.33835813]\n",
      "Q3026/D71-0 is predicted as [0.08606307]\n",
      "Q930/D898-5 is predicted as [0.39150438]\n",
      "Q1442/D1373-4 is predicted as [0.39921218]\n",
      "Q984/D950-8 is predicted as [0.04096616]\n",
      "Q2842/D2639-0 is predicted as [-0.04932173]\n",
      "Q682/D665-0 is predicted as [0.13560753]\n",
      "Q1444/D1154-4 is predicted as [0.880948]\n",
      "Q2841/D2638-1 is predicted as [0.07365687]\n",
      "Q870/D843-11 is predicted as [-0.00620581]\n",
      "Q1264/D1209-1 is predicted as [-8.482952e-05]\n",
      "Q2618/D858-18 is predicted as [-0.31194928]\n",
      "Q2990/D2762-1 is predicted as [0.14605553]\n",
      "Q1012/D976-18 is predicted as [0.04961222]\n"
     ]
    }
   ],
   "source": [
    "for id_left, id_right, pred in zip(X_te.id_left, X_te.id_right, predictions):\n",
    "    print(\"{}/{} is predicted as {}\".format(id_left, id_right, pred))"
   ]
  },
  {
   "cell_type": "markdown",
   "metadata": {},
   "source": [
    "#### Model Persistence\n",
    "\n",
    "You can persist your trained model using `model.save()` and `load_model` function:\n",
    "\n",
    "```python\n",
    "from matchzoo import engine\n",
    "# Save the model to dir.\n",
    "arci_model.save('/your-model-saved-path')\n",
    "# And load the model from dir.\n",
    "engine.load_model('/your-model-saved-path')\n",
    "```"
   ]
  },
  {
   "cell_type": "markdown",
   "metadata": {},
   "source": [
    "## Reference\n",
    "\n",
    "[Hu et al. 2014] Baotian Hu, Zhengdong Lu, Hang Li, and Qingcai Chen. \"Convolutional neural network architectures for matching natural language sentences.\" In Advances in neural information processing systems (NIPS), pp. 2042-2050. 2014."
   ]
  }
 ],
 "metadata": {
  "kernelspec": {
   "display_name": "Python 3",
   "language": "python",
   "name": "python3"
  },
  "language_info": {
   "codemirror_mode": {
    "name": "ipython",
    "version": 3
   },
   "file_extension": ".py",
   "mimetype": "text/x-python",
   "name": "python",
   "nbconvert_exporter": "python",
   "pygments_lexer": "ipython3",
   "version": "3.6.3"
  }
 },
 "nbformat": 4,
 "nbformat_minor": 2
}
