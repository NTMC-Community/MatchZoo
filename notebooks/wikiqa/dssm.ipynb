{
 "cells": [
  {
   "cell_type": "markdown",
   "metadata": {},
   "source": [
    "### Build a Deep Semantic Structured Model (DSSM)\n",
    "\n",
    "<img src=\"https://github.com/NTMC-Community/MatchZoo/blob/2.0/artworks/matchzoo-logo.png?raw=True\" alt=\"logo\" style=\"width:600px;float: center\"/>\n",
    "\n",
    "This is a tutorial on training *Deep Semantic Similarity Model* [Huang et al. 2013](https://www.microsoft.com/en-us/research/wp-content/uploads/2016/02/DSSM_cikm13_talk_v4.pdf) model with [MatchZoo](https://github.com/faneshion/MatchZoo). We use [WikiQA](https://aclweb.org/anthology/D15-1237) as the example benchmark data set to show the usage.\n",
    "\n",
    "Features:\n",
    "\n",
    "1. Using the tri-letter based word hashing for scalable word representation.\n",
    "2. Using the deep neural net to extract high-level semantic representations.\n",
    "3. Using the click signal to guide the learning.\n",
    "\n",
    "\n",
    "\n",
    "*To walk through this notebook, you need approx 30 minutes.*\n",
    "\n",
    "-------"
   ]
  },
  {
   "cell_type": "markdown",
   "metadata": {},
   "source": [
    "**TL;DR**\n",
    "\n",
    "The following code block illustrates the main workflow of how to train a DSSM model. \n",
    "\n",
    "```python\n",
    "from matchzoo import preprocessor\n",
    "from matchzoo import generators\n",
    "from matchzoo import models\n",
    "\n",
    "train, test = ... # prepare your training data and test data.\n",
    "\n",
    "dssm_preprocessor = preprocessor.DSSMPreprocessor()\n",
    "processed_tr = dssm_preprocessor.fit_transform(train, stage='train')\n",
    "processed_te = dssm_preprocessor.fit_transform(test, stage='test')\n",
    "# DSSM expect dimensionality of letter-trigrams as input shape.\n",
    "# The fitted parameters has been stored in `context` during preprocessing on training data.\n",
    "input_shapes = processed_tr.context['input_shapes']\n",
    "\n",
    "generator_tr = generators.PointGenerator(processed_tr)\n",
    "generator_te = generators.PointGenerator(processed_te)\n",
    "# Example, train with generator, test with the first batch.\n",
    "X_te, y_te = generator_te[0]\n",
    "\n",
    "dssm_model = models.DSSMModel()\n",
    "dssm_model.params['input_shapes'] = input_shapes\n",
    "dssm_model.guess_and_fill_missing_params()\n",
    "dssm_model.build()\n",
    "dssm_model.compile()\n",
    "dssm_model.fit_generator(generator_tr)\n",
    "# Make predictions\n",
    "predictions = dssm_model.predict([X_te.text_left, X_te.text_right])\n",
    "```\n",
    "\n",
    "-----"
   ]
  },
  {
   "cell_type": "markdown",
   "metadata": {},
   "source": [
    "MatchZoo expect a list of *Quintuple* as training data:\n",
    "\n",
    "```python\n",
    "train = [('qid0', 'did0', 'query 0', 'document 0', 'label 0'),\n",
    "         ('qid0', 'did1', 'query 0', 'document 1', 'label 1'),\n",
    "          ...,\n",
    "         ('qid1', 'did2', 'query 1', 'document 2', 'label 3')]\n",
    "```\n",
    "\n",
    "The corresponded columns are `(text_left_id, text_right_id, text_left, text_right, label)`. For Information Retrieval task, *text_left* is referred as *query*, and *text_right* is document.\n",
    "\n",
    "For the test case, MatchZoo expect a list of *Quadruple* (we do not need labels) as input:\n",
    "\n",
    "```python\n",
    "test = [('qid9', 'did5', 'query 9', 'document 5'),\n",
    "         ...,\n",
    "        ('qid2', 'did7', 'query 2', 'document 7')]\n",
    "```"
   ]
  },
  {
   "cell_type": "markdown",
   "metadata": {},
   "source": [
    "### Table of Content\n",
    "\n",
    "+ Prepare WikiQA dataset\n",
    "    - Download\n",
    "    - Load\n",
    "    - Adjustment\n",
    "+ Preprocessing\n",
    "+ Data Generator\n",
    "+ Model Training\n",
    "    - Initialize\n",
    "    - Hyper-Parameters\n",
    "    - Make Prediction\n",
    "    - Model Persistence\n",
    "- Reference"
   ]
  },
  {
   "cell_type": "markdown",
   "metadata": {},
   "source": [
    "### Prepare WikiQA dataset\n",
    "\n",
    "#### Download\n",
    "\n",
    "We take WikiQA as the example benchmark dataset to show the usage of MatchZoo. Firstly you need to downlowd the data and uncompress the data, we provided the following script to help you download the dataset into `MatchZoo/data/WikiQA` folder, you can change the directory in the following script.\n",
    "\n",
    "If you already have WikiQA dataset downloaded on your machine, skip the following script."
   ]
  },
  {
   "cell_type": "code",
   "execution_count": 1,
   "metadata": {},
   "outputs": [
    {
     "name": "stdout",
     "output_type": "stream",
     "text": [
      "download WikiQA data...  mkdir -p ../../data/WikiQA/\n",
      "cd ../../data/WikiQA/\n",
      "wget https://download.microsoft.com/download/E/5/F/E5FCFCEE-7005-4814-853D-DAA7C66507E0/WikiQACorpus.zip\n",
      "unzip WikiQACorpus.zip\n",
      "\n"
     ]
    },
    {
     "data": {
      "text/plain": [
       "256"
      ]
     },
     "execution_count": 1,
     "metadata": {},
     "output_type": "execute_result"
    }
   ],
   "source": [
    "import os\n",
    "\n",
    "cmd = 'mkdir -p ../../data/WikiQA/\\n' \\\n",
    "      +'cd ../../data/WikiQA/\\n' \\\n",
    "      +'wget https://download.microsoft.com/download/E/5/F/E5FCFCEE-7005-4814-853D-DAA7C66507E0/WikiQACorpus.zip\\n' \\\n",
    "      +'unzip WikiQACorpus.zip\\n'\n",
    "print ('download WikiQA data... ', cmd)\n",
    "os.system(cmd)"
   ]
  },
  {
   "cell_type": "markdown",
   "metadata": {},
   "source": [
    "#### Load & Adjustment\n",
    "\n",
    "The *train/dev/test* files of WikiQA are *WikiQA-train.tsv*, *WikiQA-dev.tsv*, *WikiQA-test.tsv* under the uncompressed folder WikiQACorpus. The data format of WikiQA is as follows:\n",
    "\n",
    "`QuestionID\\tQuestion\\tDocumentID\\tDocumentTitle\\tSentenceID\\tSentence\\tLabel`\n",
    "\n",
    "We can convert this format to the expected input format of MatchZoo."
   ]
  },
  {
   "cell_type": "code",
   "execution_count": 5,
   "metadata": {},
   "outputs": [],
   "source": [
    "data_folder = '../../data/WikiQA/WikiQACorpus/'\n",
    "\n",
    "def read_data(input, stage):\n",
    "    output_list = []\n",
    "    index = 0\n",
    "    with open(input) as fin:\n",
    "        for l in fin:\n",
    "            tok = l.split('\\t')\n",
    "            if index != 0:\n",
    "                if stage == 'test':\n",
    "                    output_list.append((tok[0], tok[4], tok[1], tok[5])) # qid, did, q, d, label\n",
    "                else:\n",
    "                    output_list.append((tok[0], tok[4], tok[1], tok[5], tok[6])) # qid, did, q, d \n",
    "            index += 1\n",
    "    return output_list\n",
    "\n",
    "train = read_data(data_folder + 'WikiQA-train.tsv', stage='train')\n",
    "dev   = read_data(data_folder + 'WikiQA-dev.tsv', stage='dev')\n",
    "test  = read_data(data_folder + 'WikiQA-test.tsv', stage='test')"
   ]
  },
  {
   "cell_type": "markdown",
   "metadata": {},
   "source": [
    "### Preprocessing\n",
    "\n",
    "You can pre-process your DSSM input in three lines of code:"
   ]
  },
  {
   "cell_type": "code",
   "execution_count": 6,
   "metadata": {},
   "outputs": [
    {
     "name": "stderr",
     "output_type": "stream",
     "text": [
      "Start building vocabulary & fitting parameters.\n",
      "2118it [00:00, 3440.95it/s]\n",
      "18841it [00:09, 2079.73it/s]\n",
      "Start processing input data for train stage.\n",
      "2118it [00:00, 2442.61it/s]\n",
      "18841it [00:11, 1580.16it/s]\n",
      "Start processing input data for predict stage.\n",
      "633it [00:00, 2211.88it/s]\n",
      "5961it [00:03, 1574.15it/s]\n"
     ]
    }
   ],
   "source": [
    "# Initialize a dssm preprocessor.\n",
    "from matchzoo import preprocessor\n",
    "dssm_preprocessor = preprocessor.DSSMPreprocessor()\n",
    "processed_tr = dssm_preprocessor.fit_transform(train, stage='train')\n",
    "processed_te = dssm_preprocessor.fit_transform(test, stage='predict')"
   ]
  },
  {
   "cell_type": "markdown",
   "metadata": {},
   "source": [
    "**What is `processed_tr`?**\n",
    "\n",
    "`processed_tr` is a **MatchZoo DataPack** data structure (see `matchzoo/datapack.py`). It contains \n",
    "1. A *2-columns* `pandas DataFrame` called `left` to host all the pre-processed records including index and processed text to store `text_left` and `id_left`.\n",
    "2. A *2-columns* `pandas DataFrame` called `right` to host all the pre-processed records including index and processed text to store `text_right` and `id_right`.\n",
    "3. A *2-columns* `pandas DataFrame` called `relation` to host all the pre-processed records including index and index mapping `id_left` and `id_right`.\n",
    "4. A `context` property (dictionary) consists of all the parameters fitted during pre-processing. \n",
    "\n",
    "The `fit_transform` method is a linear combination of two methods:\n",
    "\n",
    "1. Fit parameters using the `fit` function, this only happens when `stage='train'`.\n",
    "2. Transform data into expected format.\n",
    "\n",
    "So the previous three lines code can also be written as:\n",
    "\n",
    "```python\n",
    "# Initialize a dssm preprocessor.\n",
    "from matchzoo import preprocessor\n",
    "dssm_preprocessor = preprocessor.DSSMPreprocessor()\n",
    "processed_tr = dssm_preprocessor.fit_transform(train, stage='train')\n",
    "# We do not need to fit any parameters during the testing stage.\n",
    "# So we can call transform directly.\n",
    "processed_te = dssm_preprocessor.transform(test, stage='test')\n",
    "```"
   ]
  },
  {
   "cell_type": "markdown",
   "metadata": {},
   "source": [
    "As described, the fitted parameters were stored in `context` property, to access the context, just call:\n",
    "\n",
    "```python\n",
    "print(processed_tr.context)\n",
    "```\n",
    "An example:"
   ]
  },
  {
   "cell_type": "code",
   "execution_count": 7,
   "metadata": {},
   "outputs": [
    {
     "name": "stdout",
     "output_type": "stream",
     "text": [
      "vocab size:  9643\n"
     ]
    }
   ],
   "source": [
    "print('vocab size: ', len(processed_tr.context['term_index']))"
   ]
  },
  {
   "cell_type": "markdown",
   "metadata": {},
   "source": [
    "**What has been stored in the `context?`** \n",
    "\n",
    "We stored `input_shapes` in the context property. Since DSSM model's model input shape is dynamic (it depends on user's training data to generate tri-letters), so you **must** manually set models input shape, we'll discuss it in the model training section.\n",
    "\n",
    "**What is `dssm_preprocessor` actually doing?**\n",
    "\n",
    "The `dssm_preprocessor` is calling a sequence of `process_units`. Each `process_unit` is designed to perform one atom operation on input data. For instance, in `dssm_preprocessor`, we called:\n",
    "\n",
    "1. TokenizeUnit: Perform tokenization on raw input data.\n",
    "2. LowercaseUnit: Transform all tokens into lower case.\n",
    "3. PuncRemovalUnit: Remove all the punctuations.\n",
    "4. StopRemovalUnit: Remove all the stopwords.\n",
    "5. NgramLetterUnit: Create n-gram-letters (by default we're creating tri-letters) as input data, for example: the token `test` we be transformed to `['#te', 'tes', 'est', 'st#']`.\n",
    "6. VocabularyUnit: Create vocabulary to get the dimensionality of `tri-letters`.\n",
    "7. WordHashingUnit: Create `WordHashing` layer as described in the paper.\n",
    "\n",
    "----\n",
    "\n",
    "### Data Generation\n",
    "\n",
    "For memory efficiency, we expect you to use **generator** to generate batches of data on the fly. For example, we can create a **PointGenerator** as follows:"
   ]
  },
  {
   "cell_type": "code",
   "execution_count": 8,
   "metadata": {},
   "outputs": [],
   "source": [
    "from matchzoo import generators\n",
    "from matchzoo import tasks\n",
    "generator_tr = generators.PointGenerator(inputs=processed_tr, task=tasks.Ranking(), batch_size=64, stage='train')\n",
    "generator_te = generators.PointGenerator(inputs=processed_te, task=tasks.Ranking(), batch_size=64, stage='predict')"
   ]
  },
  {
   "cell_type": "markdown",
   "metadata": {},
   "source": [
    "To get the first batch of trainig data, just call `X_train, y_train = generator[0]`.\n",
    "\n",
    "**What is PointGenerator?**\n",
    "**PointGenerator** is this case, it is assumed that each query-document pair in the training data has a numerical or ordinal score. Then the problem can be approximated by a regression/Classification problem — given a single query-document pair, predict its score.\n",
    "\n",
    "A number of existing supervised machine learning algorithms can be readily used for this purpose. Ordinal regression and classification algorithms can also be used in pointwise approach when they are used to predict the score of a single query-document pair, and it takes a small, finite number of values.\n",
    "\n",
    "**What is PairGenerator?**\n",
    "In this case, the problem is approximated by a classification problem — learning a binary classifier that can tell which document is better in a given pair of documents.\n",
    "\n",
    "In MatchZoo, **PairGenerator** generate one positive & `num_neg` negative examples per pair. As an example, to train a DSSM model (for document ranking), we use `num_neg=4`. \n",
    "\n",
    "**What is ListGenerator?**\n",
    "This generator try to directly optimize the value of evaluation measures, averaged over all queries in the training data. \n",
    "\n",
    "Chosse the appropriate generator based on your `task`.\n",
    "\n",
    "----\n",
    "\n",
    "### Train Your DSSM Model\n",
    "\n",
    "To train a DSSM model, we need to create an instance of DSSMModel:"
   ]
  },
  {
   "cell_type": "code",
   "execution_count": 9,
   "metadata": {},
   "outputs": [],
   "source": [
    "from matchzoo import models\n",
    "dssm_model = models.DSSMModel()"
   ]
  },
  {
   "cell_type": "markdown",
   "metadata": {},
   "source": [
    "Then, we need to set hyper-parameters to our DSSM Model. In general, there are **two types of hyper-parameters**:\n",
    "\n",
    "**Required parameters**: For DSSM, since the `input_shapes` depend on the dimensionality of fitted training data, you're required to set this parameter manually!"
   ]
  },
  {
   "cell_type": "code",
   "execution_count": 10,
   "metadata": {},
   "outputs": [],
   "source": [
    "# The fitted parameters is stored in the `context` property of pre-processor instance during the training stage.\n",
    "from matchzoo import losses\n",
    "from matchzoo import tasks\n",
    "input_shapes = processed_tr.context['input_shapes']\n",
    "dssm_model.params['input_shapes'] = input_shapes\n",
    "dssm_model.params['task'] = tasks.Ranking()"
   ]
  },
  {
   "cell_type": "markdown",
   "metadata": {},
   "source": [
    "**Tunable parameters**: For DSSM, you're allowed to tune these parameters:\n",
    "\n",
    "```python\n",
    "from matchzoo import tasks\n",
    "\n",
    "params = {'w_initializer': 'glorot_normal', # see keras weight_initializer.\n",
    "          'b_initializer': 'zeros', # see keras bias_initializer.\n",
    "          'dim_fan_out': 128, # Dimension of output layer.\n",
    "          'dim_hidden': 300, # Dimension of hidden layer.\n",
    "          'activation_hidden': 'tanh', # Activation function of hidden layer, see keras activation.\n",
    "          'num_hidden_layers': 2, # Number of hidden layers.\n",
    "          'optimizer': 'sgd', # By default, we're using sgd, see keras optimizer.\n",
    "          'task': tasks.Classification, # Default Classification, you can use tasks.Ranking\n",
    "          'loss': 'categorical_crossentropy', # categorical_crossentropy, see keras loss.\n",
    "          'metric': 'acc', # Accuracy by default, see keras metric.\n",
    "         }\n",
    "```"
   ]
  },
  {
   "cell_type": "markdown",
   "metadata": {},
   "source": [
    "Same as **required parameters**, use `dssm_model.params['parameter-name'] = parameter-value` to set the hyper parameters. If you want to keep everything by default values, just use"
   ]
  },
  {
   "cell_type": "code",
   "execution_count": 11,
   "metadata": {},
   "outputs": [
    {
     "name": "stdout",
     "output_type": "stream",
     "text": [
      "dssm parameters:  name                          DSSMModel\n",
      "model_class                   <class 'matchzoo.models.dssm_model.DSSMModel'>\n",
      "input_shapes                  [(9644,), (9644,)]\n",
      "task                          <matchzoo.tasks.ranking.Ranking object at 0x127b428d0>\n",
      "metrics                       ['mae']\n",
      "loss                          mse\n",
      "optimizer                     adam\n",
      "w_initializer                 glorot_normal\n",
      "b_initializer                 zeros\n",
      "dim_fan_out                   128\n",
      "dim_hidden                    300\n",
      "activation_hidden             tanh\n",
      "num_hidden_layers             2\n"
     ]
    }
   ],
   "source": [
    "dssm_model.guess_and_fill_missing_params()\n",
    "print('dssm parameters: ', dssm_model.params)"
   ]
  },
  {
   "cell_type": "markdown",
   "metadata": {},
   "source": [
    "#### Model Training\n",
    "\n",
    "To train the model after all the parameters were settled, call:"
   ]
  },
  {
   "cell_type": "code",
   "execution_count": 12,
   "metadata": {},
   "outputs": [
    {
     "name": "stdout",
     "output_type": "stream",
     "text": [
      "Epoch 1/10\n",
      "200/200 [==============================] - 11s 54ms/step - loss: 0.0597 - mean_absolute_error: 0.1541\n",
      "Epoch 2/10\n",
      "200/200 [==============================] - 10s 49ms/step - loss: 0.0444 - mean_absolute_error: 0.1082\n",
      "Epoch 3/10\n",
      "200/200 [==============================] - 10s 48ms/step - loss: 0.0376 - mean_absolute_error: 0.1042\n",
      "Epoch 4/10\n",
      "200/200 [==============================] - 10s 52ms/step - loss: 0.0343 - mean_absolute_error: 0.1057\n",
      "Epoch 5/10\n",
      "200/200 [==============================] - 10s 50ms/step - loss: 0.0309 - mean_absolute_error: 0.1074\n",
      "Epoch 6/10\n",
      "200/200 [==============================] - 10s 51ms/step - loss: 0.0275 - mean_absolute_error: 0.1037\n",
      "Epoch 7/10\n",
      "200/200 [==============================] - 11s 56ms/step - loss: 0.0232 - mean_absolute_error: 0.0986\n",
      "Epoch 8/10\n",
      "200/200 [==============================] - 10s 52ms/step - loss: 0.0224 - mean_absolute_error: 0.1013\n",
      "Epoch 9/10\n",
      "200/200 [==============================] - 10s 51ms/step - loss: 0.0171 - mean_absolute_error: 0.0905\n",
      "Epoch 10/10\n",
      "200/200 [==============================] - 10s 51ms/step - loss: 0.0169 - mean_absolute_error: 0.0919\n"
     ]
    }
   ],
   "source": [
    "dssm_model.build()\n",
    "dssm_model.compile()\n",
    "# Fit the dssm model on generator.\n",
    "dssm_model.fit_generator(generator_tr, steps_per_epoch=200, epochs=10)\n",
    "# Make predictions on the first batch of test data\n",
    "X_te, y_te = generator_te[0]\n",
    "predictions = dssm_model.predict([X_te.text_left, X_te.text_right])"
   ]
  },
  {
   "cell_type": "code",
   "execution_count": 13,
   "metadata": {},
   "outputs": [
    {
     "name": "stdout",
     "output_type": "stream",
     "text": [
      "Q1391/D1328-2 is predicted as [0.30649]\n",
      "Q523/D515-6 is predicted as [0.26608124]\n",
      "Q1389/D1326-2 is predicted as [0.12608601]\n",
      "Q333/D332-10 is predicted as [0.20222421]\n",
      "Q1583/D1501-8 is predicted as [-0.13000704]\n",
      "Q2201/D2074-11 is predicted as [0.52017313]\n",
      "Q2028/D1914-2 is predicted as [0.15043251]\n",
      "Q1937/D453-1 is predicted as [-0.24049379]\n",
      "Q1697/D1610-0 is predicted as [0.2737229]\n",
      "Q432/D427-8 is predicted as [0.01019711]\n",
      "Q2684/D2504-5 is predicted as [-0.21924268]\n",
      "Q2741/D1331-17 is predicted as [-0.07659646]\n",
      "Q2499/D1349-19 is predicted as [0.15225966]\n",
      "Q2228/D2099-2 is predicted as [-0.04368623]\n",
      "Q69/D69-3 is predicted as [0.07977355]\n",
      "Q2199/D2072-0 is predicted as [0.20606047]\n",
      "Q2009/D1895-8 is predicted as [0.04554044]\n",
      "Q2537/D2372-0 is predicted as [0.2289976]\n",
      "Q2640/D2464-2 is predicted as [0.1054885]\n",
      "Q1103/D1061-8 is predicted as [-0.10978747]\n",
      "Q2843/D2640-11 is predicted as [0.14241193]\n",
      "Q1689/D1603-2 is predicted as [-0.13612278]\n",
      "Q1409/D1342-12 is predicted as [0.07591998]\n",
      "Q1707/D1618-0 is predicted as [0.10140757]\n",
      "Q1154/D1110-15 is predicted as [0.2299492]\n",
      "Q2803/D2604-1 is predicted as [0.11334878]\n",
      "Q2421/D2272-7 is predicted as [0.11137176]\n",
      "Q2408/D330-4 is predicted as [-0.25215334]\n",
      "Q2921/D2703-10 is predicted as [0.20423509]\n",
      "Q3/D3-3 is predicted as [0.04657191]\n",
      "Q878/D849-11 is predicted as [-0.07301781]\n",
      "Q224/D224-11 is predicted as [0.1838811]\n",
      "Q2539/D2374-3 is predicted as [0.02239164]\n",
      "Q984/D950-0 is predicted as [0.14722845]\n",
      "Q508/D501-0 is predicted as [-0.07953025]\n",
      "Q1389/D1326-0 is predicted as [0.22319084]\n",
      "Q2582/D2412-1 is predicted as [-0.06640888]\n",
      "Q1126/D1084-2 is predicted as [-0.05568785]\n",
      "Q2286/D2151-3 is predicted as [0.04033216]\n",
      "Q2078/D1961-8 is predicted as [-0.0015807]\n",
      "Q2034/D1920-2 is predicted as [0.31233636]\n",
      "Q2608/D2435-3 is predicted as [0.1843187]\n",
      "Q329/D328-4 is predicted as [-0.01120787]\n",
      "Q1100/D1059-3 is predicted as [0.14538471]\n",
      "Q1905/D1800-13 is predicted as [0.6831178]\n",
      "Q271/D270-6 is predicted as [0.10937387]\n",
      "Q2201/D2074-21 is predicted as [0.15263203]\n",
      "Q1645/D1562-3 is predicted as [0.3235467]\n",
      "Q222/D222-2 is predicted as [0.19098797]\n",
      "Q1697/D1610-3 is predicted as [-0.11622225]\n",
      "Q2424/D2274-3 is predicted as [0.14870399]\n",
      "Q1418/D1241-12 is predicted as [0.00115577]\n",
      "Q855/D829-3 is predicted as [0.3463628]\n",
      "Q1760/D1667-1 is predicted as [-0.06415146]\n",
      "Q388/D386-11 is predicted as [0.02057724]\n",
      "Q676/D660-6 is predicted as [0.0173524]\n",
      "Q929/D897-7 is predicted as [0.32862684]\n",
      "Q1633/D1550-6 is predicted as [0.1331704]\n",
      "Q3013/D2781-3 is predicted as [-0.1365455]\n",
      "Q2662/D2485-4 is predicted as [0.33973214]\n",
      "Q2960/D2736-2 is predicted as [0.26157054]\n",
      "Q1992/D1878-7 is predicted as [0.2872369]\n",
      "Q1841/D1741-5 is predicted as [0.23694375]\n",
      "Q1226/D1035-7 is predicted as [0.1372786]\n"
     ]
    }
   ],
   "source": [
    "for id_left, id_right, pred in zip(X_te.id_left, X_te.id_right, predictions):\n",
    "    print(\"{}/{} is predicted as {}\".format(id_left, id_right, pred))"
   ]
  },
  {
   "cell_type": "markdown",
   "metadata": {},
   "source": [
    "#### Model Persistence\n",
    "\n",
    "You can persist your trained model using `model.save()` and `load_model` function:\n",
    "\n",
    "```python\n",
    "from matchzoo import engine\n",
    "# Save the model to dir.\n",
    "dssm_model.save('/your-model-saved-path')\n",
    "# And load the model from dir.\n",
    "engine.load_model('/your-model-saved-path')\n",
    "```"
   ]
  },
  {
   "cell_type": "markdown",
   "metadata": {},
   "source": [
    "## Reference\n",
    "\n",
    "[Huang et al. 2013] Po-Sen Huang, Xiaodong He, Jianfeng Gao, Li Deng, Alex Acero, and Larry Heck. 2013. Learning deep structured semantic models for web search using clickthrough data. In Proc. CIKM. ACM, 2333–2338."
   ]
  }
 ],
 "metadata": {
  "kernelspec": {
   "display_name": "Python 3",
   "language": "python",
   "name": "python3"
  },
  "language_info": {
   "codemirror_mode": {
    "name": "ipython",
    "version": 3
   },
   "file_extension": ".py",
   "mimetype": "text/x-python",
   "name": "python",
   "nbconvert_exporter": "python",
   "pygments_lexer": "ipython3",
   "version": "3.6.5"
  }
 },
 "nbformat": 4,
 "nbformat_minor": 2
}
